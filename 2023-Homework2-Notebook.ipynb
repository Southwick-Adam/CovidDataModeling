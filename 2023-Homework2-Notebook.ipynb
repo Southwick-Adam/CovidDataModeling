{
 "cells": [
  {
   "cell_type": "markdown",
   "metadata": {},
   "source": [
    "# Homework2\n",
    "\n",
    "Please upload to Brightspace a **.zip** archive containing your Jupyter Notebook with solutions and all data required to reproduce your solutions. \n",
    "\n",
    "Please also prepare a **requirements.txt** file which lists all the packages that you have used for your homework, one package per line. This will allow us to install all required packages.\n",
    "\n",
    "Please name your .zip archive using your full name and student id as follows - **Firstname_Lastname_12345678_COMP47350_Homework2.zip**. \n",
    "\n",
    "For your Notebook, please split the code and explanations into cells so that it is easy to see and read the results of each step of your solution. Please remember to name your variables and methods with self-explanatory names. Please remember to write comments and where needed, justifications, for the decisions you make and code you write. \n",
    "\n",
    "Your code and analysis is like a story that awaits to be read. Always start with an introduction about the problem and your understanding of the problem domain and data analytics solution and describe the steps you do and your findings from each step.\n",
    "\n",
    "The accepted file formats for the homework are:\n",
    "    - .ipynb\n",
    "    - .zip\n",
    "    - .png\n",
    "    - .pdf\n",
    "    - .csv\n",
    "    \n",
    "Please keep the whole code in a single notebook. Usage of external tools/files is discouraged for portability reasons. Files in any other format but mentioned above can be used but will not be considered for the submission (including .doc, .rar, .7z, .pages, .xlsx, .tex etc.). \n",
    "Any image format is allowed to be used as far as the images appear embedded in your report (.ipynb or .pdf or .html).\n",
    "\n",
    "**Deadline: Monday, 29 April, 2024, midnight.** \n"
   ]
  },
  {
   "cell_type": "markdown",
   "metadata": {},
   "source": [
    "## Exercises\n",
    "\n",
    "**This homework focuses on training and evaluating prediction models for a particular problem and dataset.**\n",
    "The data comes from the Centers for Disease Control and Prevention (CDC: https://covid.cdc.gov/covid-data-tracker/). CDC is a USA health protection agency and is in charge of collecting data about the COVID-19 pandemic, and in particular, tracking cases, deaths, and trends of COVID-19 in the United States. CDC collects and makes public deidentified individual-case data on a daily basis, submitted using standardized case reporting forms. **In this analysis, we focus on using the data collected by CDC to build a data analytics solution for death risk prediction.** \n",
    "\n",
    "The dataset we work with is a sample of the public data released by CDC, where the outcome for the target feature **death_yn** is known (i.e., either 'yes' or 'no'):\n",
    "https://data.cdc.gov/Case-Surveillance/COVID-19-Case-Surveillance-Public-Use-Data/vbim-akqf\n",
    "\n",
    "The goal in this homework is to work with the data to build and evaluate prediction models that capture the relationship between the descriptive features and the target feature **death_yn**. For this homework you are asked to use the same dataset allocated to you in Homework1 (you can use your cleaned/prepared CSV from Homework1 or start from the raw dataset, clean it according to concepts covered in the lectures/labs, then use it for training prediction models). \n",
    " \n",
    "There are 5 parts for this homework. Each part has an indicative maximum percentage given in brackets, e.g., part (1) has a maximum of 25% shown as [25]. The total that can be achieved is 100.\n",
    "\n",
    "\n",
    "(1). [25] **Data Understanding and Preparation:** Exploring relationships between feature pairs and selecting/transforming promising features based on a given training set.\n",
    "\n",
    "    - (1.1) Split the dataset into two datasets: 70% training and 30% test. Keep the test set aside. \n",
    "    - (1.2) On the training set:\n",
    "        - Plot the correlations between all the continuous features (if any). Discuss what you observe in these plots.\n",
    "        - For each continuous feature, plot its interaction with the target feature (a plot for each pair of   continuous feature and target feature). Discuss what you observe from these plots, e.g., which continuous features seem to be better at predicting the target feature? Choose a subset of continuous features you find promising (if any). Justify your choices.\n",
    "        - For each categorical feature, plot its pairwise interaction with the target feature. Discuss what  knowledge you gain from these plots, e.g., which categorical features seem to be better at predicting the target feature? Choose a subset of categorical features you find promising (if any). Justify your choices.\n",
    "      \n",
    "    \n",
    "(2). [15] **Predictive Modeling:** Linear Regression.  \n",
    "\n",
    "    - (2.1) On the training set, train a linear regression model to predict the target feature, using only the  descriptive features selected in exercise (1) above. \n",
    "    - (2.2) Print the coefficients learned by the model and discuss their role in the model (e.g., interpret the model by analysing each coefficient and how it relates each input feature to the target feature).    \n",
    "    - (2.3) Print the predicted target feature value for the first 10 training examples. Threshold the predicted target feature value given by the linear regression model at 0.5, to get the predicted class for each example. Print the predicted class for the first 10 examples. Print a few classification evaluation measures computed on the full training set (e.g., Accuracy, Confusion matrix, Precision, Recall, F1) and discuss your findings so far.\n",
    "    - (2.4) Evaluate the model using classification evaluation measures on the hold-out (30% examples) test set. Compare these results with the evaluation results obtained on the training (70%) dataset. Also compare these results with a cross-validated model (i.e., a new model trained and evaluated using cross-validation on the full dataset). You can use classic k-fold cross-validation or repeated random train/test (70/30) splits. Compare the cross-validation metrics to those obtained on the single train/test split and discuss your findings.\n",
    "    \n",
    "(3). [15] **Predictive Modeling:** Logistic Regression.  \n",
    "\n",
    "    - (3.1) On the training set, train a logistic regression model to predict the target feature, using the descriptive features selected in exercise (1) above.   \n",
    "    - (3.2) Print the coefficients learned by the model and discuss their role in the model (e.g., interpret the model).    \n",
    "    - (3.3) Print the predicted target feature value for the first 10 training examples. Print the predicted class for the first 10 examples. Print a few classification evaluation measures computed on the full training set (e.g., Accuracy, Confusion matrix, Precision, Recall, F1) and discuss your findings so far.\n",
    "    - (3.4) Evaluate the model using classification evaluation measures on the hold-out (30% examples) test set. Compare these results with the evaluation results obtained when using the training (70%) dataset for evaluation. Also compare these results with a cross-validated model (i.e., a new model trained and evaluated using cross-validation on the full dataset). You can use classic k-fold cross-validation or repeated train/test (70/30) splits. Compare the cross-validation metrics to those obtained on the single train/test split and discuss your findings.\n",
    "    \n",
    "    \n",
    "(4). [20] **Predictive Modeling:** Random Forest.  \n",
    "\n",
    "    - (4.1) On the training set, train a random forest model to predict the target feature, using the descriptive features selected in exercise (1) above.   \n",
    "    - (4.2) Can you interpret the random forest model? Discuss any knowledge you can gain in regard of the working of this model.   \n",
    "    - (4.3) Print the predicted target feature value for the first 10 training examples. Print the predicted class for the first 10 examples. Print a few classification evaluation measures computed on the full training set (e.g., Accuracy, Confusion matrix, Precision, Recall, F1) and discuss your findings so far.\n",
    "    - (4.4) Evaluate the model using classification evaluation measures on the hold-out (30% examples) test set. Compare these results with the evaluation results obtained when using the training (70%) dataset for evaluation. Also compare these results with a cross-validated model (i.e., a new model trained and evaluated using cross-validation on the full dataset). You can use classic k-fold cross-validation or repeated train/test (70/30) splits. Compare the cross-validation metrics to those obtained on the single train/test split and to the Random Forest out-of-sample error and discuss your findings.\n",
    "    \n",
    "(5). [25] **Improving Predictive Models.**\n",
    "\n",
    "    - (5.1) Which model of the ones trained above performs better at predicting the target feature? Is it more   accurate than a simple model that always predicts the majority class (i.e., if 'no' is the majority class in your dataset, the simple model always predicts 'no' for the target feature)? Justify your answers. What is a good baseline for this task?\n",
    "    - (5.2) Summarise your understanding of the problem and of your predictive modeling results so far. Can you think of any new ideas to improve the best model so far (e.g., by using furher data prep such as: feature selection, feature re-scaling, creating new features, combining predictive models, or using other domain knowledge)? Please show how your ideas actually work in practice (with code), by training and evaluating your proposed models. Summarise your findings so far. "
   ]
  },
  {
   "cell_type": "code",
   "execution_count": 2,
   "metadata": {},
   "outputs": [],
   "source": [
    "import pandas as pd\n",
    "import numpy as np\n",
    "import matplotlib.pyplot as plt\n",
    "import seaborn as sns"
   ]
  },
  {
   "cell_type": "markdown",
   "metadata": {},
   "source": [
    "I'm starting with the final form of the data that I ended assignment 1 with. This includes all data cleaning I did, as well as the addition of the extra features I added."
   ]
  },
  {
   "cell_type": "code",
   "execution_count": 3,
   "metadata": {},
   "outputs": [],
   "source": [
    "df = pd.read_csv('data.csv', keep_default_na=True, delimiter=',', skipinitialspace=True)"
   ]
  },
  {
   "cell_type": "markdown",
   "metadata": {},
   "source": [
    "## Pre Excersise Prep"
   ]
  },
  {
   "cell_type": "markdown",
   "metadata": {},
   "source": [
    "I need to check the data and make a few small changes based on the feedback i was given in assignment 1."
   ]
  },
  {
   "cell_type": "code",
   "execution_count": 4,
   "metadata": {},
   "outputs": [
    {
     "name": "stdout",
     "output_type": "stream",
     "text": [
      "<class 'pandas.core.frame.DataFrame'>\n",
      "RangeIndex: 49868 entries, 0 to 49867\n",
      "Data columns (total 14 columns):\n",
      " #   Column                    Non-Null Count  Dtype  \n",
      "---  ------                    --------------  -----  \n",
      " 0   case_month                49868 non-null  object \n",
      " 1   res_state                 49868 non-null  object \n",
      " 2   county_fips_code          46995 non-null  float64\n",
      " 3   age_group                 49542 non-null  object \n",
      " 4   sex                       48637 non-null  object \n",
      " 5   race                      37425 non-null  object \n",
      " 6   current_status            49868 non-null  object \n",
      " 7   hosp_yn                   32640 non-null  object \n",
      " 8   icu_yn                    4033 non-null   object \n",
      " 9   death_yn                  49868 non-null  object \n",
      " 10  underlying_conditions_yn  4207 non-null   object \n",
      " 11  party                     49868 non-null  object \n",
      " 12  median_household_income   46995 non-null  float64\n",
      " 13  county_density            46995 non-null  float64\n",
      "dtypes: float64(3), object(11)\n",
      "memory usage: 5.3+ MB\n"
     ]
    }
   ],
   "source": [
    "df.info()"
   ]
  },
  {
   "cell_type": "markdown",
   "metadata": {},
   "source": [
    "most of these are read as object datatypes so I need to change that."
   ]
  },
  {
   "cell_type": "markdown",
   "metadata": {},
   "source": [
    "First I will make the case month a continous datatype so it can track changes over time and not make each month an invididual category. This is based on feedback i recieved in assignment 1."
   ]
  },
  {
   "cell_type": "code",
   "execution_count": 5,
   "metadata": {},
   "outputs": [],
   "source": [
    "df['case_month'] = pd.to_datetime(df['case_month'], format='%Y-%m')\n",
    "\n",
    "# Set a reference date\n",
    "start_date = pd.to_datetime('2020-01-01')\n",
    "\n",
    "# Calculate the continuous feature as months since the reference date\n",
    "df['months_since_start'] = (df['case_month'].dt.year - start_date.year) * 12 + (df['case_month'].dt.month - start_date.month)"
   ]
  },
  {
   "cell_type": "markdown",
   "metadata": {},
   "source": [
    "Next I am going to set the types of all categorical features to \"category\". This includes all featured except for \"county_density\", \"median_household_income\" , and \"case_month\"."
   ]
  },
  {
   "cell_type": "code",
   "execution_count": 6,
   "metadata": {},
   "outputs": [],
   "source": [
    "for object in df.select_dtypes(['object']).columns:\n",
    "    df[object] = df[object].astype('category')"
   ]
  },
  {
   "cell_type": "markdown",
   "metadata": {},
   "source": [
    "This didn't catch county fips code as its read as a float64 by default, so i'll do that one manually."
   ]
  },
  {
   "cell_type": "code",
   "execution_count": 7,
   "metadata": {},
   "outputs": [],
   "source": [
    "df[\"county_fips_code\"] = df[\"county_fips_code\"].astype('category')"
   ]
  },
  {
   "cell_type": "markdown",
   "metadata": {},
   "source": [
    "Let test to make sure everything looks good"
   ]
  },
  {
   "cell_type": "code",
   "execution_count": 8,
   "metadata": {},
   "outputs": [
    {
     "name": "stdout",
     "output_type": "stream",
     "text": [
      "<class 'pandas.core.frame.DataFrame'>\n",
      "RangeIndex: 49868 entries, 0 to 49867\n",
      "Data columns (total 15 columns):\n",
      " #   Column                    Non-Null Count  Dtype         \n",
      "---  ------                    --------------  -----         \n",
      " 0   case_month                49868 non-null  datetime64[ns]\n",
      " 1   res_state                 49868 non-null  category      \n",
      " 2   county_fips_code          46995 non-null  category      \n",
      " 3   age_group                 49542 non-null  category      \n",
      " 4   sex                       48637 non-null  category      \n",
      " 5   race                      37425 non-null  category      \n",
      " 6   current_status            49868 non-null  category      \n",
      " 7   hosp_yn                   32640 non-null  category      \n",
      " 8   icu_yn                    4033 non-null   category      \n",
      " 9   death_yn                  49868 non-null  category      \n",
      " 10  underlying_conditions_yn  4207 non-null   category      \n",
      " 11  party                     49868 non-null  category      \n",
      " 12  median_household_income   46995 non-null  float64       \n",
      " 13  county_density            46995 non-null  float64       \n",
      " 14  months_since_start        49868 non-null  int32         \n",
      "dtypes: category(11), datetime64[ns](1), float64(2), int32(1)\n",
      "memory usage: 1.9 MB\n"
     ]
    }
   ],
   "source": [
    "df.info()"
   ]
  },
  {
   "cell_type": "markdown",
   "metadata": {},
   "source": [
    "I'm going to save these categorical and continous features as theyre own variables."
   ]
  },
  {
   "cell_type": "code",
   "execution_count": 9,
   "metadata": {},
   "outputs": [],
   "source": [
    "category_features = df.select_dtypes(['category']).columns\n",
    "continuous_features = df.select_dtypes(include=['float64', 'int32']).columns"
   ]
  },
  {
   "cell_type": "markdown",
   "metadata": {},
   "source": [
    "Next I want to convert all of the NAN values in my categorical functions to \"Missing\" vaues to make it clearer that those row are missing those values. This is based on feedback i recieved in assignment 1."
   ]
  },
  {
   "cell_type": "code",
   "execution_count": 10,
   "metadata": {},
   "outputs": [],
   "source": [
    "for column in category_features:\n",
    "    # Adding 'Missing' to the categories\n",
    "    df[column] = df[column].cat.add_categories('Missing')\n",
    "    # Replacing NaN values with 'Missing'\n",
    "    df[column] = df[column].fillna('Missing')"
   ]
  },
  {
   "cell_type": "markdown",
   "metadata": {},
   "source": [
    "because I want to plot the continuous features I cant have NAN values in them. Lets see how many NAN values they currently have."
   ]
  },
  {
   "cell_type": "code",
   "execution_count": 11,
   "metadata": {},
   "outputs": [
    {
     "name": "stdout",
     "output_type": "stream",
     "text": [
      "2873\n",
      "2873\n",
      "0\n"
     ]
    }
   ],
   "source": [
    "for column in continuous_features:\n",
    "    print(df[column].isna().sum())"
   ]
  },
  {
   "cell_type": "markdown",
   "metadata": {},
   "source": [
    "The only features with NAN values are county_density and median_houseld_income"
   ]
  },
  {
   "cell_type": "markdown",
   "metadata": {},
   "source": [
    "I'm going to replace these NAN values with 0s since there is no possible way that anyone could live in a county where the avg median income is 0 or where the population density is 0 therefore 0 will mark a lack of input for both of these columns."
   ]
  },
  {
   "cell_type": "code",
   "execution_count": 12,
   "metadata": {},
   "outputs": [],
   "source": [
    "for column in continuous_features:\n",
    "    df[column] = df[column].fillna(0)"
   ]
  },
  {
   "cell_type": "markdown",
   "metadata": {},
   "source": [
    "Lets test to make sure there are no more NAN values in our continous features."
   ]
  },
  {
   "cell_type": "code",
   "execution_count": 13,
   "metadata": {},
   "outputs": [
    {
     "name": "stdout",
     "output_type": "stream",
     "text": [
      "0\n",
      "0\n",
      "0\n"
     ]
    }
   ],
   "source": [
    "for column in continuous_features:\n",
    "    print(df[column].isna().sum())"
   ]
  },
  {
   "cell_type": "markdown",
   "metadata": {},
   "source": [
    "## Excersise 1\n",
    "\n"
   ]
  },
  {
   "cell_type": "markdown",
   "metadata": {},
   "source": [
    "#### 1.1 split the data into training and test split."
   ]
  },
  {
   "cell_type": "markdown",
   "metadata": {},
   "source": [
    "before making our training and test split lets change the values of death_yn form yes and no to 1 and zero so they can be plotted"
   ]
  },
  {
   "cell_type": "code",
   "execution_count": 14,
   "metadata": {},
   "outputs": [],
   "source": [
    "df['death_yn'] = df['death_yn'].map({'Yes': 1, 'No': 0})"
   ]
  },
  {
   "cell_type": "markdown",
   "metadata": {},
   "source": [
    "now we can make our splits"
   ]
  },
  {
   "cell_type": "code",
   "execution_count": 15,
   "metadata": {},
   "outputs": [],
   "source": [
    "#this makes the training set 70% of the values\n",
    "train = df.sample(frac=0.7, random_state=0)\n",
    "#this makes the test set 30% of the values\n",
    "test = df.drop(train.index)"
   ]
  },
  {
   "cell_type": "markdown",
   "metadata": {},
   "source": [
    "1.2 plot continous features against each other"
   ]
  },
  {
   "cell_type": "code",
   "execution_count": 16,
   "metadata": {},
   "outputs": [
    {
     "data": {
      "image/png": "[encoded data removed]",
      "text/plain": [
       "<Figure size 500x300 with 2 Axes>"
      ]
     },
     "metadata": {},
     "output_type": "display_data"
    }
   ],
   "source": [
    "correlation_matrix = train[['months_since_start', 'median_household_income', 'county_density']].corr()\n",
    "plt.figure(figsize=(5, 3))\n",
    "sns.heatmap(correlation_matrix, annot=True, cmap='coolwarm')\n",
    "plt.title('Correlation Heatmap')\n",
    "plt.show()"
   ]
  },
  {
   "cell_type": "markdown",
   "metadata": {},
   "source": [
    "I'm surprised that these two features are not more closely correlated, as I would think that those who live in metropolitan areas would, on average, have higher household incomes, and more population density. Those who lived in the country would have the opposite. Maybe the existance of suberbs which are traditionally high income low density area affects the data in the opposite way. Another possibility is that the median income in cities is lower than I suspect as alot of lower income families live in some urban areas.\n",
    "\n",
    "The correlation between month since start and county density show that those in denser areas got it faster than those in less dense areas which makes sense."
   ]
  },
  {
   "cell_type": "markdown",
   "metadata": {},
   "source": [
    "#### 1.2 Plot continuous features against target feature."
   ]
  },
  {
   "cell_type": "code",
   "execution_count": 17,
   "metadata": {},
   "outputs": [
    {
     "data": {
      "image/png": "[encoded data removed]",
      "text/plain": [
       "<Figure size 500x300 with 2 Axes>"
      ]
     },
     "metadata": {},
     "output_type": "display_data"
    }
   ],
   "source": [
    "correlation_matrix = train[['months_since_start', 'death_yn']].corr()\n",
    "plt.figure(figsize=(5, 3))\n",
    "sns.heatmap(correlation_matrix, annot=True, cmap='coolwarm')\n",
    "plt.title('Correlation Heatmap')\n",
    "plt.show()"
   ]
  },
  {
   "cell_type": "markdown",
   "metadata": {},
   "source": [
    "This is fairly strong correlation. It shows that that the later in time that the dissease was contracted the less likely it was to be fatal. This is explainable with the creation and distribution of vaccines that lowered the mortality rate significatly. I will keep this in my subset."
   ]
  },
  {
   "cell_type": "code",
   "execution_count": 18,
   "metadata": {},
   "outputs": [
    {
     "data": {
      "image/png": "[encoded data removed]",
      "text/plain": [
       "<Figure size 500x300 with 2 Axes>"
      ]
     },
     "metadata": {},
     "output_type": "display_data"
    }
   ],
   "source": [
    "correlation_matrix = train[['median_household_income', 'death_yn']].corr()\n",
    "plt.figure(figsize=(5, 3))\n",
    "sns.heatmap(correlation_matrix, annot=True, cmap='coolwarm')\n",
    "plt.title('Correlation Heatmap')\n",
    "plt.show()"
   ]
  },
  {
   "cell_type": "markdown",
   "metadata": {},
   "source": [
    "Median household income does not correlate strongly with the target feature. There is a very slight lowered chance of death if you have a higher income but it seems that, once you have a case of covid your income mostly doesn't matter. This is probably because there is not really any additional care that is available for purchase that can significantly lower the chance of death from covid. This could also be explained by the higher median income having access to better medical care, but also tending to live in denser areas as the chart above shows, and as we can see below living in a denser area leads to a higher chance of death. These factors could cancel each other out and cause the income to be weakly correlated with death overall."
   ]
  },
  {
   "cell_type": "code",
   "execution_count": 19,
   "metadata": {},
   "outputs": [
    {
     "data": {
      "image/png": "[encoded data removed]",
      "text/plain": [
       "<Figure size 500x300 with 2 Axes>"
      ]
     },
     "metadata": {},
     "output_type": "display_data"
    }
   ],
   "source": [
    "correlation_matrix = train[['county_density', 'death_yn']].corr()\n",
    "plt.figure(figsize=(5, 3))\n",
    "sns.heatmap(correlation_matrix, annot=True, cmap='coolwarm')\n",
    "plt.title('Correlation Heatmap')\n",
    "plt.show()"
   ]
  },
  {
   "cell_type": "markdown",
   "metadata": {},
   "source": [
    "This is much more strongly correlated. This is likely due to the hospitals in denser areas having fewer resources to devote to each patient leading to greater mortality. Hospitals in dense counties running out of oxygen and even spare beds was common durring the worst of covid, so it makes sense that this is more strongly correlated."
   ]
  },
  {
   "cell_type": "markdown",
   "metadata": {},
   "source": [
    "##### plot categorical pairwise interaction"
   ]
  },
  {
   "cell_type": "markdown",
   "metadata": {},
   "source": [
    "res_state"
   ]
  },
  {
   "cell_type": "code",
   "execution_count": 20,
   "metadata": {},
   "outputs": [
    {
     "data": {
      "image/png": "[encoded data removed]",
      "text/plain": [
       "<Figure size 400x1000 with 2 Axes>"
      ]
     },
     "metadata": {},
     "output_type": "display_data"
    }
   ],
   "source": [
    "ct = pd.crosstab(train['res_state'], train['death_yn'], normalize='index') * 100  # Multiply by 100 to convert to percentage\n",
    "\n",
    "# Set up the matplotlib figure\n",
    "plt.figure(figsize=(4, 10))\n",
    "\n",
    "# Plot the heatmap with percentage annotations\n",
    "sns.heatmap(ct, annot=True, cmap='coolwarm', fmt=\".1f\")\n",
    "plt.title(\"Death_yn percentages by res_state\")\n",
    "plt.ylabel('res_state')\n",
    "plt.xlabel('death_yn')\n",
    "plt.show()"
   ]
  },
  {
   "cell_type": "markdown",
   "metadata": {},
   "source": [
    "While most states hover between 80% and 95% survival, there are some that have much lower survival percentages in the 50% - 80% range. There are also 12 states that show more than half of their cases leading to death. Of these, 6 states show 100% fatality rate. I suspect this shows a difference in the way these state collect data which means these states could be extremely strong correlators for death. We also see 2 states with no fatalities. Because of these very strongly correlated states and the strng differences in mortality rate between states, i think that these will be very useful for modeling death."
   ]
  },
  {
   "cell_type": "code",
   "execution_count": 21,
   "metadata": {},
   "outputs": [
    {
     "name": "stdout",
     "output_type": "stream",
     "text": [
      "39884\n",
      "9984\n"
     ]
    }
   ],
   "source": [
    "print((df['death_yn'] == 0).sum())\n",
    "print((df['death_yn'] == 1).sum())"
   ]
  },
  {
   "cell_type": "code",
   "execution_count": 22,
   "metadata": {},
   "outputs": [
    {
     "name": "stdout",
     "output_type": "stream",
     "text": [
      "0.2503259452411995\n"
     ]
    }
   ],
   "source": [
    "print(9984/39884)"
   ]
  },
  {
   "cell_type": "markdown",
   "metadata": {},
   "source": [
    "Since the avg death rate in the dataset is about 25% I will create 2 new features. One tracks if the case is in a state with a high death rate (>60%) and the other a low date rate (<10%) These features will be flaged with 1 and 0 for yes and no."
   ]
  },
  {
   "cell_type": "code",
   "execution_count": 23,
   "metadata": {},
   "outputs": [],
   "source": [
    "high_death_rate_states = []\n",
    "low_death_rate_states = []\n",
    "\n",
    "for state, row in ct.iterrows():\n",
    "    if row[1] > 90:  # Check if any value in the row is greater than 0.9\n",
    "        high_death_rate_states.append(state)\n",
    "    if row[0] > 40: \n",
    "        low_death_rate_states.append(state)"
   ]
  },
  {
   "cell_type": "code",
   "execution_count": 24,
   "metadata": {},
   "outputs": [
    {
     "name": "stdout",
     "output_type": "stream",
     "text": [
      "['CA', 'IL', 'LA', 'MO', 'ND', 'PR', 'SD', 'WA']\n",
      "['AK', 'AL', 'AR', 'AZ', 'CO', 'DC', 'FL', 'IA', 'ID', 'IN', 'KS', 'KY', 'MD', 'ME', 'MI', 'MN', 'MS', 'MT', 'NC', 'NE', 'NH', 'NJ', 'NV', 'NY', 'OH', 'OK', 'OR', 'PA', 'RI', 'SC', 'TN', 'TX', 'UT', 'VA', 'VI', 'VT', 'WI', 'WY']\n"
     ]
    }
   ],
   "source": [
    "print(high_death_rate_states)\n",
    "print(low_death_rate_states)"
   ]
  },
  {
   "cell_type": "code",
   "execution_count": 25,
   "metadata": {},
   "outputs": [],
   "source": [
    "df['state_death_high'] = np.where(df['res_state'].isin(high_death_rate_states), 1, 0)\n",
    "df['state_death_low'] = np.where(df['res_state'].isin(low_death_rate_states), 1, 0)"
   ]
  },
  {
   "cell_type": "markdown",
   "metadata": {},
   "source": [
    "county_fips_code"
   ]
  },
  {
   "cell_type": "code",
   "execution_count": 26,
   "metadata": {},
   "outputs": [
    {
     "data": {
      "image/png": "[encoded data removed]",
      "text/plain": [
       "<Figure size 400x400 with 2 Axes>"
      ]
     },
     "metadata": {},
     "output_type": "display_data"
    }
   ],
   "source": [
    "ct = pd.crosstab(train['county_fips_code'], train['death_yn'], normalize='index') * 100  # Multiply by 100 to convert to percentage\n",
    "\n",
    "# Set up the matplotlib figure\n",
    "plt.figure(figsize=(4, 4))\n",
    "\n",
    "# Plot the heatmap with percentage annotations\n",
    "sns.heatmap(ct, annot=True, cmap='coolwarm', fmt=\".1f\")\n",
    "plt.title(\"Death_yn percentages by county_fips_code\")\n",
    "plt.ylabel('county_fips_code')\n",
    "plt.xlabel('death_yn')\n",
    "plt.show()"
   ]
  },
  {
   "cell_type": "markdown",
   "metadata": {},
   "source": [
    "There are simply too many categories here to be useful. I have already have res_state acting as a bin for this feature, and I have created two continuous features using this that are ealier to plot and have more significant correlation than this feature. For this reason I will not choose this feature for my subset."
   ]
  },
  {
   "cell_type": "markdown",
   "metadata": {},
   "source": [
    "age_group"
   ]
  },
  {
   "cell_type": "code",
   "execution_count": 27,
   "metadata": {},
   "outputs": [
    {
     "data": {
      "image/png": "[encoded data removed]",
      "text/plain": [
       "<Figure size 400x400 with 2 Axes>"
      ]
     },
     "metadata": {},
     "output_type": "display_data"
    }
   ],
   "source": [
    "ct = pd.crosstab(train['age_group'], train['death_yn'], normalize='index') * 100  # Multiply by 100 to convert to percentage\n",
    "\n",
    "# Set up the matplotlib figure\n",
    "plt.figure(figsize=(4, 4))\n",
    "\n",
    "# Plot the heatmap with percentage annotations\n",
    "sns.heatmap(ct, annot=True, cmap='coolwarm', fmt=\".1f\")\n",
    "plt.title(\"Death_yn percentages by age_group\")\n",
    "plt.ylabel('age_group')\n",
    "plt.xlabel('death_yn')\n",
    "plt.show()"
   ]
  },
  {
   "cell_type": "markdown",
   "metadata": {},
   "source": [
    "We can clearly see here that as the age range increases the chance of death goes up exponentially. Especially the jump between 50 - 64 and 65+ is a strong indacator of mortality. I think this will be very useful for modeling so i am including into my subset."
   ]
  },
  {
   "cell_type": "markdown",
   "metadata": {},
   "source": [
    "I will make 4 new features. Each one will flag 1 if the row is in that specified age group and 0 if not"
   ]
  },
  {
   "cell_type": "code",
   "execution_count": 28,
   "metadata": {},
   "outputs": [],
   "source": [
    "df['0_to_17'] = np.where(df['age_group'] == '0 - 17 years', 1, 0)\n",
    "df['18_to_49'] = np.where(df['age_group'] == '18 to 49 years', 1, 0)\n",
    "df['50_to_64'] = np.where(df['age_group'] == '50 to 64 years', 1, 0)\n",
    "df['65_plus'] = np.where(df['age_group'] == '65+ years', 1, 0)"
   ]
  },
  {
   "cell_type": "markdown",
   "metadata": {},
   "source": [
    "sex"
   ]
  },
  {
   "cell_type": "code",
   "execution_count": 29,
   "metadata": {},
   "outputs": [
    {
     "data": {
      "image/png": "[encoded data removed]",
      "text/plain": [
       "<Figure size 400x400 with 2 Axes>"
      ]
     },
     "metadata": {},
     "output_type": "display_data"
    }
   ],
   "source": [
    "ct = pd.crosstab(train['sex'], train['death_yn'], normalize='index') * 100  # Multiply by 100 to convert to percentage\n",
    "\n",
    "# Set up the matplotlib figure\n",
    "plt.figure(figsize=(4, 4))\n",
    "\n",
    "# Plot the heatmap with percentage annotations\n",
    "sns.heatmap(ct, annot=True, cmap='coolwarm', fmt=\".1f\")\n",
    "plt.title(\"Death_yn percentages by sex\")\n",
    "plt.ylabel('sex')\n",
    "plt.xlabel('death_yn')\n",
    "plt.show()"
   ]
  },
  {
   "cell_type": "markdown",
   "metadata": {},
   "source": [
    "interestigly, both male and female are near the avg mortality percentage values for the overall dataset. Missing however is very skewed twoards survival. This is likely because of the small ammount of missing values for this dataset. Because there doesn't seem to be a large correlation difference between genders, and because of the large Missing value which could skew the model, I will not include this value in my subset."
   ]
  },
  {
   "cell_type": "markdown",
   "metadata": {},
   "source": [
    "race"
   ]
  },
  {
   "cell_type": "code",
   "execution_count": 30,
   "metadata": {},
   "outputs": [
    {
     "data": {
      "image/png": "[encoded data removed]",
      "text/plain": [
       "<Figure size 400x400 with 2 Axes>"
      ]
     },
     "metadata": {},
     "output_type": "display_data"
    }
   ],
   "source": [
    "ct = pd.crosstab(train['race'], train['death_yn'], normalize='index') * 100  # Multiply by 100 to convert to percentage\n",
    "\n",
    "# Set up the matplotlib figure\n",
    "plt.figure(figsize=(4, 4))\n",
    "\n",
    "# Plot the heatmap with percentage annotations\n",
    "sns.heatmap(ct, annot=True, cmap='coolwarm', fmt=\".1f\")\n",
    "plt.title(\"Death_yn percentages by race\")\n",
    "plt.ylabel('race')\n",
    "plt.xlabel('death_yn')\n",
    "plt.show()"
   ]
  },
  {
   "cell_type": "markdown",
   "metadata": {},
   "source": [
    "a huge majority (~30,000 rows) of the overall dataset is white, with black and Missing being in seconds and third place with a little over 5,000 rows reach. This means that 'white' basically rflects the avg of the entire dataset here. All the other races show a stronger correlation to mortality, but some of them represent such a small portion of the dataset that I don't think they would be useful individually. Theres also the issue of Missing being such a large category with a much stronger correlation with death. It seems likely since other races are more likely to die than white cases that a large number of the cases with missing race are not white. Because of these facts, I propose creating a new feature which only shows if the case is white or not. This will allow the non white cases to hold a large enough percent of the dataset to be useful in modeling and hopefully fix the issue of missing values."
   ]
  },
  {
   "cell_type": "markdown",
   "metadata": {},
   "source": [
    "Make the new feature is_white. This will be flagged 1 if white, 0 is not."
   ]
  },
  {
   "cell_type": "code",
   "execution_count": 31,
   "metadata": {},
   "outputs": [],
   "source": [
    "#add to whole df for later testing\n",
    "df['is_white'] = np.where(df['race'] == 'White', 1, 0)\n",
    "\n",
    "#add to train split now to see it modeled\n",
    "train['is_white'] = np.where(train['race'] == 'White', 1, 0)"
   ]
  },
  {
   "cell_type": "markdown",
   "metadata": {},
   "source": [
    "Now to plot it"
   ]
  },
  {
   "cell_type": "code",
   "execution_count": 32,
   "metadata": {},
   "outputs": [
    {
     "data": {
      "image/png": "[encoded data removed]",
      "text/plain": [
       "<Figure size 400x400 with 2 Axes>"
      ]
     },
     "metadata": {},
     "output_type": "display_data"
    }
   ],
   "source": [
    "ct = pd.crosstab(train['is_white'], train['death_yn'], normalize='index') * 100  # Multiply by 100 to convert to percentage\n",
    "\n",
    "# Set up the matplotlib figure\n",
    "plt.figure(figsize=(4, 4))\n",
    "\n",
    "# Plot the heatmap with percentage annotations\n",
    "sns.heatmap(ct, annot=True, cmap='coolwarm', fmt=\".1f\")\n",
    "plt.title(\"Death_yn percentages by is_white\")\n",
    "plt.ylabel('is_white')\n",
    "plt.xlabel('death_yn')\n",
    "plt.show()"
   ]
  },
  {
   "cell_type": "markdown",
   "metadata": {},
   "source": [
    "I think this new feature is much clearer in showing that there is a large difference between white and non white cases that correlate with mortality. I will keep this new feature in my subset, but I wont use the original race feature."
   ]
  },
  {
   "cell_type": "markdown",
   "metadata": {},
   "source": [
    "current_status"
   ]
  },
  {
   "cell_type": "code",
   "execution_count": 33,
   "metadata": {},
   "outputs": [
    {
     "data": {
      "image/png": "[encoded data removed]",
      "text/plain": [
       "<Figure size 400x400 with 2 Axes>"
      ]
     },
     "metadata": {},
     "output_type": "display_data"
    }
   ],
   "source": [
    "ct = pd.crosstab(train['current_status'], train['death_yn'], normalize='index') * 100  # Multiply by 100 to convert to percentage\n",
    "\n",
    "# Set up the matplotlib figure\n",
    "plt.figure(figsize=(4, 4))\n",
    "\n",
    "# Plot the heatmap with percentage annotations\n",
    "sns.heatmap(ct, annot=True, cmap='coolwarm', fmt=\".1f\")\n",
    "plt.title(\"Death_yn percentages by current_status\")\n",
    "plt.ylabel('current_status')\n",
    "plt.xlabel('death_yn')\n",
    "plt.show()"
   ]
  },
  {
   "cell_type": "markdown",
   "metadata": {},
   "source": [
    "As expected, you're almost twice as likely to die with a labratory confirmed case. It doesn't seem extremely correlated as the percents on wither side aren't widely split, but it is only 10% so I will keep it and see how it performs."
   ]
  },
  {
   "cell_type": "markdown",
   "metadata": {},
   "source": [
    "I will make confirmed case 1 and probable case 0"
   ]
  },
  {
   "cell_type": "code",
   "execution_count": 34,
   "metadata": {},
   "outputs": [],
   "source": [
    "df['current_status'] = df['current_status'].map({'Laboratory-confirmed case': 1, 'Probable Case': 0})"
   ]
  },
  {
   "cell_type": "markdown",
   "metadata": {},
   "source": [
    "hosp_yn"
   ]
  },
  {
   "cell_type": "code",
   "execution_count": 35,
   "metadata": {},
   "outputs": [
    {
     "data": {
      "image/png": "[encoded data removed]",
      "text/plain": [
       "<Figure size 400x400 with 2 Axes>"
      ]
     },
     "metadata": {},
     "output_type": "display_data"
    }
   ],
   "source": [
    "ct = pd.crosstab(train['hosp_yn'], train['death_yn'], normalize='index') * 100  # Multiply by 100 to convert to percentage\n",
    "\n",
    "# Set up the matplotlib figure\n",
    "plt.figure(figsize=(4, 4))\n",
    "\n",
    "# Plot the heatmap with percentage annotations\n",
    "sns.heatmap(ct, annot=True, cmap='coolwarm', fmt=\".1f\")\n",
    "plt.title(\"Death_yn percentages by hosp_yn\")\n",
    "plt.ylabel('hosp_yn')\n",
    "plt.xlabel('death_yn')\n",
    "plt.show()"
   ]
  },
  {
   "cell_type": "markdown",
   "metadata": {},
   "source": [
    "Since Missing makes up such a large portion of this dataset I want to assign the missing rows with values that keep the generally the same fatality percentage that the current yes and no values have. "
   ]
  },
  {
   "cell_type": "markdown",
   "metadata": {},
   "source": [
    "I want to impute the missing values in a way that keeps the percentage split shown for each possile value of hosp-yn in relation to death_yn\n",
    "\n",
    "I will first seperate the missinng value rows by whether they died or not. "
   ]
  },
  {
   "cell_type": "markdown",
   "metadata": {},
   "source": [
    "first get the indexes of rows where hosp_yn is missing and the patient died, and those where the patient survived."
   ]
  },
  {
   "cell_type": "code",
   "execution_count": 36,
   "metadata": {},
   "outputs": [],
   "source": [
    "missing = df[df['hosp_yn'] == 'Missing'].index\n",
    "dead = df[df['death_yn'] == 1].index\n",
    "alive = df[df['death_yn'] == 0].index"
   ]
  },
  {
   "cell_type": "markdown",
   "metadata": {},
   "source": [
    "Then i will get the intersection of missing with both dead and alive to split the missing values y their mortalilty."
   ]
  },
  {
   "cell_type": "code",
   "execution_count": 37,
   "metadata": {},
   "outputs": [],
   "source": [
    "missing_alive_indexes = missing.intersection(alive)\n",
    "missing_dead_indexes = missing.intersection(dead)"
   ]
  },
  {
   "cell_type": "markdown",
   "metadata": {},
   "source": [
    "Since the ammount of missing values is closer to the numer of hosp_yn = No values, i will use those percetages to divide the missing values."
   ]
  },
  {
   "cell_type": "markdown",
   "metadata": {},
   "source": [
    "This means I will randomly assign 94% of missing_alive_indexes to value \"No\" and 6% to value \"Yes\" for hosp_yn.\n",
    "\n",
    "I will randomly assign 6% of missing_dead_indexes to value \"No\" and 94% to value \"Yes\" for hosp_yn."
   ]
  },
  {
   "cell_type": "markdown",
   "metadata": {},
   "source": [
    "start with missing_alive_values"
   ]
  },
  {
   "cell_type": "code",
   "execution_count": 38,
   "metadata": {},
   "outputs": [],
   "source": [
    "# Calculate 94% of these indices to assign \"No\"\n",
    "num_to_assign = int(0.94 * len(missing_alive_indexes))\n",
    "selected_indices = np.random.choice(missing_alive_indexes, num_to_assign, replace=False)\n",
    "\n",
    "# Assign \"No\" to 94% of the indices\n",
    "df.loc[selected_indices, 'hosp_yn'] = 'No'\n",
    "\n",
    "#set rest to \"yes\"\n",
    "remaining_indices = [idx for idx in missing_alive_indexes if idx not in selected_indices]\n",
    "df.loc[remaining_indices, 'hosp_yn'] = 'Yes'"
   ]
  },
  {
   "cell_type": "markdown",
   "metadata": {},
   "source": [
    "then missing_dead_values"
   ]
  },
  {
   "cell_type": "code",
   "execution_count": 39,
   "metadata": {},
   "outputs": [],
   "source": [
    "# Calculate 94% of these indices to assign \"Yes\"\n",
    "num_to_assign = int(0.94 * len(missing_dead_indexes))\n",
    "selected_indices = np.random.choice(missing_dead_indexes, num_to_assign, replace=False)\n",
    "\n",
    "# Assign \"Yes\" to 94% of the indices\n",
    "df.loc[selected_indices, 'hosp_yn'] = 'Yes'\n",
    "\n",
    "#set rest to \"No\"\n",
    "remaining_indices = [idx for idx in missing_dead_indexes if idx not in selected_indices]\n",
    "df.loc[remaining_indices, 'hosp_yn'] = 'No'"
   ]
  },
  {
   "cell_type": "markdown",
   "metadata": {},
   "source": [
    "remake the test split and Look at the result."
   ]
  },
  {
   "cell_type": "code",
   "execution_count": 40,
   "metadata": {},
   "outputs": [
    {
     "data": {
      "image/png": "[encoded data removed]",
      "text/plain": [
       "<Figure size 400x400 with 2 Axes>"
      ]
     },
     "metadata": {},
     "output_type": "display_data"
    }
   ],
   "source": [
    "train = df.sample(frac=0.7, random_state=0)\n",
    "ct = pd.crosstab(train['hosp_yn'], train['death_yn'], normalize='index') * 100  # Multiply by 100 to convert to percentage\n",
    "\n",
    "# Set up the matplotlib figure\n",
    "plt.figure(figsize=(4, 4))\n",
    "\n",
    "# Plot the heatmap with percentage annotations\n",
    "sns.heatmap(ct, annot=True, cmap='coolwarm', fmt=\".1f\")\n",
    "plt.title(\"Death_yn percentages by hosp_yn\")\n",
    "plt.ylabel('hosp_yn')\n",
    "plt.xlabel('death_yn')\n",
    "plt.show()"
   ]
  },
  {
   "cell_type": "markdown",
   "metadata": {},
   "source": [
    "This is strongly correlated to mortality so I will keep it in my subset."
   ]
  },
  {
   "cell_type": "markdown",
   "metadata": {},
   "source": [
    "I need to change these yes and no values to 0 and 1 for modeling"
   ]
  },
  {
   "cell_type": "code",
   "execution_count": 41,
   "metadata": {},
   "outputs": [],
   "source": [
    "df['hosp_yn'] = df['hosp_yn'].map({'Yes': 1, 'No': 0})"
   ]
  },
  {
   "cell_type": "markdown",
   "metadata": {},
   "source": [
    "icu_yn"
   ]
  },
  {
   "cell_type": "code",
   "execution_count": 42,
   "metadata": {},
   "outputs": [
    {
     "data": {
      "image/png": "[encoded data removed]",
      "text/plain": [
       "<Figure size 400x400 with 2 Axes>"
      ]
     },
     "metadata": {},
     "output_type": "display_data"
    }
   ],
   "source": [
    "ct = pd.crosstab(train['icu_yn'], train['death_yn'], normalize='index') * 100  # Multiply by 100 to convert to percentage\n",
    "\n",
    "# Set up the matplotlib figure\n",
    "plt.figure(figsize=(4, 4))\n",
    "\n",
    "# Plot the heatmap with percentage annotations\n",
    "sns.heatmap(ct, annot=True, cmap='coolwarm', fmt=\".1f\")\n",
    "plt.title(\"Death_yn percentages by icu_yn\")\n",
    "plt.ylabel('icu_yn')\n",
    "plt.xlabel('death_yn')\n",
    "plt.show()"
   ]
  },
  {
   "cell_type": "markdown",
   "metadata": {},
   "source": [
    "I'm going to repeat the treatment I gave to hosp_yn to this feature to deal with the Missing values."
   ]
  },
  {
   "cell_type": "code",
   "execution_count": 43,
   "metadata": {},
   "outputs": [],
   "source": [
    "#first create the two missing indices arrays.\n",
    "missing = df[df['icu_yn'] == 'Missing'].index\n",
    "missing_alive_indexes = missing.intersection(alive)\n",
    "missing_dead_indexes = missing.intersection(dead)"
   ]
  },
  {
   "cell_type": "markdown",
   "metadata": {},
   "source": [
    "I am going to use the percents associated with icu_yes since they are more stroglycorrelated with death."
   ]
  },
  {
   "cell_type": "code",
   "execution_count": 44,
   "metadata": {},
   "outputs": [],
   "source": [
    "# Calculate 93% of these indices to assign \"No\"\n",
    "num_to_assign = int(0.93 * len(missing_alive_indexes))\n",
    "selected_indices = np.random.choice(missing_alive_indexes, num_to_assign, replace=False)\n",
    "df.loc[selected_indices, 'icu_yn'] = 'No'\n",
    "\n",
    "#set rest to \"yes\"\n",
    "remaining_indices = [idx for idx in missing_alive_indexes if idx not in selected_indices]\n",
    "df.loc[remaining_indices, 'icu_yn'] = 'Yes'"
   ]
  },
  {
   "cell_type": "code",
   "execution_count": 45,
   "metadata": {},
   "outputs": [],
   "source": [
    "# Calculate 93% of these indices to assign \"Yes\"\n",
    "num_to_assign = int(0.93 * len(missing_dead_indexes))\n",
    "selected_indices = np.random.choice(missing_dead_indexes, num_to_assign, replace=False)\n",
    "df.loc[selected_indices, 'icu_yn'] = 'Yes'\n",
    "\n",
    "#set rest to \"No\"\n",
    "remaining_indices = [idx for idx in missing_dead_indexes if idx not in selected_indices]\n",
    "df.loc[remaining_indices, 'icu_yn'] = 'No'"
   ]
  },
  {
   "cell_type": "markdown",
   "metadata": {},
   "source": [
    "Lets look at the result."
   ]
  },
  {
   "cell_type": "code",
   "execution_count": 46,
   "metadata": {},
   "outputs": [
    {
     "data": {
      "image/png": "[encoded data removed]",
      "text/plain": [
       "<Figure size 400x400 with 2 Axes>"
      ]
     },
     "metadata": {},
     "output_type": "display_data"
    }
   ],
   "source": [
    "train = df.sample(frac=0.7, random_state=0)\n",
    "ct = pd.crosstab(train['icu_yn'], train['death_yn'], normalize='index') * 100  # Multiply by 100 to convert to percentage\n",
    "\n",
    "# Set up the matplotlib figure\n",
    "plt.figure(figsize=(4, 4))\n",
    "\n",
    "# Plot the heatmap with percentage annotations\n",
    "sns.heatmap(ct, annot=True, cmap='coolwarm', fmt=\".1f\")\n",
    "plt.title(\"Death_yn percentages by icu_yn\")\n",
    "plt.ylabel('icu_yn')\n",
    "plt.xlabel('death_yn')\n",
    "plt.show()"
   ]
  },
  {
   "cell_type": "markdown",
   "metadata": {},
   "source": [
    "Being in the ICU is very strongly correlated with death so I am keeping this feature in my subset."
   ]
  },
  {
   "cell_type": "markdown",
   "metadata": {},
   "source": [
    "I need to change these yes and no values to 0 and 1 for modeling"
   ]
  },
  {
   "cell_type": "code",
   "execution_count": 47,
   "metadata": {},
   "outputs": [],
   "source": [
    "df['icu_yn'] = df['icu_yn'].map({'Yes': 1, 'No': 0})"
   ]
  },
  {
   "cell_type": "markdown",
   "metadata": {},
   "source": [
    "underlying_conditions_yn"
   ]
  },
  {
   "cell_type": "code",
   "execution_count": 48,
   "metadata": {},
   "outputs": [
    {
     "data": {
      "image/png": "[encoded data removed]",
      "text/plain": [
       "<Figure size 400x400 with 2 Axes>"
      ]
     },
     "metadata": {},
     "output_type": "display_data"
    }
   ],
   "source": [
    "ct = pd.crosstab(train['underlying_conditions_yn'], train['death_yn'], normalize='index') * 100  # Multiply by 100 to convert to percentage\n",
    "\n",
    "# Set up the matplotlib figure\n",
    "plt.figure(figsize=(4, 4))\n",
    "\n",
    "# Plot the heatmap with percentage annotations\n",
    "sns.heatmap(ct, annot=True, cmap='coolwarm', fmt=\".1f\")\n",
    "plt.title(\"Death_yn percentages by underlying_conditions_yn\")\n",
    "plt.ylabel('underlying_conditions_yn')\n",
    "plt.xlabel('death_yn')\n",
    "plt.show()"
   ]
  },
  {
   "cell_type": "markdown",
   "metadata": {},
   "source": [
    "I'm going to repeat the treatment I gave to hosp_yn to this feature to deal with the Missing values."
   ]
  },
  {
   "cell_type": "code",
   "execution_count": 49,
   "metadata": {},
   "outputs": [],
   "source": [
    "#first create the two missing indices arrays.\n",
    "missing = df[df['underlying_conditions_yn'] == 'Missing'].index\n",
    "missing_alive_indexes = missing.intersection(alive)\n",
    "missing_dead_indexes = missing.intersection(dead)"
   ]
  },
  {
   "cell_type": "markdown",
   "metadata": {},
   "source": [
    "I'm goig to use the percent split of \"no\" as it seems to be more strongly correlated to mortality."
   ]
  },
  {
   "cell_type": "code",
   "execution_count": 50,
   "metadata": {},
   "outputs": [],
   "source": [
    "# Calculate 94% of these indices to assign \"No\"\n",
    "num_to_assign = int(0.94 * len(missing_alive_indexes))\n",
    "selected_indices = np.random.choice(missing_alive_indexes, num_to_assign, replace=False)\n",
    "df.loc[selected_indices, 'underlying_conditions_yn'] = 'No'\n",
    "\n",
    "#set rest to \"yes\"\n",
    "remaining_indices = [idx for idx in missing_alive_indexes if idx not in selected_indices]\n",
    "df.loc[remaining_indices, 'underlying_conditions_yn'] = 'Yes'"
   ]
  },
  {
   "cell_type": "code",
   "execution_count": 51,
   "metadata": {},
   "outputs": [],
   "source": [
    "# Calculate 94% of these indices to assign \"Yes\"\n",
    "num_to_assign = int(0.94 * len(missing_dead_indexes))\n",
    "selected_indices = np.random.choice(missing_dead_indexes, num_to_assign, replace=False)\n",
    "df.loc[selected_indices, 'underlying_conditions_yn'] = 'Yes'\n",
    "\n",
    "#set rest to \"No\"\n",
    "remaining_indices = [idx for idx in missing_dead_indexes if idx not in selected_indices]\n",
    "df.loc[remaining_indices, 'underlying_conditions_yn'] = 'No'"
   ]
  },
  {
   "cell_type": "markdown",
   "metadata": {},
   "source": [
    "Let's plot the new values"
   ]
  },
  {
   "cell_type": "code",
   "execution_count": 52,
   "metadata": {},
   "outputs": [
    {
     "data": {
      "image/png": "[encoded data removed]",
      "text/plain": [
       "<Figure size 400x400 with 2 Axes>"
      ]
     },
     "metadata": {},
     "output_type": "display_data"
    }
   ],
   "source": [
    "train = df.sample(frac=0.7, random_state=0)\n",
    "ct = pd.crosstab(train['underlying_conditions_yn'], train['death_yn'], normalize='index') * 100  # Multiply by 100 to convert to percentage\n",
    "\n",
    "# Set up the matplotlib figure\n",
    "plt.figure(figsize=(4, 4))\n",
    "\n",
    "# Plot the heatmap with percentage annotations\n",
    "sns.heatmap(ct, annot=True, cmap='coolwarm', fmt=\".1f\")\n",
    "plt.title(\"Death_yn percentages by underlying_conditions_yn\")\n",
    "plt.ylabel('underlying_conditions_yn')\n",
    "plt.xlabel('death_yn')\n",
    "plt.show()"
   ]
  },
  {
   "cell_type": "markdown",
   "metadata": {},
   "source": [
    "This feature looks very correlated so I will keep it in my subsection."
   ]
  },
  {
   "cell_type": "markdown",
   "metadata": {},
   "source": [
    "I need to change these yes and no values to 0 and 1 for modeling"
   ]
  },
  {
   "cell_type": "code",
   "execution_count": 53,
   "metadata": {},
   "outputs": [],
   "source": [
    "df['underlying_conditions_yn'] = df['underlying_conditions_yn'].map({'Yes': 1, 'No': 0})"
   ]
  },
  {
   "cell_type": "markdown",
   "metadata": {},
   "source": [
    "party"
   ]
  },
  {
   "cell_type": "code",
   "execution_count": 54,
   "metadata": {},
   "outputs": [
    {
     "data": {
      "image/png": "[encoded data removed]",
      "text/plain": [
       "<Figure size 400x400 with 2 Axes>"
      ]
     },
     "metadata": {},
     "output_type": "display_data"
    }
   ],
   "source": [
    "ct = pd.crosstab(train['party'], train['death_yn'], normalize='index') * 100  # Multiply by 100 to convert to percentage\n",
    "\n",
    "# Set up the matplotlib figure\n",
    "plt.figure(figsize=(4, 4))\n",
    "\n",
    "# Plot the heatmap with percentage annotations\n",
    "sns.heatmap(ct, annot=True, cmap='coolwarm', fmt=\".1f\")\n",
    "plt.title(\"Death_yn percentages by party\")\n",
    "plt.ylabel('party')\n",
    "plt.xlabel('death_yn')\n",
    "plt.show()"
   ]
  },
  {
   "cell_type": "markdown",
   "metadata": {},
   "source": [
    "Aside from the NPP which has a 0% mortality rate the other parties dont seem to give a particularly strong correlation to mortality and mostly reflect the average of teh dataset. Democrat and Republican especially which make up a vast majority of the data set since only New Hampshire in under Independants and only Puerto Rico is under NPP. The 0% mortality rate of the NPP is also already reflected under the res-state feature. I don;t think gives enough data to keep in my subset so I will remove it."
   ]
  },
  {
   "cell_type": "markdown",
   "metadata": {},
   "source": [
    "##### Subset summary"
   ]
  },
  {
   "cell_type": "code",
   "execution_count": 55,
   "metadata": {},
   "outputs": [
    {
     "name": "stdout",
     "output_type": "stream",
     "text": [
      "<class 'pandas.core.frame.DataFrame'>\n",
      "RangeIndex: 49868 entries, 0 to 49867\n",
      "Data columns (total 22 columns):\n",
      " #   Column                    Non-Null Count  Dtype         \n",
      "---  ------                    --------------  -----         \n",
      " 0   case_month                49868 non-null  datetime64[ns]\n",
      " 1   res_state                 49868 non-null  category      \n",
      " 2   county_fips_code          49868 non-null  category      \n",
      " 3   age_group                 49868 non-null  category      \n",
      " 4   sex                       49868 non-null  category      \n",
      " 5   race                      49868 non-null  category      \n",
      " 6   current_status            49868 non-null  float64       \n",
      " 7   hosp_yn                   49868 non-null  float64       \n",
      " 8   icu_yn                    49868 non-null  float64       \n",
      " 9   death_yn                  49868 non-null  float64       \n",
      " 10  underlying_conditions_yn  49868 non-null  float64       \n",
      " 11  party                     49868 non-null  category      \n",
      " 12  median_household_income   49868 non-null  float64       \n",
      " 13  county_density            49868 non-null  float64       \n",
      " 14  months_since_start        49868 non-null  int32         \n",
      " 15  state_death_high          49868 non-null  int64         \n",
      " 16  state_death_low           49868 non-null  int64         \n",
      " 17  0_to_17                   49868 non-null  int64         \n",
      " 18  18_to_49                  49868 non-null  int64         \n",
      " 19  50_to_64                  49868 non-null  int64         \n",
      " 20  65_plus                   49868 non-null  int64         \n",
      " 21  is_white                  49868 non-null  int64         \n",
      "dtypes: category(6), datetime64[ns](1), float64(7), int32(1), int64(7)\n",
      "memory usage: 6.3 MB\n"
     ]
    }
   ],
   "source": [
    "df.info()\n"
   ]
  },
  {
   "cell_type": "markdown",
   "metadata": {},
   "source": [
    "I am keeping the features:\n",
    "\n",
    "    case_month\n",
    "\n",
    "    state_death_high\n",
    "\n",
    "    state_death_low\n",
    "\n",
    "    the four age_group flag features\n",
    "\n",
    "    is_white\n",
    "\n",
    "    current_status\n",
    "\n",
    "    hosp_yn\n",
    "\n",
    "    icu_yn\n",
    "\n",
    "    underlying_conditions_yn\n",
    "\n",
    "    county_density\n",
    "\n",
    "\n",
    "I am dropping all other features"
   ]
  },
  {
   "cell_type": "code",
   "execution_count": 56,
   "metadata": {},
   "outputs": [
    {
     "name": "stdout",
     "output_type": "stream",
     "text": [
      "<class 'pandas.core.frame.DataFrame'>\n",
      "RangeIndex: 49868 entries, 0 to 49867\n",
      "Data columns (total 22 columns):\n",
      " #   Column                    Non-Null Count  Dtype         \n",
      "---  ------                    --------------  -----         \n",
      " 0   case_month                49868 non-null  datetime64[ns]\n",
      " 1   res_state                 49868 non-null  category      \n",
      " 2   county_fips_code          49868 non-null  category      \n",
      " 3   age_group                 49868 non-null  category      \n",
      " 4   sex                       49868 non-null  category      \n",
      " 5   race                      49868 non-null  category      \n",
      " 6   current_status            49868 non-null  float64       \n",
      " 7   hosp_yn                   49868 non-null  float64       \n",
      " 8   icu_yn                    49868 non-null  float64       \n",
      " 9   death_yn                  49868 non-null  float64       \n",
      " 10  underlying_conditions_yn  49868 non-null  float64       \n",
      " 11  party                     49868 non-null  category      \n",
      " 12  median_household_income   49868 non-null  float64       \n",
      " 13  county_density            49868 non-null  float64       \n",
      " 14  months_since_start        49868 non-null  int32         \n",
      " 15  state_death_high          49868 non-null  int64         \n",
      " 16  state_death_low           49868 non-null  int64         \n",
      " 17  0_to_17                   49868 non-null  int64         \n",
      " 18  18_to_49                  49868 non-null  int64         \n",
      " 19  50_to_64                  49868 non-null  int64         \n",
      " 20  65_plus                   49868 non-null  int64         \n",
      " 21  is_white                  49868 non-null  int64         \n",
      "dtypes: category(6), datetime64[ns](1), float64(7), int32(1), int64(7)\n",
      "memory usage: 6.3 MB\n"
     ]
    }
   ],
   "source": [
    "df.info()"
   ]
  },
  {
   "cell_type": "code",
   "execution_count": 57,
   "metadata": {},
   "outputs": [],
   "source": [
    "df = df.drop('case_month', axis=1)\n",
    "df = df.drop('res_state', axis=1)\n",
    "df = df.drop('county_fips_code', axis=1)\n",
    "df = df.drop('age_group', axis=1)\n",
    "df = df.drop('race', axis=1)\n",
    "df = df.drop('sex', axis=1)\n",
    "df = df.drop('party', axis=1)\n",
    "df = df.drop('median_household_income', axis=1)"
   ]
  },
  {
   "cell_type": "code",
   "execution_count": 58,
   "metadata": {},
   "outputs": [
    {
     "name": "stdout",
     "output_type": "stream",
     "text": [
      "<class 'pandas.core.frame.DataFrame'>\n",
      "RangeIndex: 49868 entries, 0 to 49867\n",
      "Data columns (total 14 columns):\n",
      " #   Column                    Non-Null Count  Dtype  \n",
      "---  ------                    --------------  -----  \n",
      " 0   current_status            49868 non-null  float64\n",
      " 1   hosp_yn                   49868 non-null  float64\n",
      " 2   icu_yn                    49868 non-null  float64\n",
      " 3   death_yn                  49868 non-null  float64\n",
      " 4   underlying_conditions_yn  49868 non-null  float64\n",
      " 5   county_density            49868 non-null  float64\n",
      " 6   months_since_start        49868 non-null  int32  \n",
      " 7   state_death_high          49868 non-null  int64  \n",
      " 8   state_death_low           49868 non-null  int64  \n",
      " 9   0_to_17                   49868 non-null  int64  \n",
      " 10  18_to_49                  49868 non-null  int64  \n",
      " 11  50_to_64                  49868 non-null  int64  \n",
      " 12  65_plus                   49868 non-null  int64  \n",
      " 13  is_white                  49868 non-null  int64  \n",
      "dtypes: float64(6), int32(1), int64(7)\n",
      "memory usage: 5.1 MB\n"
     ]
    }
   ],
   "source": [
    "df.info()"
   ]
  },
  {
   "cell_type": "markdown",
   "metadata": {},
   "source": [
    "## Excersize 2: Linear Regression"
   ]
  },
  {
   "cell_type": "code",
   "execution_count": 59,
   "metadata": {},
   "outputs": [],
   "source": [
    "from sklearn.linear_model import LinearRegression"
   ]
  },
  {
   "cell_type": "markdown",
   "metadata": {},
   "source": [
    "Lets remake the training and test split with the new changes"
   ]
  },
  {
   "cell_type": "code",
   "execution_count": 60,
   "metadata": {},
   "outputs": [],
   "source": [
    "#this makes the training set 70% of the values\n",
    "train = df.sample(frac=0.7, random_state=0)\n",
    "#this makes the test set 30% of the values\n",
    "test = df.drop(train.index)"
   ]
  },
  {
   "cell_type": "markdown",
   "metadata": {},
   "source": [
    "### 2.1 train linear regression model using the features left in train"
   ]
  },
  {
   "cell_type": "code",
   "execution_count": 61,
   "metadata": {},
   "outputs": [],
   "source": [
    "X_train = train.drop('death_yn', axis = 1)\n",
    "Y_train = train['death_yn']"
   ]
  },
  {
   "cell_type": "code",
   "execution_count": 62,
   "metadata": {},
   "outputs": [
    {
     "data": {
      "text/html": [
       "<style>#sk-container-id-1 {\n",
       "  /* Definition of color scheme common for light and dark mode */\n",
       "  --sklearn-color-text: black;\n",
       "  --sklearn-color-line: gray;\n",
       "  /* Definition of color scheme for unfitted estimators */\n",
       "  --sklearn-color-unfitted-level-0: #fff5e6;\n",
       "  --sklearn-color-unfitted-level-1: #f6e4d2;\n",
       "  --sklearn-color-unfitted-level-2: #ffe0b3;\n",
       "  --sklearn-color-unfitted-level-3: chocolate;\n",
       "  /* Definition of color scheme for fitted estimators */\n",
       "  --sklearn-color-fitted-level-0: #f0f8ff;\n",
       "  --sklearn-color-fitted-level-1: #d4ebff;\n",
       "  --sklearn-color-fitted-level-2: #b3dbfd;\n",
       "  --sklearn-color-fitted-level-3: cornflowerblue;\n",
       "\n",
       "  /* Specific color for light theme */\n",
       "  --sklearn-color-text-on-default-background: var(--sg-text-color, var(--theme-code-foreground, var(--jp-content-font-color1, black)));\n",
       "  --sklearn-color-background: var(--sg-background-color, var(--theme-background, var(--jp-layout-color0, white)));\n",
       "  --sklearn-color-border-box: var(--sg-text-color, var(--theme-code-foreground, var(--jp-content-font-color1, black)));\n",
       "  --sklearn-color-icon: #696969;\n",
       "\n",
       "  @media (prefers-color-scheme: dark) {\n",
       "    /* Redefinition of color scheme for dark theme */\n",
       "    --sklearn-color-text-on-default-background: var(--sg-text-color, var(--theme-code-foreground, var(--jp-content-font-color1, white)));\n",
       "    --sklearn-color-background: var(--sg-background-color, var(--theme-background, var(--jp-layout-color0, #111)));\n",
       "    --sklearn-color-border-box: var(--sg-text-color, var(--theme-code-foreground, var(--jp-content-font-color1, white)));\n",
       "    --sklearn-color-icon: #878787;\n",
       "  }\n",
       "}\n",
       "\n",
       "#sk-container-id-1 {\n",
       "  color: var(--sklearn-color-text);\n",
       "}\n",
       "\n",
       "#sk-container-id-1 pre {\n",
       "  padding: 0;\n",
       "}\n",
       "\n",
       "#sk-container-id-1 input.sk-hidden--visually {\n",
       "  border: 0;\n",
       "  clip: rect(1px 1px 1px 1px);\n",
       "  clip: rect(1px, 1px, 1px, 1px);\n",
       "  height: 1px;\n",
       "  margin: -1px;\n",
       "  overflow: hidden;\n",
       "  padding: 0;\n",
       "  position: absolute;\n",
       "  width: 1px;\n",
       "}\n",
       "\n",
       "#sk-container-id-1 div.sk-dashed-wrapped {\n",
       "  border: 1px dashed var(--sklearn-color-line);\n",
       "  margin: 0 0.4em 0.5em 0.4em;\n",
       "  box-sizing: border-box;\n",
       "  padding-bottom: 0.4em;\n",
       "  background-color: var(--sklearn-color-background);\n",
       "}\n",
       "\n",
       "#sk-container-id-1 div.sk-container {\n",
       "  /* jupyter's `normalize.less` sets `[hidden] { display: none; }`\n",
       "     but bootstrap.min.css set `[hidden] { display: none !important; }`\n",
       "     so we also need the `!important` here to be able to override the\n",
       "     default hidden behavior on the sphinx rendered scikit-learn.org.\n",
       "     See: https://github.com/scikit-learn/scikit-learn/issues/21755 */\n",
       "  display: inline-block !important;\n",
       "  position: relative;\n",
       "}\n",
       "\n",
       "#sk-container-id-1 div.sk-text-repr-fallback {\n",
       "  display: none;\n",
       "}\n",
       "\n",
       "div.sk-parallel-item,\n",
       "div.sk-serial,\n",
       "div.sk-item {\n",
       "  /* draw centered vertical line to link estimators */\n",
       "  background-image: linear-gradient(var(--sklearn-color-text-on-default-background), var(--sklearn-color-text-on-default-background));\n",
       "  background-size: 2px 100%;\n",
       "  background-repeat: no-repeat;\n",
       "  background-position: center center;\n",
       "}\n",
       "\n",
       "/* Parallel-specific style estimator block */\n",
       "\n",
       "#sk-container-id-1 div.sk-parallel-item::after {\n",
       "  content: \"\";\n",
       "  width: 100%;\n",
       "  border-bottom: 2px solid var(--sklearn-color-text-on-default-background);\n",
       "  flex-grow: 1;\n",
       "}\n",
       "\n",
       "#sk-container-id-1 div.sk-parallel {\n",
       "  display: flex;\n",
       "  align-items: stretch;\n",
       "  justify-content: center;\n",
       "  background-color: var(--sklearn-color-background);\n",
       "  position: relative;\n",
       "}\n",
       "\n",
       "#sk-container-id-1 div.sk-parallel-item {\n",
       "  display: flex;\n",
       "  flex-direction: column;\n",
       "}\n",
       "\n",
       "#sk-container-id-1 div.sk-parallel-item:first-child::after {\n",
       "  align-self: flex-end;\n",
       "  width: 50%;\n",
       "}\n",
       "\n",
       "#sk-container-id-1 div.sk-parallel-item:last-child::after {\n",
       "  align-self: flex-start;\n",
       "  width: 50%;\n",
       "}\n",
       "\n",
       "#sk-container-id-1 div.sk-parallel-item:only-child::after {\n",
       "  width: 0;\n",
       "}\n",
       "\n",
       "/* Serial-specific style estimator block */\n",
       "\n",
       "#sk-container-id-1 div.sk-serial {\n",
       "  display: flex;\n",
       "  flex-direction: column;\n",
       "  align-items: center;\n",
       "  background-color: var(--sklearn-color-background);\n",
       "  padding-right: 1em;\n",
       "  padding-left: 1em;\n",
       "}\n",
       "\n",
       "\n",
       "/* Toggleable style: style used for estimator/Pipeline/ColumnTransformer box that is\n",
       "clickable and can be expanded/collapsed.\n",
       "- Pipeline and ColumnTransformer use this feature and define the default style\n",
       "- Estimators will overwrite some part of the style using the `sk-estimator` class\n",
       "*/\n",
       "\n",
       "/* Pipeline and ColumnTransformer style (default) */\n",
       "\n",
       "#sk-container-id-1 div.sk-toggleable {\n",
       "  /* Default theme specific background. It is overwritten whether we have a\n",
       "  specific estimator or a Pipeline/ColumnTransformer */\n",
       "  background-color: var(--sklearn-color-background);\n",
       "}\n",
       "\n",
       "/* Toggleable label */\n",
       "#sk-container-id-1 label.sk-toggleable__label {\n",
       "  cursor: pointer;\n",
       "  display: block;\n",
       "  width: 100%;\n",
       "  margin-bottom: 0;\n",
       "  padding: 0.5em;\n",
       "  box-sizing: border-box;\n",
       "  text-align: center;\n",
       "}\n",
       "\n",
       "#sk-container-id-1 label.sk-toggleable__label-arrow:before {\n",
       "  /* Arrow on the left of the label */\n",
       "  content: \"▸\";\n",
       "  float: left;\n",
       "  margin-right: 0.25em;\n",
       "  color: var(--sklearn-color-icon);\n",
       "}\n",
       "\n",
       "#sk-container-id-1 label.sk-toggleable__label-arrow:hover:before {\n",
       "  color: var(--sklearn-color-text);\n",
       "}\n",
       "\n",
       "/* Toggleable content - dropdown */\n",
       "\n",
       "#sk-container-id-1 div.sk-toggleable__content {\n",
       "  max-height: 0;\n",
       "  max-width: 0;\n",
       "  overflow: hidden;\n",
       "  text-align: left;\n",
       "  /* unfitted */\n",
       "  background-color: var(--sklearn-color-unfitted-level-0);\n",
       "}\n",
       "\n",
       "#sk-container-id-1 div.sk-toggleable__content.fitted {\n",
       "  /* fitted */\n",
       "  background-color: var(--sklearn-color-fitted-level-0);\n",
       "}\n",
       "\n",
       "#sk-container-id-1 div.sk-toggleable__content pre {\n",
       "  margin: 0.2em;\n",
       "  border-radius: 0.25em;\n",
       "  color: var(--sklearn-color-text);\n",
       "  /* unfitted */\n",
       "  background-color: var(--sklearn-color-unfitted-level-0);\n",
       "}\n",
       "\n",
       "#sk-container-id-1 div.sk-toggleable__content.fitted pre {\n",
       "  /* unfitted */\n",
       "  background-color: var(--sklearn-color-fitted-level-0);\n",
       "}\n",
       "\n",
       "#sk-container-id-1 input.sk-toggleable__control:checked~div.sk-toggleable__content {\n",
       "  /* Expand drop-down */\n",
       "  max-height: 200px;\n",
       "  max-width: 100%;\n",
       "  overflow: auto;\n",
       "}\n",
       "\n",
       "#sk-container-id-1 input.sk-toggleable__control:checked~label.sk-toggleable__label-arrow:before {\n",
       "  content: \"▾\";\n",
       "}\n",
       "\n",
       "/* Pipeline/ColumnTransformer-specific style */\n",
       "\n",
       "#sk-container-id-1 div.sk-label input.sk-toggleable__control:checked~label.sk-toggleable__label {\n",
       "  color: var(--sklearn-color-text);\n",
       "  background-color: var(--sklearn-color-unfitted-level-2);\n",
       "}\n",
       "\n",
       "#sk-container-id-1 div.sk-label.fitted input.sk-toggleable__control:checked~label.sk-toggleable__label {\n",
       "  background-color: var(--sklearn-color-fitted-level-2);\n",
       "}\n",
       "\n",
       "/* Estimator-specific style */\n",
       "\n",
       "/* Colorize estimator box */\n",
       "#sk-container-id-1 div.sk-estimator input.sk-toggleable__control:checked~label.sk-toggleable__label {\n",
       "  /* unfitted */\n",
       "  background-color: var(--sklearn-color-unfitted-level-2);\n",
       "}\n",
       "\n",
       "#sk-container-id-1 div.sk-estimator.fitted input.sk-toggleable__control:checked~label.sk-toggleable__label {\n",
       "  /* fitted */\n",
       "  background-color: var(--sklearn-color-fitted-level-2);\n",
       "}\n",
       "\n",
       "#sk-container-id-1 div.sk-label label.sk-toggleable__label,\n",
       "#sk-container-id-1 div.sk-label label {\n",
       "  /* The background is the default theme color */\n",
       "  color: var(--sklearn-color-text-on-default-background);\n",
       "}\n",
       "\n",
       "/* On hover, darken the color of the background */\n",
       "#sk-container-id-1 div.sk-label:hover label.sk-toggleable__label {\n",
       "  color: var(--sklearn-color-text);\n",
       "  background-color: var(--sklearn-color-unfitted-level-2);\n",
       "}\n",
       "\n",
       "/* Label box, darken color on hover, fitted */\n",
       "#sk-container-id-1 div.sk-label.fitted:hover label.sk-toggleable__label.fitted {\n",
       "  color: var(--sklearn-color-text);\n",
       "  background-color: var(--sklearn-color-fitted-level-2);\n",
       "}\n",
       "\n",
       "/* Estimator label */\n",
       "\n",
       "#sk-container-id-1 div.sk-label label {\n",
       "  font-family: monospace;\n",
       "  font-weight: bold;\n",
       "  display: inline-block;\n",
       "  line-height: 1.2em;\n",
       "}\n",
       "\n",
       "#sk-container-id-1 div.sk-label-container {\n",
       "  text-align: center;\n",
       "}\n",
       "\n",
       "/* Estimator-specific */\n",
       "#sk-container-id-1 div.sk-estimator {\n",
       "  font-family: monospace;\n",
       "  border: 1px dotted var(--sklearn-color-border-box);\n",
       "  border-radius: 0.25em;\n",
       "  box-sizing: border-box;\n",
       "  margin-bottom: 0.5em;\n",
       "  /* unfitted */\n",
       "  background-color: var(--sklearn-color-unfitted-level-0);\n",
       "}\n",
       "\n",
       "#sk-container-id-1 div.sk-estimator.fitted {\n",
       "  /* fitted */\n",
       "  background-color: var(--sklearn-color-fitted-level-0);\n",
       "}\n",
       "\n",
       "/* on hover */\n",
       "#sk-container-id-1 div.sk-estimator:hover {\n",
       "  /* unfitted */\n",
       "  background-color: var(--sklearn-color-unfitted-level-2);\n",
       "}\n",
       "\n",
       "#sk-container-id-1 div.sk-estimator.fitted:hover {\n",
       "  /* fitted */\n",
       "  background-color: var(--sklearn-color-fitted-level-2);\n",
       "}\n",
       "\n",
       "/* Specification for estimator info (e.g. \"i\" and \"?\") */\n",
       "\n",
       "/* Common style for \"i\" and \"?\" */\n",
       "\n",
       ".sk-estimator-doc-link,\n",
       "a:link.sk-estimator-doc-link,\n",
       "a:visited.sk-estimator-doc-link {\n",
       "  float: right;\n",
       "  font-size: smaller;\n",
       "  line-height: 1em;\n",
       "  font-family: monospace;\n",
       "  background-color: var(--sklearn-color-background);\n",
       "  border-radius: 1em;\n",
       "  height: 1em;\n",
       "  width: 1em;\n",
       "  text-decoration: none !important;\n",
       "  margin-left: 1ex;\n",
       "  /* unfitted */\n",
       "  border: var(--sklearn-color-unfitted-level-1) 1pt solid;\n",
       "  color: var(--sklearn-color-unfitted-level-1);\n",
       "}\n",
       "\n",
       ".sk-estimator-doc-link.fitted,\n",
       "a:link.sk-estimator-doc-link.fitted,\n",
       "a:visited.sk-estimator-doc-link.fitted {\n",
       "  /* fitted */\n",
       "  border: var(--sklearn-color-fitted-level-1) 1pt solid;\n",
       "  color: var(--sklearn-color-fitted-level-1);\n",
       "}\n",
       "\n",
       "/* On hover */\n",
       "div.sk-estimator:hover .sk-estimator-doc-link:hover,\n",
       ".sk-estimator-doc-link:hover,\n",
       "div.sk-label-container:hover .sk-estimator-doc-link:hover,\n",
       ".sk-estimator-doc-link:hover {\n",
       "  /* unfitted */\n",
       "  background-color: var(--sklearn-color-unfitted-level-3);\n",
       "  color: var(--sklearn-color-background);\n",
       "  text-decoration: none;\n",
       "}\n",
       "\n",
       "div.sk-estimator.fitted:hover .sk-estimator-doc-link.fitted:hover,\n",
       ".sk-estimator-doc-link.fitted:hover,\n",
       "div.sk-label-container:hover .sk-estimator-doc-link.fitted:hover,\n",
       ".sk-estimator-doc-link.fitted:hover {\n",
       "  /* fitted */\n",
       "  background-color: var(--sklearn-color-fitted-level-3);\n",
       "  color: var(--sklearn-color-background);\n",
       "  text-decoration: none;\n",
       "}\n",
       "\n",
       "/* Span, style for the box shown on hovering the info icon */\n",
       ".sk-estimator-doc-link span {\n",
       "  display: none;\n",
       "  z-index: 9999;\n",
       "  position: relative;\n",
       "  font-weight: normal;\n",
       "  right: .2ex;\n",
       "  padding: .5ex;\n",
       "  margin: .5ex;\n",
       "  width: min-content;\n",
       "  min-width: 20ex;\n",
       "  max-width: 50ex;\n",
       "  color: var(--sklearn-color-text);\n",
       "  box-shadow: 2pt 2pt 4pt #999;\n",
       "  /* unfitted */\n",
       "  background: var(--sklearn-color-unfitted-level-0);\n",
       "  border: .5pt solid var(--sklearn-color-unfitted-level-3);\n",
       "}\n",
       "\n",
       ".sk-estimator-doc-link.fitted span {\n",
       "  /* fitted */\n",
       "  background: var(--sklearn-color-fitted-level-0);\n",
       "  border: var(--sklearn-color-fitted-level-3);\n",
       "}\n",
       "\n",
       ".sk-estimator-doc-link:hover span {\n",
       "  display: block;\n",
       "}\n",
       "\n",
       "/* \"?\"-specific style due to the `<a>` HTML tag */\n",
       "\n",
       "#sk-container-id-1 a.estimator_doc_link {\n",
       "  float: right;\n",
       "  font-size: 1rem;\n",
       "  line-height: 1em;\n",
       "  font-family: monospace;\n",
       "  background-color: var(--sklearn-color-background);\n",
       "  border-radius: 1rem;\n",
       "  height: 1rem;\n",
       "  width: 1rem;\n",
       "  text-decoration: none;\n",
       "  /* unfitted */\n",
       "  color: var(--sklearn-color-unfitted-level-1);\n",
       "  border: var(--sklearn-color-unfitted-level-1) 1pt solid;\n",
       "}\n",
       "\n",
       "#sk-container-id-1 a.estimator_doc_link.fitted {\n",
       "  /* fitted */\n",
       "  border: var(--sklearn-color-fitted-level-1) 1pt solid;\n",
       "  color: var(--sklearn-color-fitted-level-1);\n",
       "}\n",
       "\n",
       "/* On hover */\n",
       "#sk-container-id-1 a.estimator_doc_link:hover {\n",
       "  /* unfitted */\n",
       "  background-color: var(--sklearn-color-unfitted-level-3);\n",
       "  color: var(--sklearn-color-background);\n",
       "  text-decoration: none;\n",
       "}\n",
       "\n",
       "#sk-container-id-1 a.estimator_doc_link.fitted:hover {\n",
       "  /* fitted */\n",
       "  background-color: var(--sklearn-color-fitted-level-3);\n",
       "}\n",
       "</style><div id=\"sk-container-id-1\" class=\"sk-top-container\"><div class=\"sk-text-repr-fallback\"><pre>LinearRegression()</pre><b>In a Jupyter environment, please rerun this cell to show the HTML representation or trust the notebook. <br />On GitHub, the HTML representation is unable to render, please try loading this page with nbviewer.org.</b></div><div class=\"sk-container\" hidden><div class=\"sk-item\"><div class=\"sk-estimator fitted sk-toggleable\"><input class=\"sk-toggleable__control sk-hidden--visually\" id=\"sk-estimator-id-1\" type=\"checkbox\" checked><label for=\"sk-estimator-id-1\" class=\"sk-toggleable__label fitted sk-toggleable__label-arrow fitted\">&nbsp;&nbsp;LinearRegression<a class=\"sk-estimator-doc-link fitted\" rel=\"noreferrer\" target=\"_blank\" href=\"https://scikit-learn.org/1.4/modules/generated/sklearn.linear_model.LinearRegression.html\">?<span>Documentation for LinearRegression</span></a><span class=\"sk-estimator-doc-link fitted\">i<span>Fitted</span></span></label><div class=\"sk-toggleable__content fitted\"><pre>LinearRegression()</pre></div> </div></div></div></div>"
      ],
      "text/plain": [
       "LinearRegression()"
      ]
     },
     "execution_count": 62,
     "metadata": {},
     "output_type": "execute_result"
    }
   ],
   "source": [
    "linModel = LinearRegression()\n",
    "linModel.fit(X_train, Y_train)"
   ]
  },
  {
   "cell_type": "markdown",
   "metadata": {},
   "source": [
    "### 2.2 print coefficients"
   ]
  },
  {
   "cell_type": "code",
   "execution_count": 63,
   "metadata": {},
   "outputs": [
    {
     "name": "stdout",
     "output_type": "stream",
     "text": [
      "[-2.60913384e-03  2.70860046e-01  2.97216089e-01  2.12004629e-01\n",
      "  3.44171615e-06 -2.16302780e-03  1.00832639e-01 -1.06266755e-01\n",
      " -6.75284618e-04 -1.20924232e-02  1.40931149e-03  1.50809727e-01\n",
      "  2.14938731e-02]\n"
     ]
    }
   ],
   "source": [
    "coefficients = linModel.coef_\n",
    "print(coefficients)"
   ]
  },
  {
   "cell_type": "markdown",
   "metadata": {},
   "source": [
    "lets see what values those correspond to"
   ]
  },
  {
   "cell_type": "code",
   "execution_count": 64,
   "metadata": {},
   "outputs": [
    {
     "name": "stdout",
     "output_type": "stream",
     "text": [
      "<class 'pandas.core.frame.DataFrame'>\n",
      "Index: 34908 entries, 38946 to 24896\n",
      "Data columns (total 13 columns):\n",
      " #   Column                    Non-Null Count  Dtype  \n",
      "---  ------                    --------------  -----  \n",
      " 0   current_status            34908 non-null  float64\n",
      " 1   hosp_yn                   34908 non-null  float64\n",
      " 2   icu_yn                    34908 non-null  float64\n",
      " 3   underlying_conditions_yn  34908 non-null  float64\n",
      " 4   county_density            34908 non-null  float64\n",
      " 5   months_since_start        34908 non-null  int32  \n",
      " 6   state_death_high          34908 non-null  int64  \n",
      " 7   state_death_low           34908 non-null  int64  \n",
      " 8   0_to_17                   34908 non-null  int64  \n",
      " 9   18_to_49                  34908 non-null  int64  \n",
      " 10  50_to_64                  34908 non-null  int64  \n",
      " 11  65_plus                   34908 non-null  int64  \n",
      " 12  is_white                  34908 non-null  int64  \n",
      "dtypes: float64(5), int32(1), int64(7)\n",
      "memory usage: 3.6 MB\n"
     ]
    }
   ],
   "source": [
    "X_train.info()"
   ]
  },
  {
   "cell_type": "markdown",
   "metadata": {},
   "source": [
    "There are larger coefficients that show very strong correlation between those features and the target feature, and there are those that are magnitudes smaller that are informing us that the feature they represent has far less of a baring on the value of the target outcome. Since the target is either 0 or one we expect all of the predictions to be in that range. This means that the largest coefficients that we expect are going to be in the e-01 magnitude. These coefficients, including hosp_yn, icu_yn, underlying_conditions_yn, state_death_high, and 65_plus are the strongest indicators of death. State death low is also very close to this magnitude. This makes sense as the two state features are based on death statistics, and hospitalization, icu stay, underlying conditions and old age are strongly correlated with mortality. "
   ]
  },
  {
   "cell_type": "markdown",
   "metadata": {},
   "source": [
    "The second most correlated magnitude are the e-02 features. These include is_white, as well as Months_since_start and county_density when you adjust for magitude of input These values are not between 0-1 like the previous features. Months_since start is one order of magnitude larger so it’s e-03 coefficient makes sense, and county desity is 3 or 4 orders of magnitude larger, explaining why it’s still valuable even with a coefficient in the e-06 magnitude range. These are all magnitudes that wont individually affect the outcome of a prediction, but could swing the decisionn oe way or the other if it's close since together they make up about 0.086 of the final 0-1 outcome. "
   ]
  },
  {
   "cell_type": "markdown",
   "metadata": {},
   "source": [
    "There are also the coefficients that show not very strong correlation with the target feature in the e-03 magnitude range. These include current status, and the other 3 age groups. I’m not surprised about current status being weak, as it didn't look super correlated in my prep work. I am surprised however that the age groups performed so weakly as the data shows strong correlation when looking onn it's own. 0-17 for instance had 0% mortality rate so I assumed it would be very strong. But perhapse all 0-17 year olds shared other feature values that were more determiite of the outcome than their age. These features are so weak they essentially don't affect the outcome at all."
   ]
  },
  {
   "cell_type": "markdown",
   "metadata": {},
   "source": [
    "### 2.3 Predict 10 training predictions"
   ]
  },
  {
   "cell_type": "code",
   "execution_count": 65,
   "metadata": {},
   "outputs": [
    {
     "name": "stdout",
     "output_type": "stream",
     "text": [
      "[-0.09049672  0.25522887 -0.01761589 -0.05761669 -0.07506951  1.12525225\n",
      " -0.08422358 -0.06446357 -0.03699078 -0.02395926]\n"
     ]
    }
   ],
   "source": [
    "train_predictions = linModel.predict(X_train)\n",
    "print(train_predictions[:10])"
   ]
  },
  {
   "cell_type": "markdown",
   "metadata": {},
   "source": [
    "Lets assign these numerical values to yes or no desth_yn values using 0.5 and a boundry."
   ]
  },
  {
   "cell_type": "code",
   "execution_count": 66,
   "metadata": {},
   "outputs": [
    {
     "name": "stdout",
     "output_type": "stream",
     "text": [
      "no\n",
      "no\n",
      "no\n",
      "no\n",
      "no\n",
      "yes\n",
      "no\n",
      "no\n",
      "no\n",
      "no\n"
     ]
    }
   ],
   "source": [
    "for p in train_predictions[:10]:\n",
    "    if p >= 0.5:\n",
    "        print(\"yes\")\n",
    "    else:\n",
    "        print(\"no\")"
   ]
  },
  {
   "cell_type": "markdown",
   "metadata": {},
   "source": [
    "classification evaluation measures"
   ]
  },
  {
   "cell_type": "code",
   "execution_count": 67,
   "metadata": {},
   "outputs": [],
   "source": [
    "from sklearn.metrics import accuracy_score, confusion_matrix, precision_score, recall_score, f1_score"
   ]
  },
  {
   "cell_type": "code",
   "execution_count": 68,
   "metadata": {},
   "outputs": [
    {
     "name": "stdout",
     "output_type": "stream",
     "text": [
      "Accuracy: 0.8409820098544746\n",
      "Confusion Matrix:\n",
      "[[27910     0]\n",
      " [ 5551  1447]]\n",
      "Precision: 1.0\n",
      "Recall: 0.20677336381823377\n",
      "F1 Score: 0.34268798105387804\n"
     ]
    }
   ],
   "source": [
    "# Predict on the training set\n",
    "y_train_pred = linModel.predict(X_train)\n",
    "\n",
    "#round the predicted probabilities to an int binary\n",
    "for pred in y_train_pred:\n",
    "    if pred >= 0.5:\n",
    "        pred = 1\n",
    "    else:\n",
    "        pred = 0\n",
    "        \n",
    "y_train_pred = y_train_pred.astype(int)\n",
    "\n",
    "# Compute metrics\n",
    "accuracy = accuracy_score(Y_train, y_train_pred)\n",
    "conf_matrix = confusion_matrix(Y_train, y_train_pred)\n",
    "precision = precision_score(Y_train, y_train_pred)\n",
    "recall = recall_score(Y_train, y_train_pred)\n",
    "f1 = f1_score(Y_train, y_train_pred)\n",
    "\n",
    "# Print evaluation results\n",
    "print(f\"Accuracy: {accuracy}\")\n",
    "print(f\"Confusion Matrix:\\n{conf_matrix}\")\n",
    "print(f\"Precision: {precision}\")\n",
    "print(f\"Recall: {recall}\")\n",
    "print(f\"F1 Score: {f1}\")"
   ]
  },
  {
   "cell_type": "markdown",
   "metadata": {},
   "source": [
    "If we just guessed all cases lived we'd have an accuracy of around 80%, so an accuracy of ~84.1% is a pretty good improvement from that.\n",
    "\n",
    "Our confusion matrix shows that this model is very conservative in predicting positives. We only no false positives, but 5559 false nagatives. Considering we only had 1439 true positives, that means if a case was positive our model got it wrong ~4 times more often than it got it right. This is worrying especially when you consider that a false negative could mean a danger to a patients life.\n",
    "\n",
    "The precision for positives is perfect at 100%, but this also shows a model thats very conservative in assigning positive values. When we do assign a positive value we are always right.\n",
    "\n",
    "The recall being so low at 20.6% also shows this since we are only able to correctly identify about 1 in 5 possitive cases.\n",
    "\n",
    "This abysmal recall also affects the F1 score leading to a low score of 34.1% which means the the accuracy and high precision are misleading as the low recall means that the model isn't prediting positives well, and the only reason the accuracy is so high is becauset most cases are negative.\n",
    "\n",
    "Overall a poor performace from this model, but it does outperform a bbasecase model that oly guesses No."
   ]
  },
  {
   "cell_type": "markdown",
   "metadata": {},
   "source": [
    "### 2.4 Evaluate with test sample "
   ]
  },
  {
   "cell_type": "code",
   "execution_count": 69,
   "metadata": {},
   "outputs": [
    {
     "name": "stdout",
     "output_type": "stream",
     "text": [
      "Accuracy: 0.8417780748663102\n",
      "Confusion Matrix:\n",
      "[[11974     0]\n",
      " [ 2367   619]]\n",
      "Precision: 1.0\n",
      "Recall: 0.2073007367716008\n",
      "F1 Score: 0.3434119278779473\n"
     ]
    }
   ],
   "source": [
    "X_test = test.drop('death_yn', axis = 1)\n",
    "Y_test = test['death_yn']\n",
    "\n",
    "# Predict on the training set\n",
    "y_test_pred = linModel.predict(X_test)\n",
    "\n",
    "#round the predicted probabilities to an int binary\n",
    "for pred in y_test_pred:\n",
    "    if pred >= 0.5:\n",
    "        pred = 1\n",
    "    else:\n",
    "        pred = 0\n",
    "        \n",
    "y_test_pred = y_test_pred.astype(int)\n",
    "\n",
    "# Compute metrics\n",
    "accuracy = accuracy_score(Y_test, y_test_pred)\n",
    "conf_matrix = confusion_matrix(Y_test, y_test_pred)\n",
    "precision = precision_score(Y_test, y_test_pred)\n",
    "recall = recall_score(Y_test, y_test_pred)\n",
    "f1 = f1_score(Y_test, y_test_pred)\n",
    "\n",
    "# Print evaluation results\n",
    "print(f\"Accuracy: {accuracy}\")\n",
    "print(f\"Confusion Matrix:\\n{conf_matrix}\")\n",
    "print(f\"Precision: {precision}\")\n",
    "print(f\"Recall: {recall}\")\n",
    "print(f\"F1 Score: {f1}\")"
   ]
  },
  {
   "cell_type": "markdown",
   "metadata": {},
   "source": [
    "The test split shows about the same but slightly higher accuracy and the same perfect precision. These are both bad indicators of the effectiveness of this model as the confusion matrix, Recall, and F1 score are all still very low, although all are slightly better than the test. This shows a huge bias twoards false negatives. This model is great at predicting negative cases accurately but terrible at correctly predicting positive cases."
   ]
  },
  {
   "cell_type": "markdown",
   "metadata": {},
   "source": [
    "#### cross validation"
   ]
  },
  {
   "cell_type": "code",
   "execution_count": 70,
   "metadata": {},
   "outputs": [],
   "source": [
    "from sklearn.model_selection import KFold"
   ]
  },
  {
   "cell_type": "markdown",
   "metadata": {},
   "source": [
    "I am going to use classic k fold for doing cross validation"
   ]
  },
  {
   "cell_type": "code",
   "execution_count": 71,
   "metadata": {},
   "outputs": [
    {
     "name": "stdout",
     "output_type": "stream",
     "text": [
      "Accuracy scores for each fold: [0.8374774413475035, 0.8398836976137959, 0.8459995989572889, 0.8437782011430863, 0.8410708914067984]\n",
      "Average accuracy across folds: 0.8416419660936946\n",
      "Confusion_matrix scores for each fold: [array([[7944,    0],\n",
      "       [1621,  409]]), array([[7938,    0],\n",
      "       [1597,  439]]), array([[8038,    0],\n",
      "       [1536,  400]]), array([[7992,    0],\n",
      "       [1558,  423]]), array([[7972,    0],\n",
      "       [1585,  416]])]\n",
      "Precision scores for each fold: [1.0, 1.0, 1.0, 1.0, 1.0]\n",
      "Average precision across folds: 1.0\n",
      "Recall scores for each fold: [0.20147783251231527, 0.2156188605108055, 0.2066115702479339, 0.21352852094901564, 0.20789605197401298]\n",
      "Average recall across folds: 0.20902656723881666\n",
      "F1 scores for each fold: [0.33538335383353834, 0.35474747474747476, 0.3424657534246575, 0.3519134775374376, 0.3442283822920976]\n",
      "Average f1 across folds: 0.34574768836704123\n"
     ]
    }
   ],
   "source": [
    "X = df.drop('death_yn', axis=1)\n",
    "Y = df['death_yn']\n",
    "\n",
    "# Set up KFold\n",
    "kf = KFold(n_splits=5, shuffle=True, random_state=42)\n",
    "\n",
    "# Dictionary to store the scores\n",
    "scores = {\n",
    "    'accuracy': [],\n",
    "    'confusion_matrix': [],\n",
    "    'precision': [],\n",
    "    'recall': [],\n",
    "    'f1': []\n",
    "}\n",
    "\n",
    "# Perform cross-validation\n",
    "for train_index, test_index in kf.split(X):\n",
    "    X_cross_train, X_cross_test = X.iloc[train_index], X.iloc[test_index]\n",
    "    Y_cross_train, Y_cross_test = Y.iloc[train_index], Y.iloc[test_index]\n",
    "\n",
    "    linModel.fit(X_cross_train, Y_cross_train)\n",
    "    predictions = linModel.predict(X_cross_test)\n",
    "    \n",
    "    #round the predicted probabilities to an int binary\n",
    "    for pred in predictions:\n",
    "        if pred >= 0.5:\n",
    "            pred = 1\n",
    "        else:\n",
    "            pred = 0\n",
    "    predictions = predictions.astype(int)\n",
    "    \n",
    "    # Compute metrics\n",
    "    scores['accuracy'].append(accuracy_score(Y_cross_test, predictions))\n",
    "    scores['confusion_matrix'].append(confusion_matrix(Y_cross_test, predictions))\n",
    "    scores['precision'].append(precision_score(Y_cross_test, predictions))\n",
    "    scores['recall'].append(recall_score(Y_cross_test, predictions))\n",
    "    scores['f1'].append(f1_score(Y_cross_test, predictions))\n",
    "\n",
    "# Print each metric's results across all folds\n",
    "for metric in scores:\n",
    "    print(f\"{metric.capitalize()} scores for each fold:\", scores[metric])\n",
    "    if metric != 'confusion_matrix':  # Average does not apply to confusion matrices\n",
    "        print(f\"Average {metric} across folds:\", np.mean(scores[metric]))\n"
   ]
  },
  {
   "cell_type": "markdown",
   "metadata": {},
   "source": [
    "We see very similar results in the cross validation to the original train test split. The model overall has pretty good accuracy and perfect precision but those are due to most of the rows having a negative death value. The low recall and F1 scores show that the model is still bed at predicting positives, and will predict most positive cases as negative."
   ]
  },
  {
   "cell_type": "markdown",
   "metadata": {},
   "source": [
    "## Excersize 3: Logistic regression"
   ]
  },
  {
   "cell_type": "markdown",
   "metadata": {},
   "source": [
    "### 3.1 train the model"
   ]
  },
  {
   "cell_type": "code",
   "execution_count": 72,
   "metadata": {},
   "outputs": [],
   "source": [
    "from sklearn.linear_model import LogisticRegression"
   ]
  },
  {
   "cell_type": "code",
   "execution_count": 73,
   "metadata": {},
   "outputs": [
    {
     "name": "stderr",
     "output_type": "stream",
     "text": [
      "/Users/adamsouthwick/miniconda3/envs/data_an/lib/python3.11/site-packages/sklearn/linear_model/_logistic.py:469: ConvergenceWarning: lbfgs failed to converge (status=1):\n",
      "STOP: TOTAL NO. of ITERATIONS REACHED LIMIT.\n",
      "\n",
      "Increase the number of iterations (max_iter) or scale the data as shown in:\n",
      "    https://scikit-learn.org/stable/modules/preprocessing.html\n",
      "Please also refer to the documentation for alternative solver options:\n",
      "    https://scikit-learn.org/stable/modules/linear_model.html#logistic-regression\n",
      "  n_iter_i = _check_optimize_result(\n"
     ]
    },
    {
     "data": {
      "text/html": [
       "<style>#sk-container-id-2 {\n",
       "  /* Definition of color scheme common for light and dark mode */\n",
       "  --sklearn-color-text: black;\n",
       "  --sklearn-color-line: gray;\n",
       "  /* Definition of color scheme for unfitted estimators */\n",
       "  --sklearn-color-unfitted-level-0: #fff5e6;\n",
       "  --sklearn-color-unfitted-level-1: #f6e4d2;\n",
       "  --sklearn-color-unfitted-level-2: #ffe0b3;\n",
       "  --sklearn-color-unfitted-level-3: chocolate;\n",
       "  /* Definition of color scheme for fitted estimators */\n",
       "  --sklearn-color-fitted-level-0: #f0f8ff;\n",
       "  --sklearn-color-fitted-level-1: #d4ebff;\n",
       "  --sklearn-color-fitted-level-2: #b3dbfd;\n",
       "  --sklearn-color-fitted-level-3: cornflowerblue;\n",
       "\n",
       "  /* Specific color for light theme */\n",
       "  --sklearn-color-text-on-default-background: var(--sg-text-color, var(--theme-code-foreground, var(--jp-content-font-color1, black)));\n",
       "  --sklearn-color-background: var(--sg-background-color, var(--theme-background, var(--jp-layout-color0, white)));\n",
       "  --sklearn-color-border-box: var(--sg-text-color, var(--theme-code-foreground, var(--jp-content-font-color1, black)));\n",
       "  --sklearn-color-icon: #696969;\n",
       "\n",
       "  @media (prefers-color-scheme: dark) {\n",
       "    /* Redefinition of color scheme for dark theme */\n",
       "    --sklearn-color-text-on-default-background: var(--sg-text-color, var(--theme-code-foreground, var(--jp-content-font-color1, white)));\n",
       "    --sklearn-color-background: var(--sg-background-color, var(--theme-background, var(--jp-layout-color0, #111)));\n",
       "    --sklearn-color-border-box: var(--sg-text-color, var(--theme-code-foreground, var(--jp-content-font-color1, white)));\n",
       "    --sklearn-color-icon: #878787;\n",
       "  }\n",
       "}\n",
       "\n",
       "#sk-container-id-2 {\n",
       "  color: var(--sklearn-color-text);\n",
       "}\n",
       "\n",
       "#sk-container-id-2 pre {\n",
       "  padding: 0;\n",
       "}\n",
       "\n",
       "#sk-container-id-2 input.sk-hidden--visually {\n",
       "  border: 0;\n",
       "  clip: rect(1px 1px 1px 1px);\n",
       "  clip: rect(1px, 1px, 1px, 1px);\n",
       "  height: 1px;\n",
       "  margin: -1px;\n",
       "  overflow: hidden;\n",
       "  padding: 0;\n",
       "  position: absolute;\n",
       "  width: 1px;\n",
       "}\n",
       "\n",
       "#sk-container-id-2 div.sk-dashed-wrapped {\n",
       "  border: 1px dashed var(--sklearn-color-line);\n",
       "  margin: 0 0.4em 0.5em 0.4em;\n",
       "  box-sizing: border-box;\n",
       "  padding-bottom: 0.4em;\n",
       "  background-color: var(--sklearn-color-background);\n",
       "}\n",
       "\n",
       "#sk-container-id-2 div.sk-container {\n",
       "  /* jupyter's `normalize.less` sets `[hidden] { display: none; }`\n",
       "     but bootstrap.min.css set `[hidden] { display: none !important; }`\n",
       "     so we also need the `!important` here to be able to override the\n",
       "     default hidden behavior on the sphinx rendered scikit-learn.org.\n",
       "     See: https://github.com/scikit-learn/scikit-learn/issues/21755 */\n",
       "  display: inline-block !important;\n",
       "  position: relative;\n",
       "}\n",
       "\n",
       "#sk-container-id-2 div.sk-text-repr-fallback {\n",
       "  display: none;\n",
       "}\n",
       "\n",
       "div.sk-parallel-item,\n",
       "div.sk-serial,\n",
       "div.sk-item {\n",
       "  /* draw centered vertical line to link estimators */\n",
       "  background-image: linear-gradient(var(--sklearn-color-text-on-default-background), var(--sklearn-color-text-on-default-background));\n",
       "  background-size: 2px 100%;\n",
       "  background-repeat: no-repeat;\n",
       "  background-position: center center;\n",
       "}\n",
       "\n",
       "/* Parallel-specific style estimator block */\n",
       "\n",
       "#sk-container-id-2 div.sk-parallel-item::after {\n",
       "  content: \"\";\n",
       "  width: 100%;\n",
       "  border-bottom: 2px solid var(--sklearn-color-text-on-default-background);\n",
       "  flex-grow: 1;\n",
       "}\n",
       "\n",
       "#sk-container-id-2 div.sk-parallel {\n",
       "  display: flex;\n",
       "  align-items: stretch;\n",
       "  justify-content: center;\n",
       "  background-color: var(--sklearn-color-background);\n",
       "  position: relative;\n",
       "}\n",
       "\n",
       "#sk-container-id-2 div.sk-parallel-item {\n",
       "  display: flex;\n",
       "  flex-direction: column;\n",
       "}\n",
       "\n",
       "#sk-container-id-2 div.sk-parallel-item:first-child::after {\n",
       "  align-self: flex-end;\n",
       "  width: 50%;\n",
       "}\n",
       "\n",
       "#sk-container-id-2 div.sk-parallel-item:last-child::after {\n",
       "  align-self: flex-start;\n",
       "  width: 50%;\n",
       "}\n",
       "\n",
       "#sk-container-id-2 div.sk-parallel-item:only-child::after {\n",
       "  width: 0;\n",
       "}\n",
       "\n",
       "/* Serial-specific style estimator block */\n",
       "\n",
       "#sk-container-id-2 div.sk-serial {\n",
       "  display: flex;\n",
       "  flex-direction: column;\n",
       "  align-items: center;\n",
       "  background-color: var(--sklearn-color-background);\n",
       "  padding-right: 1em;\n",
       "  padding-left: 1em;\n",
       "}\n",
       "\n",
       "\n",
       "/* Toggleable style: style used for estimator/Pipeline/ColumnTransformer box that is\n",
       "clickable and can be expanded/collapsed.\n",
       "- Pipeline and ColumnTransformer use this feature and define the default style\n",
       "- Estimators will overwrite some part of the style using the `sk-estimator` class\n",
       "*/\n",
       "\n",
       "/* Pipeline and ColumnTransformer style (default) */\n",
       "\n",
       "#sk-container-id-2 div.sk-toggleable {\n",
       "  /* Default theme specific background. It is overwritten whether we have a\n",
       "  specific estimator or a Pipeline/ColumnTransformer */\n",
       "  background-color: var(--sklearn-color-background);\n",
       "}\n",
       "\n",
       "/* Toggleable label */\n",
       "#sk-container-id-2 label.sk-toggleable__label {\n",
       "  cursor: pointer;\n",
       "  display: block;\n",
       "  width: 100%;\n",
       "  margin-bottom: 0;\n",
       "  padding: 0.5em;\n",
       "  box-sizing: border-box;\n",
       "  text-align: center;\n",
       "}\n",
       "\n",
       "#sk-container-id-2 label.sk-toggleable__label-arrow:before {\n",
       "  /* Arrow on the left of the label */\n",
       "  content: \"▸\";\n",
       "  float: left;\n",
       "  margin-right: 0.25em;\n",
       "  color: var(--sklearn-color-icon);\n",
       "}\n",
       "\n",
       "#sk-container-id-2 label.sk-toggleable__label-arrow:hover:before {\n",
       "  color: var(--sklearn-color-text);\n",
       "}\n",
       "\n",
       "/* Toggleable content - dropdown */\n",
       "\n",
       "#sk-container-id-2 div.sk-toggleable__content {\n",
       "  max-height: 0;\n",
       "  max-width: 0;\n",
       "  overflow: hidden;\n",
       "  text-align: left;\n",
       "  /* unfitted */\n",
       "  background-color: var(--sklearn-color-unfitted-level-0);\n",
       "}\n",
       "\n",
       "#sk-container-id-2 div.sk-toggleable__content.fitted {\n",
       "  /* fitted */\n",
       "  background-color: var(--sklearn-color-fitted-level-0);\n",
       "}\n",
       "\n",
       "#sk-container-id-2 div.sk-toggleable__content pre {\n",
       "  margin: 0.2em;\n",
       "  border-radius: 0.25em;\n",
       "  color: var(--sklearn-color-text);\n",
       "  /* unfitted */\n",
       "  background-color: var(--sklearn-color-unfitted-level-0);\n",
       "}\n",
       "\n",
       "#sk-container-id-2 div.sk-toggleable__content.fitted pre {\n",
       "  /* unfitted */\n",
       "  background-color: var(--sklearn-color-fitted-level-0);\n",
       "}\n",
       "\n",
       "#sk-container-id-2 input.sk-toggleable__control:checked~div.sk-toggleable__content {\n",
       "  /* Expand drop-down */\n",
       "  max-height: 200px;\n",
       "  max-width: 100%;\n",
       "  overflow: auto;\n",
       "}\n",
       "\n",
       "#sk-container-id-2 input.sk-toggleable__control:checked~label.sk-toggleable__label-arrow:before {\n",
       "  content: \"▾\";\n",
       "}\n",
       "\n",
       "/* Pipeline/ColumnTransformer-specific style */\n",
       "\n",
       "#sk-container-id-2 div.sk-label input.sk-toggleable__control:checked~label.sk-toggleable__label {\n",
       "  color: var(--sklearn-color-text);\n",
       "  background-color: var(--sklearn-color-unfitted-level-2);\n",
       "}\n",
       "\n",
       "#sk-container-id-2 div.sk-label.fitted input.sk-toggleable__control:checked~label.sk-toggleable__label {\n",
       "  background-color: var(--sklearn-color-fitted-level-2);\n",
       "}\n",
       "\n",
       "/* Estimator-specific style */\n",
       "\n",
       "/* Colorize estimator box */\n",
       "#sk-container-id-2 div.sk-estimator input.sk-toggleable__control:checked~label.sk-toggleable__label {\n",
       "  /* unfitted */\n",
       "  background-color: var(--sklearn-color-unfitted-level-2);\n",
       "}\n",
       "\n",
       "#sk-container-id-2 div.sk-estimator.fitted input.sk-toggleable__control:checked~label.sk-toggleable__label {\n",
       "  /* fitted */\n",
       "  background-color: var(--sklearn-color-fitted-level-2);\n",
       "}\n",
       "\n",
       "#sk-container-id-2 div.sk-label label.sk-toggleable__label,\n",
       "#sk-container-id-2 div.sk-label label {\n",
       "  /* The background is the default theme color */\n",
       "  color: var(--sklearn-color-text-on-default-background);\n",
       "}\n",
       "\n",
       "/* On hover, darken the color of the background */\n",
       "#sk-container-id-2 div.sk-label:hover label.sk-toggleable__label {\n",
       "  color: var(--sklearn-color-text);\n",
       "  background-color: var(--sklearn-color-unfitted-level-2);\n",
       "}\n",
       "\n",
       "/* Label box, darken color on hover, fitted */\n",
       "#sk-container-id-2 div.sk-label.fitted:hover label.sk-toggleable__label.fitted {\n",
       "  color: var(--sklearn-color-text);\n",
       "  background-color: var(--sklearn-color-fitted-level-2);\n",
       "}\n",
       "\n",
       "/* Estimator label */\n",
       "\n",
       "#sk-container-id-2 div.sk-label label {\n",
       "  font-family: monospace;\n",
       "  font-weight: bold;\n",
       "  display: inline-block;\n",
       "  line-height: 1.2em;\n",
       "}\n",
       "\n",
       "#sk-container-id-2 div.sk-label-container {\n",
       "  text-align: center;\n",
       "}\n",
       "\n",
       "/* Estimator-specific */\n",
       "#sk-container-id-2 div.sk-estimator {\n",
       "  font-family: monospace;\n",
       "  border: 1px dotted var(--sklearn-color-border-box);\n",
       "  border-radius: 0.25em;\n",
       "  box-sizing: border-box;\n",
       "  margin-bottom: 0.5em;\n",
       "  /* unfitted */\n",
       "  background-color: var(--sklearn-color-unfitted-level-0);\n",
       "}\n",
       "\n",
       "#sk-container-id-2 div.sk-estimator.fitted {\n",
       "  /* fitted */\n",
       "  background-color: var(--sklearn-color-fitted-level-0);\n",
       "}\n",
       "\n",
       "/* on hover */\n",
       "#sk-container-id-2 div.sk-estimator:hover {\n",
       "  /* unfitted */\n",
       "  background-color: var(--sklearn-color-unfitted-level-2);\n",
       "}\n",
       "\n",
       "#sk-container-id-2 div.sk-estimator.fitted:hover {\n",
       "  /* fitted */\n",
       "  background-color: var(--sklearn-color-fitted-level-2);\n",
       "}\n",
       "\n",
       "/* Specification for estimator info (e.g. \"i\" and \"?\") */\n",
       "\n",
       "/* Common style for \"i\" and \"?\" */\n",
       "\n",
       ".sk-estimator-doc-link,\n",
       "a:link.sk-estimator-doc-link,\n",
       "a:visited.sk-estimator-doc-link {\n",
       "  float: right;\n",
       "  font-size: smaller;\n",
       "  line-height: 1em;\n",
       "  font-family: monospace;\n",
       "  background-color: var(--sklearn-color-background);\n",
       "  border-radius: 1em;\n",
       "  height: 1em;\n",
       "  width: 1em;\n",
       "  text-decoration: none !important;\n",
       "  margin-left: 1ex;\n",
       "  /* unfitted */\n",
       "  border: var(--sklearn-color-unfitted-level-1) 1pt solid;\n",
       "  color: var(--sklearn-color-unfitted-level-1);\n",
       "}\n",
       "\n",
       ".sk-estimator-doc-link.fitted,\n",
       "a:link.sk-estimator-doc-link.fitted,\n",
       "a:visited.sk-estimator-doc-link.fitted {\n",
       "  /* fitted */\n",
       "  border: var(--sklearn-color-fitted-level-1) 1pt solid;\n",
       "  color: var(--sklearn-color-fitted-level-1);\n",
       "}\n",
       "\n",
       "/* On hover */\n",
       "div.sk-estimator:hover .sk-estimator-doc-link:hover,\n",
       ".sk-estimator-doc-link:hover,\n",
       "div.sk-label-container:hover .sk-estimator-doc-link:hover,\n",
       ".sk-estimator-doc-link:hover {\n",
       "  /* unfitted */\n",
       "  background-color: var(--sklearn-color-unfitted-level-3);\n",
       "  color: var(--sklearn-color-background);\n",
       "  text-decoration: none;\n",
       "}\n",
       "\n",
       "div.sk-estimator.fitted:hover .sk-estimator-doc-link.fitted:hover,\n",
       ".sk-estimator-doc-link.fitted:hover,\n",
       "div.sk-label-container:hover .sk-estimator-doc-link.fitted:hover,\n",
       ".sk-estimator-doc-link.fitted:hover {\n",
       "  /* fitted */\n",
       "  background-color: var(--sklearn-color-fitted-level-3);\n",
       "  color: var(--sklearn-color-background);\n",
       "  text-decoration: none;\n",
       "}\n",
       "\n",
       "/* Span, style for the box shown on hovering the info icon */\n",
       ".sk-estimator-doc-link span {\n",
       "  display: none;\n",
       "  z-index: 9999;\n",
       "  position: relative;\n",
       "  font-weight: normal;\n",
       "  right: .2ex;\n",
       "  padding: .5ex;\n",
       "  margin: .5ex;\n",
       "  width: min-content;\n",
       "  min-width: 20ex;\n",
       "  max-width: 50ex;\n",
       "  color: var(--sklearn-color-text);\n",
       "  box-shadow: 2pt 2pt 4pt #999;\n",
       "  /* unfitted */\n",
       "  background: var(--sklearn-color-unfitted-level-0);\n",
       "  border: .5pt solid var(--sklearn-color-unfitted-level-3);\n",
       "}\n",
       "\n",
       ".sk-estimator-doc-link.fitted span {\n",
       "  /* fitted */\n",
       "  background: var(--sklearn-color-fitted-level-0);\n",
       "  border: var(--sklearn-color-fitted-level-3);\n",
       "}\n",
       "\n",
       ".sk-estimator-doc-link:hover span {\n",
       "  display: block;\n",
       "}\n",
       "\n",
       "/* \"?\"-specific style due to the `<a>` HTML tag */\n",
       "\n",
       "#sk-container-id-2 a.estimator_doc_link {\n",
       "  float: right;\n",
       "  font-size: 1rem;\n",
       "  line-height: 1em;\n",
       "  font-family: monospace;\n",
       "  background-color: var(--sklearn-color-background);\n",
       "  border-radius: 1rem;\n",
       "  height: 1rem;\n",
       "  width: 1rem;\n",
       "  text-decoration: none;\n",
       "  /* unfitted */\n",
       "  color: var(--sklearn-color-unfitted-level-1);\n",
       "  border: var(--sklearn-color-unfitted-level-1) 1pt solid;\n",
       "}\n",
       "\n",
       "#sk-container-id-2 a.estimator_doc_link.fitted {\n",
       "  /* fitted */\n",
       "  border: var(--sklearn-color-fitted-level-1) 1pt solid;\n",
       "  color: var(--sklearn-color-fitted-level-1);\n",
       "}\n",
       "\n",
       "/* On hover */\n",
       "#sk-container-id-2 a.estimator_doc_link:hover {\n",
       "  /* unfitted */\n",
       "  background-color: var(--sklearn-color-unfitted-level-3);\n",
       "  color: var(--sklearn-color-background);\n",
       "  text-decoration: none;\n",
       "}\n",
       "\n",
       "#sk-container-id-2 a.estimator_doc_link.fitted:hover {\n",
       "  /* fitted */\n",
       "  background-color: var(--sklearn-color-fitted-level-3);\n",
       "}\n",
       "</style><div id=\"sk-container-id-2\" class=\"sk-top-container\"><div class=\"sk-text-repr-fallback\"><pre>LogisticRegression()</pre><b>In a Jupyter environment, please rerun this cell to show the HTML representation or trust the notebook. <br />On GitHub, the HTML representation is unable to render, please try loading this page with nbviewer.org.</b></div><div class=\"sk-container\" hidden><div class=\"sk-item\"><div class=\"sk-estimator fitted sk-toggleable\"><input class=\"sk-toggleable__control sk-hidden--visually\" id=\"sk-estimator-id-2\" type=\"checkbox\" checked><label for=\"sk-estimator-id-2\" class=\"sk-toggleable__label fitted sk-toggleable__label-arrow fitted\">&nbsp;&nbsp;LogisticRegression<a class=\"sk-estimator-doc-link fitted\" rel=\"noreferrer\" target=\"_blank\" href=\"https://scikit-learn.org/1.4/modules/generated/sklearn.linear_model.LogisticRegression.html\">?<span>Documentation for LogisticRegression</span></a><span class=\"sk-estimator-doc-link fitted\">i<span>Fitted</span></span></label><div class=\"sk-toggleable__content fitted\"><pre>LogisticRegression()</pre></div> </div></div></div></div>"
      ],
      "text/plain": [
       "LogisticRegression()"
      ]
     },
     "execution_count": 73,
     "metadata": {},
     "output_type": "execute_result"
    }
   ],
   "source": [
    "logModel = LogisticRegression()\n",
    "logModel.fit(X_train, Y_train)"
   ]
  },
  {
   "cell_type": "markdown",
   "metadata": {},
   "source": [
    "### 3.2 print coefficients"
   ]
  },
  {
   "cell_type": "code",
   "execution_count": 74,
   "metadata": {},
   "outputs": [
    {
     "name": "stdout",
     "output_type": "stream",
     "text": [
      "[[-1.12858798e+00  3.13078781e+00  4.37268775e+00  4.09639083e+00\n",
      "   7.81751171e-05 -8.82065822e-02  1.51609252e+00 -3.72718007e+00\n",
      "  -1.05713889e+00 -2.60154909e+00 -3.91195584e-01  1.98757898e+00\n",
      "   4.84457441e-01]]\n"
     ]
    }
   ],
   "source": [
    "coefficients = logModel.coef_\n",
    "print(coefficients)"
   ]
  },
  {
   "cell_type": "code",
   "execution_count": 75,
   "metadata": {},
   "outputs": [
    {
     "name": "stdout",
     "output_type": "stream",
     "text": [
      "<class 'pandas.core.frame.DataFrame'>\n",
      "Index: 34908 entries, 38946 to 24896\n",
      "Data columns (total 13 columns):\n",
      " #   Column                    Non-Null Count  Dtype  \n",
      "---  ------                    --------------  -----  \n",
      " 0   current_status            34908 non-null  float64\n",
      " 1   hosp_yn                   34908 non-null  float64\n",
      " 2   icu_yn                    34908 non-null  float64\n",
      " 3   underlying_conditions_yn  34908 non-null  float64\n",
      " 4   county_density            34908 non-null  float64\n",
      " 5   months_since_start        34908 non-null  int32  \n",
      " 6   state_death_high          34908 non-null  int64  \n",
      " 7   state_death_low           34908 non-null  int64  \n",
      " 8   0_to_17                   34908 non-null  int64  \n",
      " 9   18_to_49                  34908 non-null  int64  \n",
      " 10  50_to_64                  34908 non-null  int64  \n",
      " 11  65_plus                   34908 non-null  int64  \n",
      " 12  is_white                  34908 non-null  int64  \n",
      "dtypes: float64(5), int32(1), int64(7)\n",
      "memory usage: 3.6 MB\n"
     ]
    }
   ],
   "source": [
    "X_train.info()"
   ]
  },
  {
   "cell_type": "markdown",
   "metadata": {},
   "source": [
    "In this model we can see that the strongest coefficiets are icu_yn, underlying_condition_yn and, interestingly, state_death_low. This is interesting as state_death_low didn't even make it into the highest magnitude of coefficinets in the linear model.\n",
    "\n",
    "Other coefficients that performed most strongly in this model are hosp_yn, state_death_high, and the youngest two age groups. This is also interesting, and those age groups performed in the weakest magnitude in the linear model. This model reflects more of how I exoected them to perform based on the percent split in my prep."
   ]
  },
  {
   "cell_type": "markdown",
   "metadata": {},
   "source": [
    "### 3.3 Predict 10 training predictions"
   ]
  },
  {
   "cell_type": "code",
   "execution_count": 76,
   "metadata": {},
   "outputs": [
    {
     "name": "stdout",
     "output_type": "stream",
     "text": [
      "[0. 0. 0. 0. 0. 1. 0. 0. 0. 0.]\n"
     ]
    }
   ],
   "source": [
    "train_predictions = logModel.predict(X_train)\n",
    "print(train_predictions[:10])"
   ]
  },
  {
   "cell_type": "markdown",
   "metadata": {},
   "source": [
    "assign these numerical values to yes or no desth_yn"
   ]
  },
  {
   "cell_type": "code",
   "execution_count": 77,
   "metadata": {},
   "outputs": [
    {
     "name": "stdout",
     "output_type": "stream",
     "text": [
      "no\n",
      "no\n",
      "no\n",
      "no\n",
      "no\n",
      "yes\n",
      "no\n",
      "no\n",
      "no\n",
      "no\n"
     ]
    }
   ],
   "source": [
    "for p in train_predictions[:10]:\n",
    "    if p == 1:\n",
    "        print(\"yes\")\n",
    "    else:\n",
    "        print(\"no\")"
   ]
  },
  {
   "cell_type": "markdown",
   "metadata": {},
   "source": [
    "Lets apply the evaluation measures."
   ]
  },
  {
   "cell_type": "code",
   "execution_count": 78,
   "metadata": {},
   "outputs": [
    {
     "name": "stdout",
     "output_type": "stream",
     "text": [
      "Accuracy: 0.9859344562850922\n",
      "Confusion Matrix:\n",
      "[[27687   223]\n",
      " [  268  6730]]\n",
      "Precision: 0.9679275133036099\n",
      "Recall: 0.9617033438125179\n",
      "F1 Score: 0.9648053902946025\n"
     ]
    }
   ],
   "source": [
    "# Predict on the training set\n",
    "y_train_pred = logModel.predict(X_train)\n",
    "\n",
    "# Compute metrics\n",
    "accuracy = accuracy_score(Y_train, y_train_pred)\n",
    "conf_matrix = confusion_matrix(Y_train, y_train_pred)\n",
    "precision = precision_score(Y_train, y_train_pred)\n",
    "recall = recall_score(Y_train, y_train_pred)\n",
    "f1 = f1_score(Y_train, y_train_pred)\n",
    "\n",
    "# Print evaluation results\n",
    "print(f\"Accuracy: {accuracy}\")\n",
    "print(f\"Confusion Matrix:\\n{conf_matrix}\")\n",
    "print(f\"Precision: {precision}\")\n",
    "print(f\"Recall: {recall}\")\n",
    "print(f\"F1 Score: {f1}\")"
   ]
  },
  {
   "cell_type": "markdown",
   "metadata": {},
   "source": [
    "These metrics show an incredile increase in performace from the linear model. The accuracy is 98.6% which is well above the accuracy of a baseline model. The confusion matrix shows a few mistakes but unlike the linear model they are ot skewed too heavily in one direction or the other. There are more false negatives than false positives again like the linear model, so it is still abit conservative with assigning positive values, but not nnearly as bad as the linear model.\n",
    "\n",
    "The precision is technically lower than the linear model but the high recall and F1 score are way higher showing that the dip in precision is due to a more balanced collection of errors, which shows a less biased model. Over all I am very pleased with this models performance."
   ]
  },
  {
   "cell_type": "markdown",
   "metadata": {},
   "source": [
    "### 3.4 Evaluate with test sample "
   ]
  },
  {
   "cell_type": "code",
   "execution_count": 79,
   "metadata": {},
   "outputs": [
    {
     "name": "stdout",
     "output_type": "stream",
     "text": [
      "Accuracy: 0.9860294117647059\n",
      "Confusion Matrix:\n",
      "[[11872   102]\n",
      " [  107  2879]]\n",
      "Precision: 0.9657832941965784\n",
      "Recall: 0.964166108506363\n",
      "F1 Score: 0.9649740237975533\n"
     ]
    }
   ],
   "source": [
    "# Predict on the training set\n",
    "y_test_pred = logModel.predict(X_test)\n",
    "\n",
    "# Compute metrics\n",
    "accuracy = accuracy_score(Y_test, y_test_pred)\n",
    "conf_matrix = confusion_matrix(Y_test, y_test_pred)\n",
    "precision = precision_score(Y_test, y_test_pred)\n",
    "recall = recall_score(Y_test, y_test_pred)\n",
    "f1 = f1_score(Y_test, y_test_pred)\n",
    "\n",
    "# Print evaluation results\n",
    "print(f\"Accuracy: {accuracy}\")\n",
    "print(f\"Confusion Matrix:\\n{conf_matrix}\")\n",
    "print(f\"Precision: {precision}\")\n",
    "print(f\"Recall: {recall}\")\n",
    "print(f\"F1 Score: {f1}\")"
   ]
  },
  {
   "cell_type": "markdown",
   "metadata": {},
   "source": [
    "All of the scores are a tiny bit lower than in the test split, but that is to be expected. The fact that they are still so high means that the excellent scores that we see durring the test split are not due to the model memorizing the data as it can almost just as accurately predict the correct outcomes from new unseen data."
   ]
  },
  {
   "cell_type": "markdown",
   "metadata": {},
   "source": [
    "#### cross validation"
   ]
  },
  {
   "cell_type": "code",
   "execution_count": 80,
   "metadata": {},
   "outputs": [
    {
     "name": "stderr",
     "output_type": "stream",
     "text": [
      "/Users/adamsouthwick/miniconda3/envs/data_an/lib/python3.11/site-packages/sklearn/linear_model/_logistic.py:469: ConvergenceWarning: lbfgs failed to converge (status=1):\n",
      "STOP: TOTAL NO. of ITERATIONS REACHED LIMIT.\n",
      "\n",
      "Increase the number of iterations (max_iter) or scale the data as shown in:\n",
      "    https://scikit-learn.org/stable/modules/preprocessing.html\n",
      "Please also refer to the documentation for alternative solver options:\n",
      "    https://scikit-learn.org/stable/modules/linear_model.html#logistic-regression\n",
      "  n_iter_i = _check_optimize_result(\n",
      "/Users/adamsouthwick/miniconda3/envs/data_an/lib/python3.11/site-packages/sklearn/linear_model/_logistic.py:469: ConvergenceWarning: lbfgs failed to converge (status=1):\n",
      "STOP: TOTAL NO. of ITERATIONS REACHED LIMIT.\n",
      "\n",
      "Increase the number of iterations (max_iter) or scale the data as shown in:\n",
      "    https://scikit-learn.org/stable/modules/preprocessing.html\n",
      "Please also refer to the documentation for alternative solver options:\n",
      "    https://scikit-learn.org/stable/modules/linear_model.html#logistic-regression\n",
      "  n_iter_i = _check_optimize_result(\n",
      "/Users/adamsouthwick/miniconda3/envs/data_an/lib/python3.11/site-packages/sklearn/linear_model/_logistic.py:469: ConvergenceWarning: lbfgs failed to converge (status=1):\n",
      "STOP: TOTAL NO. of ITERATIONS REACHED LIMIT.\n",
      "\n",
      "Increase the number of iterations (max_iter) or scale the data as shown in:\n",
      "    https://scikit-learn.org/stable/modules/preprocessing.html\n",
      "Please also refer to the documentation for alternative solver options:\n",
      "    https://scikit-learn.org/stable/modules/linear_model.html#logistic-regression\n",
      "  n_iter_i = _check_optimize_result(\n",
      "/Users/adamsouthwick/miniconda3/envs/data_an/lib/python3.11/site-packages/sklearn/linear_model/_logistic.py:469: ConvergenceWarning: lbfgs failed to converge (status=1):\n",
      "STOP: TOTAL NO. of ITERATIONS REACHED LIMIT.\n",
      "\n",
      "Increase the number of iterations (max_iter) or scale the data as shown in:\n",
      "    https://scikit-learn.org/stable/modules/preprocessing.html\n",
      "Please also refer to the documentation for alternative solver options:\n",
      "    https://scikit-learn.org/stable/modules/linear_model.html#logistic-regression\n",
      "  n_iter_i = _check_optimize_result(\n"
     ]
    },
    {
     "name": "stdout",
     "output_type": "stream",
     "text": [
      "Accuracy scores for each fold: [0.9854622017244836, 0.9875676759574895, 0.9839582915580509, 0.9852602025468765, 0.9863631805875864]\n",
      "Average accuracy across folds: 0.9857223104748973\n",
      "Confusion_matrix scores for each fold: [array([[7857,   87],\n",
      "       [  58, 1972]]), array([[7890,   48],\n",
      "       [  76, 1960]]), array([[7956,   82],\n",
      "       [  78, 1858]]), array([[7923,   69],\n",
      "       [  78, 1903]]), array([[7923,   49],\n",
      "       [  87, 1914]])]\n",
      "Precision scores for each fold: [0.9577464788732394, 0.9760956175298805, 0.9577319587628866, 0.9650101419878296, 0.9750382068262863]\n",
      "Average precision across folds: 0.9663244807960245\n",
      "Recall scores for each fold: [0.9714285714285714, 0.962671905697446, 0.9597107438016529, 0.9606259464916709, 0.9565217391304348]\n",
      "Average recall across folds: 0.9621917813099552\n",
      "F1 scores for each fold: [0.9645390070921985, 0.9693372898120672, 0.9587203302373581, 0.9628130533771819, 0.9656912209889001]\n",
      "Average f1 across folds: 0.9642201803015412\n"
     ]
    },
    {
     "name": "stderr",
     "output_type": "stream",
     "text": [
      "/Users/adamsouthwick/miniconda3/envs/data_an/lib/python3.11/site-packages/sklearn/linear_model/_logistic.py:469: ConvergenceWarning: lbfgs failed to converge (status=1):\n",
      "STOP: TOTAL NO. of ITERATIONS REACHED LIMIT.\n",
      "\n",
      "Increase the number of iterations (max_iter) or scale the data as shown in:\n",
      "    https://scikit-learn.org/stable/modules/preprocessing.html\n",
      "Please also refer to the documentation for alternative solver options:\n",
      "    https://scikit-learn.org/stable/modules/linear_model.html#logistic-regression\n",
      "  n_iter_i = _check_optimize_result(\n"
     ]
    }
   ],
   "source": [
    "# Set up KFold\n",
    "kf = KFold(n_splits=5, shuffle=True, random_state=42)\n",
    "\n",
    "# Dictionary to store the scores\n",
    "scores = {\n",
    "    'accuracy': [],\n",
    "    'confusion_matrix': [],\n",
    "    'precision': [],\n",
    "    'recall': [],\n",
    "    'f1': []\n",
    "}\n",
    "\n",
    "# Perform cross-validation\n",
    "for train_index, test_index in kf.split(X):\n",
    "    X_cross_train, X_cross_test = X.iloc[train_index], X.iloc[test_index]\n",
    "    Y_cross_train, Y_cross_test = Y.iloc[train_index], Y.iloc[test_index]\n",
    "\n",
    "    logModel.fit(X_cross_train, Y_cross_train)\n",
    "    predictions = logModel.predict(X_cross_test)\n",
    "    \n",
    "    # Compute metrics\n",
    "    scores['accuracy'].append(accuracy_score(Y_cross_test, predictions))\n",
    "    scores['confusion_matrix'].append(confusion_matrix(Y_cross_test, predictions))\n",
    "    scores['precision'].append(precision_score(Y_cross_test, predictions))\n",
    "    scores['recall'].append(recall_score(Y_cross_test, predictions))\n",
    "    scores['f1'].append(f1_score(Y_cross_test, predictions))\n",
    "\n",
    "# Print each metric's results across all folds\n",
    "for metric in scores:\n",
    "    print(f\"{metric.capitalize()} scores for each fold:\", scores[metric])\n",
    "    if metric != 'confusion_matrix':  # Average does not apply to confusion matrices\n",
    "        print(f\"Average {metric} across folds:\", np.mean(scores[metric]))"
   ]
  },
  {
   "cell_type": "markdown",
   "metadata": {},
   "source": [
    "These scores are very close to the test ad train split scores meaing that the performance is consistant across all of the folds. This means that the performannce really good and I didn't just get a lucky split the first time."
   ]
  },
  {
   "cell_type": "markdown",
   "metadata": {},
   "source": [
    "Over all i am extremely pleased with the performance of this model."
   ]
  },
  {
   "cell_type": "markdown",
   "metadata": {},
   "source": [
    "## Excersize 4: Random Forest"
   ]
  },
  {
   "cell_type": "markdown",
   "metadata": {},
   "source": [
    "### 4.1: train the model"
   ]
  },
  {
   "cell_type": "markdown",
   "metadata": {},
   "source": [
    "since we are dealing with a classification problem so i will use randomforest classifier"
   ]
  },
  {
   "cell_type": "code",
   "execution_count": 81,
   "metadata": {},
   "outputs": [],
   "source": [
    "from sklearn.ensemble import RandomForestClassifier"
   ]
  },
  {
   "cell_type": "markdown",
   "metadata": {},
   "source": [
    "We will choose 100 n estimators because the data set isn't too large for that many"
   ]
  },
  {
   "cell_type": "code",
   "execution_count": 82,
   "metadata": {},
   "outputs": [
    {
     "data": {
      "text/html": [
       "<style>#sk-container-id-3 {\n",
       "  /* Definition of color scheme common for light and dark mode */\n",
       "  --sklearn-color-text: black;\n",
       "  --sklearn-color-line: gray;\n",
       "  /* Definition of color scheme for unfitted estimators */\n",
       "  --sklearn-color-unfitted-level-0: #fff5e6;\n",
       "  --sklearn-color-unfitted-level-1: #f6e4d2;\n",
       "  --sklearn-color-unfitted-level-2: #ffe0b3;\n",
       "  --sklearn-color-unfitted-level-3: chocolate;\n",
       "  /* Definition of color scheme for fitted estimators */\n",
       "  --sklearn-color-fitted-level-0: #f0f8ff;\n",
       "  --sklearn-color-fitted-level-1: #d4ebff;\n",
       "  --sklearn-color-fitted-level-2: #b3dbfd;\n",
       "  --sklearn-color-fitted-level-3: cornflowerblue;\n",
       "\n",
       "  /* Specific color for light theme */\n",
       "  --sklearn-color-text-on-default-background: var(--sg-text-color, var(--theme-code-foreground, var(--jp-content-font-color1, black)));\n",
       "  --sklearn-color-background: var(--sg-background-color, var(--theme-background, var(--jp-layout-color0, white)));\n",
       "  --sklearn-color-border-box: var(--sg-text-color, var(--theme-code-foreground, var(--jp-content-font-color1, black)));\n",
       "  --sklearn-color-icon: #696969;\n",
       "\n",
       "  @media (prefers-color-scheme: dark) {\n",
       "    /* Redefinition of color scheme for dark theme */\n",
       "    --sklearn-color-text-on-default-background: var(--sg-text-color, var(--theme-code-foreground, var(--jp-content-font-color1, white)));\n",
       "    --sklearn-color-background: var(--sg-background-color, var(--theme-background, var(--jp-layout-color0, #111)));\n",
       "    --sklearn-color-border-box: var(--sg-text-color, var(--theme-code-foreground, var(--jp-content-font-color1, white)));\n",
       "    --sklearn-color-icon: #878787;\n",
       "  }\n",
       "}\n",
       "\n",
       "#sk-container-id-3 {\n",
       "  color: var(--sklearn-color-text);\n",
       "}\n",
       "\n",
       "#sk-container-id-3 pre {\n",
       "  padding: 0;\n",
       "}\n",
       "\n",
       "#sk-container-id-3 input.sk-hidden--visually {\n",
       "  border: 0;\n",
       "  clip: rect(1px 1px 1px 1px);\n",
       "  clip: rect(1px, 1px, 1px, 1px);\n",
       "  height: 1px;\n",
       "  margin: -1px;\n",
       "  overflow: hidden;\n",
       "  padding: 0;\n",
       "  position: absolute;\n",
       "  width: 1px;\n",
       "}\n",
       "\n",
       "#sk-container-id-3 div.sk-dashed-wrapped {\n",
       "  border: 1px dashed var(--sklearn-color-line);\n",
       "  margin: 0 0.4em 0.5em 0.4em;\n",
       "  box-sizing: border-box;\n",
       "  padding-bottom: 0.4em;\n",
       "  background-color: var(--sklearn-color-background);\n",
       "}\n",
       "\n",
       "#sk-container-id-3 div.sk-container {\n",
       "  /* jupyter's `normalize.less` sets `[hidden] { display: none; }`\n",
       "     but bootstrap.min.css set `[hidden] { display: none !important; }`\n",
       "     so we also need the `!important` here to be able to override the\n",
       "     default hidden behavior on the sphinx rendered scikit-learn.org.\n",
       "     See: https://github.com/scikit-learn/scikit-learn/issues/21755 */\n",
       "  display: inline-block !important;\n",
       "  position: relative;\n",
       "}\n",
       "\n",
       "#sk-container-id-3 div.sk-text-repr-fallback {\n",
       "  display: none;\n",
       "}\n",
       "\n",
       "div.sk-parallel-item,\n",
       "div.sk-serial,\n",
       "div.sk-item {\n",
       "  /* draw centered vertical line to link estimators */\n",
       "  background-image: linear-gradient(var(--sklearn-color-text-on-default-background), var(--sklearn-color-text-on-default-background));\n",
       "  background-size: 2px 100%;\n",
       "  background-repeat: no-repeat;\n",
       "  background-position: center center;\n",
       "}\n",
       "\n",
       "/* Parallel-specific style estimator block */\n",
       "\n",
       "#sk-container-id-3 div.sk-parallel-item::after {\n",
       "  content: \"\";\n",
       "  width: 100%;\n",
       "  border-bottom: 2px solid var(--sklearn-color-text-on-default-background);\n",
       "  flex-grow: 1;\n",
       "}\n",
       "\n",
       "#sk-container-id-3 div.sk-parallel {\n",
       "  display: flex;\n",
       "  align-items: stretch;\n",
       "  justify-content: center;\n",
       "  background-color: var(--sklearn-color-background);\n",
       "  position: relative;\n",
       "}\n",
       "\n",
       "#sk-container-id-3 div.sk-parallel-item {\n",
       "  display: flex;\n",
       "  flex-direction: column;\n",
       "}\n",
       "\n",
       "#sk-container-id-3 div.sk-parallel-item:first-child::after {\n",
       "  align-self: flex-end;\n",
       "  width: 50%;\n",
       "}\n",
       "\n",
       "#sk-container-id-3 div.sk-parallel-item:last-child::after {\n",
       "  align-self: flex-start;\n",
       "  width: 50%;\n",
       "}\n",
       "\n",
       "#sk-container-id-3 div.sk-parallel-item:only-child::after {\n",
       "  width: 0;\n",
       "}\n",
       "\n",
       "/* Serial-specific style estimator block */\n",
       "\n",
       "#sk-container-id-3 div.sk-serial {\n",
       "  display: flex;\n",
       "  flex-direction: column;\n",
       "  align-items: center;\n",
       "  background-color: var(--sklearn-color-background);\n",
       "  padding-right: 1em;\n",
       "  padding-left: 1em;\n",
       "}\n",
       "\n",
       "\n",
       "/* Toggleable style: style used for estimator/Pipeline/ColumnTransformer box that is\n",
       "clickable and can be expanded/collapsed.\n",
       "- Pipeline and ColumnTransformer use this feature and define the default style\n",
       "- Estimators will overwrite some part of the style using the `sk-estimator` class\n",
       "*/\n",
       "\n",
       "/* Pipeline and ColumnTransformer style (default) */\n",
       "\n",
       "#sk-container-id-3 div.sk-toggleable {\n",
       "  /* Default theme specific background. It is overwritten whether we have a\n",
       "  specific estimator or a Pipeline/ColumnTransformer */\n",
       "  background-color: var(--sklearn-color-background);\n",
       "}\n",
       "\n",
       "/* Toggleable label */\n",
       "#sk-container-id-3 label.sk-toggleable__label {\n",
       "  cursor: pointer;\n",
       "  display: block;\n",
       "  width: 100%;\n",
       "  margin-bottom: 0;\n",
       "  padding: 0.5em;\n",
       "  box-sizing: border-box;\n",
       "  text-align: center;\n",
       "}\n",
       "\n",
       "#sk-container-id-3 label.sk-toggleable__label-arrow:before {\n",
       "  /* Arrow on the left of the label */\n",
       "  content: \"▸\";\n",
       "  float: left;\n",
       "  margin-right: 0.25em;\n",
       "  color: var(--sklearn-color-icon);\n",
       "}\n",
       "\n",
       "#sk-container-id-3 label.sk-toggleable__label-arrow:hover:before {\n",
       "  color: var(--sklearn-color-text);\n",
       "}\n",
       "\n",
       "/* Toggleable content - dropdown */\n",
       "\n",
       "#sk-container-id-3 div.sk-toggleable__content {\n",
       "  max-height: 0;\n",
       "  max-width: 0;\n",
       "  overflow: hidden;\n",
       "  text-align: left;\n",
       "  /* unfitted */\n",
       "  background-color: var(--sklearn-color-unfitted-level-0);\n",
       "}\n",
       "\n",
       "#sk-container-id-3 div.sk-toggleable__content.fitted {\n",
       "  /* fitted */\n",
       "  background-color: var(--sklearn-color-fitted-level-0);\n",
       "}\n",
       "\n",
       "#sk-container-id-3 div.sk-toggleable__content pre {\n",
       "  margin: 0.2em;\n",
       "  border-radius: 0.25em;\n",
       "  color: var(--sklearn-color-text);\n",
       "  /* unfitted */\n",
       "  background-color: var(--sklearn-color-unfitted-level-0);\n",
       "}\n",
       "\n",
       "#sk-container-id-3 div.sk-toggleable__content.fitted pre {\n",
       "  /* unfitted */\n",
       "  background-color: var(--sklearn-color-fitted-level-0);\n",
       "}\n",
       "\n",
       "#sk-container-id-3 input.sk-toggleable__control:checked~div.sk-toggleable__content {\n",
       "  /* Expand drop-down */\n",
       "  max-height: 200px;\n",
       "  max-width: 100%;\n",
       "  overflow: auto;\n",
       "}\n",
       "\n",
       "#sk-container-id-3 input.sk-toggleable__control:checked~label.sk-toggleable__label-arrow:before {\n",
       "  content: \"▾\";\n",
       "}\n",
       "\n",
       "/* Pipeline/ColumnTransformer-specific style */\n",
       "\n",
       "#sk-container-id-3 div.sk-label input.sk-toggleable__control:checked~label.sk-toggleable__label {\n",
       "  color: var(--sklearn-color-text);\n",
       "  background-color: var(--sklearn-color-unfitted-level-2);\n",
       "}\n",
       "\n",
       "#sk-container-id-3 div.sk-label.fitted input.sk-toggleable__control:checked~label.sk-toggleable__label {\n",
       "  background-color: var(--sklearn-color-fitted-level-2);\n",
       "}\n",
       "\n",
       "/* Estimator-specific style */\n",
       "\n",
       "/* Colorize estimator box */\n",
       "#sk-container-id-3 div.sk-estimator input.sk-toggleable__control:checked~label.sk-toggleable__label {\n",
       "  /* unfitted */\n",
       "  background-color: var(--sklearn-color-unfitted-level-2);\n",
       "}\n",
       "\n",
       "#sk-container-id-3 div.sk-estimator.fitted input.sk-toggleable__control:checked~label.sk-toggleable__label {\n",
       "  /* fitted */\n",
       "  background-color: var(--sklearn-color-fitted-level-2);\n",
       "}\n",
       "\n",
       "#sk-container-id-3 div.sk-label label.sk-toggleable__label,\n",
       "#sk-container-id-3 div.sk-label label {\n",
       "  /* The background is the default theme color */\n",
       "  color: var(--sklearn-color-text-on-default-background);\n",
       "}\n",
       "\n",
       "/* On hover, darken the color of the background */\n",
       "#sk-container-id-3 div.sk-label:hover label.sk-toggleable__label {\n",
       "  color: var(--sklearn-color-text);\n",
       "  background-color: var(--sklearn-color-unfitted-level-2);\n",
       "}\n",
       "\n",
       "/* Label box, darken color on hover, fitted */\n",
       "#sk-container-id-3 div.sk-label.fitted:hover label.sk-toggleable__label.fitted {\n",
       "  color: var(--sklearn-color-text);\n",
       "  background-color: var(--sklearn-color-fitted-level-2);\n",
       "}\n",
       "\n",
       "/* Estimator label */\n",
       "\n",
       "#sk-container-id-3 div.sk-label label {\n",
       "  font-family: monospace;\n",
       "  font-weight: bold;\n",
       "  display: inline-block;\n",
       "  line-height: 1.2em;\n",
       "}\n",
       "\n",
       "#sk-container-id-3 div.sk-label-container {\n",
       "  text-align: center;\n",
       "}\n",
       "\n",
       "/* Estimator-specific */\n",
       "#sk-container-id-3 div.sk-estimator {\n",
       "  font-family: monospace;\n",
       "  border: 1px dotted var(--sklearn-color-border-box);\n",
       "  border-radius: 0.25em;\n",
       "  box-sizing: border-box;\n",
       "  margin-bottom: 0.5em;\n",
       "  /* unfitted */\n",
       "  background-color: var(--sklearn-color-unfitted-level-0);\n",
       "}\n",
       "\n",
       "#sk-container-id-3 div.sk-estimator.fitted {\n",
       "  /* fitted */\n",
       "  background-color: var(--sklearn-color-fitted-level-0);\n",
       "}\n",
       "\n",
       "/* on hover */\n",
       "#sk-container-id-3 div.sk-estimator:hover {\n",
       "  /* unfitted */\n",
       "  background-color: var(--sklearn-color-unfitted-level-2);\n",
       "}\n",
       "\n",
       "#sk-container-id-3 div.sk-estimator.fitted:hover {\n",
       "  /* fitted */\n",
       "  background-color: var(--sklearn-color-fitted-level-2);\n",
       "}\n",
       "\n",
       "/* Specification for estimator info (e.g. \"i\" and \"?\") */\n",
       "\n",
       "/* Common style for \"i\" and \"?\" */\n",
       "\n",
       ".sk-estimator-doc-link,\n",
       "a:link.sk-estimator-doc-link,\n",
       "a:visited.sk-estimator-doc-link {\n",
       "  float: right;\n",
       "  font-size: smaller;\n",
       "  line-height: 1em;\n",
       "  font-family: monospace;\n",
       "  background-color: var(--sklearn-color-background);\n",
       "  border-radius: 1em;\n",
       "  height: 1em;\n",
       "  width: 1em;\n",
       "  text-decoration: none !important;\n",
       "  margin-left: 1ex;\n",
       "  /* unfitted */\n",
       "  border: var(--sklearn-color-unfitted-level-1) 1pt solid;\n",
       "  color: var(--sklearn-color-unfitted-level-1);\n",
       "}\n",
       "\n",
       ".sk-estimator-doc-link.fitted,\n",
       "a:link.sk-estimator-doc-link.fitted,\n",
       "a:visited.sk-estimator-doc-link.fitted {\n",
       "  /* fitted */\n",
       "  border: var(--sklearn-color-fitted-level-1) 1pt solid;\n",
       "  color: var(--sklearn-color-fitted-level-1);\n",
       "}\n",
       "\n",
       "/* On hover */\n",
       "div.sk-estimator:hover .sk-estimator-doc-link:hover,\n",
       ".sk-estimator-doc-link:hover,\n",
       "div.sk-label-container:hover .sk-estimator-doc-link:hover,\n",
       ".sk-estimator-doc-link:hover {\n",
       "  /* unfitted */\n",
       "  background-color: var(--sklearn-color-unfitted-level-3);\n",
       "  color: var(--sklearn-color-background);\n",
       "  text-decoration: none;\n",
       "}\n",
       "\n",
       "div.sk-estimator.fitted:hover .sk-estimator-doc-link.fitted:hover,\n",
       ".sk-estimator-doc-link.fitted:hover,\n",
       "div.sk-label-container:hover .sk-estimator-doc-link.fitted:hover,\n",
       ".sk-estimator-doc-link.fitted:hover {\n",
       "  /* fitted */\n",
       "  background-color: var(--sklearn-color-fitted-level-3);\n",
       "  color: var(--sklearn-color-background);\n",
       "  text-decoration: none;\n",
       "}\n",
       "\n",
       "/* Span, style for the box shown on hovering the info icon */\n",
       ".sk-estimator-doc-link span {\n",
       "  display: none;\n",
       "  z-index: 9999;\n",
       "  position: relative;\n",
       "  font-weight: normal;\n",
       "  right: .2ex;\n",
       "  padding: .5ex;\n",
       "  margin: .5ex;\n",
       "  width: min-content;\n",
       "  min-width: 20ex;\n",
       "  max-width: 50ex;\n",
       "  color: var(--sklearn-color-text);\n",
       "  box-shadow: 2pt 2pt 4pt #999;\n",
       "  /* unfitted */\n",
       "  background: var(--sklearn-color-unfitted-level-0);\n",
       "  border: .5pt solid var(--sklearn-color-unfitted-level-3);\n",
       "}\n",
       "\n",
       ".sk-estimator-doc-link.fitted span {\n",
       "  /* fitted */\n",
       "  background: var(--sklearn-color-fitted-level-0);\n",
       "  border: var(--sklearn-color-fitted-level-3);\n",
       "}\n",
       "\n",
       ".sk-estimator-doc-link:hover span {\n",
       "  display: block;\n",
       "}\n",
       "\n",
       "/* \"?\"-specific style due to the `<a>` HTML tag */\n",
       "\n",
       "#sk-container-id-3 a.estimator_doc_link {\n",
       "  float: right;\n",
       "  font-size: 1rem;\n",
       "  line-height: 1em;\n",
       "  font-family: monospace;\n",
       "  background-color: var(--sklearn-color-background);\n",
       "  border-radius: 1rem;\n",
       "  height: 1rem;\n",
       "  width: 1rem;\n",
       "  text-decoration: none;\n",
       "  /* unfitted */\n",
       "  color: var(--sklearn-color-unfitted-level-1);\n",
       "  border: var(--sklearn-color-unfitted-level-1) 1pt solid;\n",
       "}\n",
       "\n",
       "#sk-container-id-3 a.estimator_doc_link.fitted {\n",
       "  /* fitted */\n",
       "  border: var(--sklearn-color-fitted-level-1) 1pt solid;\n",
       "  color: var(--sklearn-color-fitted-level-1);\n",
       "}\n",
       "\n",
       "/* On hover */\n",
       "#sk-container-id-3 a.estimator_doc_link:hover {\n",
       "  /* unfitted */\n",
       "  background-color: var(--sklearn-color-unfitted-level-3);\n",
       "  color: var(--sklearn-color-background);\n",
       "  text-decoration: none;\n",
       "}\n",
       "\n",
       "#sk-container-id-3 a.estimator_doc_link.fitted:hover {\n",
       "  /* fitted */\n",
       "  background-color: var(--sklearn-color-fitted-level-3);\n",
       "}\n",
       "</style><div id=\"sk-container-id-3\" class=\"sk-top-container\"><div class=\"sk-text-repr-fallback\"><pre>RandomForestClassifier(oob_score=True, random_state=42)</pre><b>In a Jupyter environment, please rerun this cell to show the HTML representation or trust the notebook. <br />On GitHub, the HTML representation is unable to render, please try loading this page with nbviewer.org.</b></div><div class=\"sk-container\" hidden><div class=\"sk-item\"><div class=\"sk-estimator fitted sk-toggleable\"><input class=\"sk-toggleable__control sk-hidden--visually\" id=\"sk-estimator-id-3\" type=\"checkbox\" checked><label for=\"sk-estimator-id-3\" class=\"sk-toggleable__label fitted sk-toggleable__label-arrow fitted\">&nbsp;&nbsp;RandomForestClassifier<a class=\"sk-estimator-doc-link fitted\" rel=\"noreferrer\" target=\"_blank\" href=\"https://scikit-learn.org/1.4/modules/generated/sklearn.ensemble.RandomForestClassifier.html\">?<span>Documentation for RandomForestClassifier</span></a><span class=\"sk-estimator-doc-link fitted\">i<span>Fitted</span></span></label><div class=\"sk-toggleable__content fitted\"><pre>RandomForestClassifier(oob_score=True, random_state=42)</pre></div> </div></div></div></div>"
      ],
      "text/plain": [
       "RandomForestClassifier(oob_score=True, random_state=42)"
      ]
     },
     "execution_count": 82,
     "metadata": {},
     "output_type": "execute_result"
    }
   ],
   "source": [
    "rfModel = RandomForestClassifier(n_estimators=100, oob_score=True, random_state=42)  # 100 trees in the forest\n",
    "\n",
    "# Train the model\n",
    "rfModel.fit(X_train, Y_train)"
   ]
  },
  {
   "cell_type": "markdown",
   "metadata": {},
   "source": [
    "### 4.2 model interpreteation"
   ]
  },
  {
   "cell_type": "markdown",
   "metadata": {},
   "source": [
    "I want to focus on the parts of model interpretation that wont be covered in 4.4. First I'm goig to create a feature evaluation score."
   ]
  },
  {
   "cell_type": "code",
   "execution_count": 83,
   "metadata": {},
   "outputs": [
    {
     "name": "stdout",
     "output_type": "stream",
     "text": [
      "                     Feature  Importance\n",
      "2                     icu_yn    0.240985\n",
      "1                    hosp_yn    0.231247\n",
      "3   underlying_conditions_yn    0.219952\n",
      "11                   65_plus    0.089889\n",
      "7            state_death_low    0.052365\n",
      "4             county_density    0.043920\n",
      "5         months_since_start    0.037492\n",
      "9                   18_to_49    0.031520\n",
      "6           state_death_high    0.029651\n",
      "10                  50_to_64    0.008851\n",
      "8                    0_to_17    0.008451\n",
      "12                  is_white    0.004137\n",
      "0             current_status    0.001541\n"
     ]
    }
   ],
   "source": [
    "# Get feature importance\n",
    "feature_importances = rfModel.feature_importances_\n",
    "\n",
    "# Create a DataFrame to view the feature importances\n",
    "importances_df = pd.DataFrame({\n",
    "    'Feature': X.columns,\n",
    "    'Importance': feature_importances\n",
    "}).sort_values(by='Importance', ascending=False)\n",
    "\n",
    "print(importances_df)"
   ]
  },
  {
   "cell_type": "markdown",
   "metadata": {},
   "source": [
    "Once again there are some really interesting differences between the strength of the features in this model versus the two previous models. icu_yn, hosp_yn, underlying_conditions_yn, and 65_plus are still really strong features, but in this model state_death high isn't nearly as strong an indicator of mortality as it was in the linear or log models, ad state_death_low which had previously been weaker is performig really well. Also in this version although the age groups still aren't super important 18-49 has outperformed the others despite being outperformed by 50-64 previously. \n",
    "\n",
    "One pattern I do notice in some of these changes is that the flag features with more rows flagged 1 perform better in this model than theyre counterparts. For instance 18-49 is the most populated age range, annd state_death_low is way more populated than state_death_high.\n",
    "\n",
    "county_density and months_since_start are still midling, and current_status is always the lowest performer."
   ]
  },
  {
   "cell_type": "markdown",
   "metadata": {},
   "source": [
    "### 4.3 Predict 10 training predictions"
   ]
  },
  {
   "cell_type": "code",
   "execution_count": 84,
   "metadata": {},
   "outputs": [
    {
     "name": "stdout",
     "output_type": "stream",
     "text": [
      "[0. 0. 0. 0. 0. 1. 0. 0. 0. 0.]\n"
     ]
    }
   ],
   "source": [
    "train_predictions = rfModel.predict(X_train)\n",
    "print(train_predictions[:10])"
   ]
  },
  {
   "cell_type": "markdown",
   "metadata": {},
   "source": [
    "apply the evaluation measures"
   ]
  },
  {
   "cell_type": "code",
   "execution_count": 85,
   "metadata": {},
   "outputs": [
    {
     "name": "stdout",
     "output_type": "stream",
     "text": [
      "Accuracy: 0.9987968374011688\n",
      "Confusion Matrix:\n",
      "[[27886    24]\n",
      " [   18  6980]]\n",
      "Precision: 0.9965733866362079\n",
      "Recall: 0.9974278365247213\n",
      "F1 Score: 0.9970004285102129\n"
     ]
    }
   ],
   "source": [
    "# Predict on the training set\n",
    "y_train_pred = rfModel.predict(X_train)\n",
    "\n",
    "# Compute metrics\n",
    "accuracy = accuracy_score(Y_train, y_train_pred)\n",
    "conf_matrix = confusion_matrix(Y_train, y_train_pred)\n",
    "precision = precision_score(Y_train, y_train_pred)\n",
    "recall = recall_score(Y_train, y_train_pred)\n",
    "f1 = f1_score(Y_train, y_train_pred)\n",
    "\n",
    "# Print evaluation results\n",
    "print(f\"Accuracy: {accuracy}\")\n",
    "print(f\"Confusion Matrix:\\n{conf_matrix}\")\n",
    "print(f\"Precision: {precision}\")\n",
    "print(f\"Recall: {recall}\")\n",
    "print(f\"F1 Score: {f1}\")"
   ]
  },
  {
   "cell_type": "markdown",
   "metadata": {},
   "source": [
    "These metrics show an incredible performance from this model with every metric over 99.6%. There are also more false positives than false negatives for the first time but theres so few mistakes in either column that a skew can't really be measured."
   ]
  },
  {
   "cell_type": "markdown",
   "metadata": {},
   "source": [
    "### 4.4 Evaluate with test sample "
   ]
  },
  {
   "cell_type": "code",
   "execution_count": 86,
   "metadata": {},
   "outputs": [
    {
     "name": "stdout",
     "output_type": "stream",
     "text": [
      "Accuracy: 0.9862299465240641\n",
      "Confusion Matrix:\n",
      "[[11870   104]\n",
      " [  102  2884]]\n",
      "Precision: 0.965194109772423\n",
      "Recall: 0.9658405894172807\n",
      "F1 Score: 0.9655172413793104\n"
     ]
    }
   ],
   "source": [
    "# Predict on the training set\n",
    "y_test_pred = rfModel.predict(X_test)\n",
    "\n",
    "# Compute metrics\n",
    "accuracy = accuracy_score(Y_test, y_test_pred)\n",
    "conf_matrix = confusion_matrix(Y_test, y_test_pred)\n",
    "precision = precision_score(Y_test, y_test_pred)\n",
    "recall = recall_score(Y_test, y_test_pred)\n",
    "f1 = f1_score(Y_test, y_test_pred)\n",
    "\n",
    "# Print evaluation results\n",
    "print(f\"Accuracy: {accuracy}\")\n",
    "print(f\"Confusion Matrix:\\n{conf_matrix}\")\n",
    "print(f\"Precision: {precision}\")\n",
    "print(f\"Recall: {recall}\")\n",
    "print(f\"F1 Score: {f1}\")"
   ]
  },
  {
   "cell_type": "markdown",
   "metadata": {},
   "source": [
    "We do see slightly worse performance in the test split than the training split. This does suggest a little bit of memorization of the data from the model. Random forest is known too easily memorize data so this is expected. The metrics are still high enough with every score over 95% to show that despite that memorization the model still performs great. Also Theres still not a big skew in the confusion matrix which is good, although the false negatives once again outweight the false positives."
   ]
  },
  {
   "cell_type": "markdown",
   "metadata": {},
   "source": [
    "#### cross validation"
   ]
  },
  {
   "cell_type": "code",
   "execution_count": 87,
   "metadata": {},
   "outputs": [
    {
     "name": "stdout",
     "output_type": "stream",
     "text": [
      "Accuracy scores for each fold: [0.986164026468819, 0.9838580308802888, 0.9848606376579105, 0.9836558708512985, 0.9858618269327183]\n",
      "Average accuracy across folds: 0.9848800785582071\n",
      "Confusion_matrix scores for each fold: [array([[7861,   83],\n",
      "       [  55, 1975]]), array([[7863,   75],\n",
      "       [  86, 1950]]), array([[7954,   84],\n",
      "       [  67, 1869]]), array([[7908,   84],\n",
      "       [  79, 1902]]), array([[7914,   58],\n",
      "       [  83, 1918]])]\n",
      "Precision scores for each fold: [0.9596695821185617, 0.9629629629629629, 0.956989247311828, 0.9577039274924471, 0.9706477732793523]\n",
      "Average precision across folds: 0.9615946986330304\n",
      "Recall scores for each fold: [0.9729064039408867, 0.9577603143418467, 0.9653925619834711, 0.9601211509338717, 0.9585207396301849]\n",
      "Average recall across folds: 0.9629402341660521\n",
      "F1 scores for each fold: [0.9662426614481409, 0.9603545924649102, 0.9611725379274878, 0.9589110158810183, 0.9645461403067639]\n",
      "Average f1 across folds: 0.9622453896056642\n"
     ]
    }
   ],
   "source": [
    "# Set up KFold\n",
    "kf = KFold(n_splits=5, shuffle=True, random_state=42)\n",
    "\n",
    "# Dictionary to store the scores\n",
    "scores = {\n",
    "    'accuracy': [],\n",
    "    'confusion_matrix': [],\n",
    "    'precision': [],\n",
    "    'recall': [],\n",
    "    'f1': []\n",
    "}\n",
    "\n",
    "# Perform cross-validation\n",
    "for train_index, test_index in kf.split(X):\n",
    "    X_cross_train, X_cross_test = X.iloc[train_index], X.iloc[test_index]\n",
    "    Y_cross_train, Y_cross_test = Y.iloc[train_index], Y.iloc[test_index]\n",
    "\n",
    "    rfModel.fit(X_cross_train, Y_cross_train)\n",
    "    predictions = rfModel.predict(X_cross_test)\n",
    "    \n",
    "    # Compute metrics\n",
    "    scores['accuracy'].append(accuracy_score(Y_cross_test, predictions))\n",
    "    scores['confusion_matrix'].append(confusion_matrix(Y_cross_test, predictions))\n",
    "    scores['precision'].append(precision_score(Y_cross_test, predictions))\n",
    "    scores['recall'].append(recall_score(Y_cross_test, predictions))\n",
    "    scores['f1'].append(f1_score(Y_cross_test, predictions))\n",
    "\n",
    "# Print each metric's results across all folds\n",
    "for metric in scores:\n",
    "    print(f\"{metric.capitalize()} scores for each fold:\", scores[metric])\n",
    "    if metric != 'confusion_matrix':  # Average does not apply to confusion matrices\n",
    "        print(f\"Average {metric} across folds:\", np.mean(scores[metric]))"
   ]
  },
  {
   "cell_type": "markdown",
   "metadata": {},
   "source": [
    "Across tehfolds we see a great accuracy of over 98% on average and the other scroes look good at over 96% as well. The confusion matrixes also look very balanced showing no clear bias. This data shows that the model performs well regardless of what fold we use."
   ]
  },
  {
   "cell_type": "markdown",
   "metadata": {},
   "source": [
    "#### Random Forest Our of Sample Error (out of bag)"
   ]
  },
  {
   "cell_type": "markdown",
   "metadata": {},
   "source": [
    "I initialized the Random Forest model with an OOB score, since that measures the accuracy, the inverse is the OOB error"
   ]
  },
  {
   "cell_type": "code",
   "execution_count": 88,
   "metadata": {},
   "outputs": [
    {
     "name": "stdout",
     "output_type": "stream",
     "text": [
      "Out of bag error: 0.01493921544053145\n"
     ]
    }
   ],
   "source": [
    "oob_error = 1 - rfModel.oob_score_\n",
    "print(\"Out of bag error:\", oob_error)"
   ]
  },
  {
   "cell_type": "markdown",
   "metadata": {},
   "source": [
    "This means that 1.5% of the OOB predictions across all trees in the forest were incorrect. This means that the the model is correctly predicting the class of the OOB samples more than 98% of the time. This is a very high accuracy score and if we look at it as an unbiased estimate of model accuracy for unseen data, it shows that we should be getting most of it correct."
   ]
  },
  {
   "cell_type": "markdown",
   "metadata": {},
   "source": [
    "## Excersize 5"
   ]
  },
  {
   "cell_type": "markdown",
   "metadata": {},
   "source": [
    "### 5.1"
   ]
  },
  {
   "cell_type": "markdown",
   "metadata": {},
   "source": [
    "The random forest model and the logistic model both performaed almost equally well. Looking at the cross validation both models had an avg accuracy of above 98% and all other metric scores were above 96%"
   ]
  },
  {
   "cell_type": "markdown",
   "metadata": {},
   "source": [
    "To really see the baseline accuracy that we should expect from a model that simply guesses no, I will run an accuracy test"
   ]
  },
  {
   "cell_type": "code",
   "execution_count": 89,
   "metadata": {},
   "outputs": [
    {
     "name": "stdout",
     "output_type": "stream",
     "text": [
      "Accuracy: 0.799791449426486\n"
     ]
    }
   ],
   "source": [
    "# Predict on the training set\n",
    "y_baseline = []\n",
    "\n",
    "for _ in range(len(df)):\n",
    "    y_baseline.append(0)\n",
    "\n",
    "# Compute metrics\n",
    "accuracy = accuracy_score(df[\"death_yn\"], y_baseline)\n",
    "# Print evaluation results\n",
    "print(f\"Accuracy: {accuracy}\")"
   ]
  },
  {
   "cell_type": "markdown",
   "metadata": {},
   "source": [
    "Both of our wining models are more accurate that a baseline model that predicts the majority class which has about 80% accuracy. "
   ]
  },
  {
   "cell_type": "markdown",
   "metadata": {},
   "source": [
    "### 5.2 Summary and improvements"
   ]
  },
  {
   "cell_type": "markdown",
   "metadata": {},
   "source": [
    "My understanding of the problem is that we need to find the features that are most strongly correlated with death_yn and model together well to create an accurate prediction of the mortality rate of covid cased based on background information.\n",
    "\n",
    "So far my results have been very good. Most of the features I chose in my prep work have performed very well, and theres only a few that don’t seem to be a good fit for the models. My results for the linear regression model were sub par compared to the other two models. It was biased very strongly towards assigning negative values. So much so that it never assigned a false positive, however it could only identify 1 in 5 real positives which is bad when considering a positive ends in the patients death.\n",
    "\n",
    "The logistic regression and random forest models both performed excellently with high accuracy, and no clear bias in one direction that shows that any one group was in more danger of false results. Both of these models performed well in both the training split and in the test split. Interestingly the logistic regression model actually performed better in the test split. This shows that neither model relied on memorizing the data to produce high accuracy in the training split. They both also performed really well in cross validation. The random forest model also had a really low OOB error score of user 2% meaning that each decision tree was performing well.\n",
    "\n",
    "Over all I am very happy with the outcomes of these two models as they show that my decision making when picking features was good."
   ]
  },
  {
   "cell_type": "markdown",
   "metadata": {},
   "source": [
    "### Possible improvements"
   ]
  },
  {
   "cell_type": "markdown",
   "metadata": {},
   "source": [
    "First I want to try trimming the lowest performing features in the logistic regression and random forest models and seeing if that improves performance.\n",
    "\n",
    "Looking at both of theme I think the non 65+ age groups could be purged as well as current status and is_white."
   ]
  },
  {
   "cell_type": "code",
   "execution_count": 90,
   "metadata": {},
   "outputs": [],
   "source": [
    "reduced_df = df.drop('current_status', axis=1)\n",
    "reduced_df = reduced_df.drop('is_white', axis=1)\n",
    "reduced_df = reduced_df.drop('50_to_64', axis=1)\n",
    "reduced_df = reduced_df.drop('0_to_17', axis=1)\n",
    "reduced_df = reduced_df.drop('18_to_49', axis=1)"
   ]
  },
  {
   "cell_type": "code",
   "execution_count": 91,
   "metadata": {},
   "outputs": [
    {
     "name": "stdout",
     "output_type": "stream",
     "text": [
      "<class 'pandas.core.frame.DataFrame'>\n",
      "RangeIndex: 49868 entries, 0 to 49867\n",
      "Data columns (total 9 columns):\n",
      " #   Column                    Non-Null Count  Dtype  \n",
      "---  ------                    --------------  -----  \n",
      " 0   hosp_yn                   49868 non-null  float64\n",
      " 1   icu_yn                    49868 non-null  float64\n",
      " 2   death_yn                  49868 non-null  float64\n",
      " 3   underlying_conditions_yn  49868 non-null  float64\n",
      " 4   county_density            49868 non-null  float64\n",
      " 5   months_since_start        49868 non-null  int32  \n",
      " 6   state_death_high          49868 non-null  int64  \n",
      " 7   state_death_low           49868 non-null  int64  \n",
      " 8   65_plus                   49868 non-null  int64  \n",
      "dtypes: float64(5), int32(1), int64(3)\n",
      "memory usage: 3.2 MB\n"
     ]
    }
   ],
   "source": [
    "reduced_df.info()"
   ]
  },
  {
   "cell_type": "markdown",
   "metadata": {},
   "source": [
    "I will try retraining my random forest and logistic regression models and seeing if that helped performance"
   ]
  },
  {
   "cell_type": "code",
   "execution_count": 96,
   "metadata": {},
   "outputs": [
    {
     "name": "stderr",
     "output_type": "stream",
     "text": [
      "/Users/adamsouthwick/miniconda3/envs/data_an/lib/python3.11/site-packages/sklearn/linear_model/_logistic.py:469: ConvergenceWarning: lbfgs failed to converge (status=1):\n",
      "STOP: TOTAL NO. of ITERATIONS REACHED LIMIT.\n",
      "\n",
      "Increase the number of iterations (max_iter) or scale the data as shown in:\n",
      "    https://scikit-learn.org/stable/modules/preprocessing.html\n",
      "Please also refer to the documentation for alternative solver options:\n",
      "    https://scikit-learn.org/stable/modules/linear_model.html#logistic-regression\n",
      "  n_iter_i = _check_optimize_result(\n"
     ]
    },
    {
     "data": {
      "text/html": [
       "<style>#sk-container-id-5 {\n",
       "  /* Definition of color scheme common for light and dark mode */\n",
       "  --sklearn-color-text: black;\n",
       "  --sklearn-color-line: gray;\n",
       "  /* Definition of color scheme for unfitted estimators */\n",
       "  --sklearn-color-unfitted-level-0: #fff5e6;\n",
       "  --sklearn-color-unfitted-level-1: #f6e4d2;\n",
       "  --sklearn-color-unfitted-level-2: #ffe0b3;\n",
       "  --sklearn-color-unfitted-level-3: chocolate;\n",
       "  /* Definition of color scheme for fitted estimators */\n",
       "  --sklearn-color-fitted-level-0: #f0f8ff;\n",
       "  --sklearn-color-fitted-level-1: #d4ebff;\n",
       "  --sklearn-color-fitted-level-2: #b3dbfd;\n",
       "  --sklearn-color-fitted-level-3: cornflowerblue;\n",
       "\n",
       "  /* Specific color for light theme */\n",
       "  --sklearn-color-text-on-default-background: var(--sg-text-color, var(--theme-code-foreground, var(--jp-content-font-color1, black)));\n",
       "  --sklearn-color-background: var(--sg-background-color, var(--theme-background, var(--jp-layout-color0, white)));\n",
       "  --sklearn-color-border-box: var(--sg-text-color, var(--theme-code-foreground, var(--jp-content-font-color1, black)));\n",
       "  --sklearn-color-icon: #696969;\n",
       "\n",
       "  @media (prefers-color-scheme: dark) {\n",
       "    /* Redefinition of color scheme for dark theme */\n",
       "    --sklearn-color-text-on-default-background: var(--sg-text-color, var(--theme-code-foreground, var(--jp-content-font-color1, white)));\n",
       "    --sklearn-color-background: var(--sg-background-color, var(--theme-background, var(--jp-layout-color0, #111)));\n",
       "    --sklearn-color-border-box: var(--sg-text-color, var(--theme-code-foreground, var(--jp-content-font-color1, white)));\n",
       "    --sklearn-color-icon: #878787;\n",
       "  }\n",
       "}\n",
       "\n",
       "#sk-container-id-5 {\n",
       "  color: var(--sklearn-color-text);\n",
       "}\n",
       "\n",
       "#sk-container-id-5 pre {\n",
       "  padding: 0;\n",
       "}\n",
       "\n",
       "#sk-container-id-5 input.sk-hidden--visually {\n",
       "  border: 0;\n",
       "  clip: rect(1px 1px 1px 1px);\n",
       "  clip: rect(1px, 1px, 1px, 1px);\n",
       "  height: 1px;\n",
       "  margin: -1px;\n",
       "  overflow: hidden;\n",
       "  padding: 0;\n",
       "  position: absolute;\n",
       "  width: 1px;\n",
       "}\n",
       "\n",
       "#sk-container-id-5 div.sk-dashed-wrapped {\n",
       "  border: 1px dashed var(--sklearn-color-line);\n",
       "  margin: 0 0.4em 0.5em 0.4em;\n",
       "  box-sizing: border-box;\n",
       "  padding-bottom: 0.4em;\n",
       "  background-color: var(--sklearn-color-background);\n",
       "}\n",
       "\n",
       "#sk-container-id-5 div.sk-container {\n",
       "  /* jupyter's `normalize.less` sets `[hidden] { display: none; }`\n",
       "     but bootstrap.min.css set `[hidden] { display: none !important; }`\n",
       "     so we also need the `!important` here to be able to override the\n",
       "     default hidden behavior on the sphinx rendered scikit-learn.org.\n",
       "     See: https://github.com/scikit-learn/scikit-learn/issues/21755 */\n",
       "  display: inline-block !important;\n",
       "  position: relative;\n",
       "}\n",
       "\n",
       "#sk-container-id-5 div.sk-text-repr-fallback {\n",
       "  display: none;\n",
       "}\n",
       "\n",
       "div.sk-parallel-item,\n",
       "div.sk-serial,\n",
       "div.sk-item {\n",
       "  /* draw centered vertical line to link estimators */\n",
       "  background-image: linear-gradient(var(--sklearn-color-text-on-default-background), var(--sklearn-color-text-on-default-background));\n",
       "  background-size: 2px 100%;\n",
       "  background-repeat: no-repeat;\n",
       "  background-position: center center;\n",
       "}\n",
       "\n",
       "/* Parallel-specific style estimator block */\n",
       "\n",
       "#sk-container-id-5 div.sk-parallel-item::after {\n",
       "  content: \"\";\n",
       "  width: 100%;\n",
       "  border-bottom: 2px solid var(--sklearn-color-text-on-default-background);\n",
       "  flex-grow: 1;\n",
       "}\n",
       "\n",
       "#sk-container-id-5 div.sk-parallel {\n",
       "  display: flex;\n",
       "  align-items: stretch;\n",
       "  justify-content: center;\n",
       "  background-color: var(--sklearn-color-background);\n",
       "  position: relative;\n",
       "}\n",
       "\n",
       "#sk-container-id-5 div.sk-parallel-item {\n",
       "  display: flex;\n",
       "  flex-direction: column;\n",
       "}\n",
       "\n",
       "#sk-container-id-5 div.sk-parallel-item:first-child::after {\n",
       "  align-self: flex-end;\n",
       "  width: 50%;\n",
       "}\n",
       "\n",
       "#sk-container-id-5 div.sk-parallel-item:last-child::after {\n",
       "  align-self: flex-start;\n",
       "  width: 50%;\n",
       "}\n",
       "\n",
       "#sk-container-id-5 div.sk-parallel-item:only-child::after {\n",
       "  width: 0;\n",
       "}\n",
       "\n",
       "/* Serial-specific style estimator block */\n",
       "\n",
       "#sk-container-id-5 div.sk-serial {\n",
       "  display: flex;\n",
       "  flex-direction: column;\n",
       "  align-items: center;\n",
       "  background-color: var(--sklearn-color-background);\n",
       "  padding-right: 1em;\n",
       "  padding-left: 1em;\n",
       "}\n",
       "\n",
       "\n",
       "/* Toggleable style: style used for estimator/Pipeline/ColumnTransformer box that is\n",
       "clickable and can be expanded/collapsed.\n",
       "- Pipeline and ColumnTransformer use this feature and define the default style\n",
       "- Estimators will overwrite some part of the style using the `sk-estimator` class\n",
       "*/\n",
       "\n",
       "/* Pipeline and ColumnTransformer style (default) */\n",
       "\n",
       "#sk-container-id-5 div.sk-toggleable {\n",
       "  /* Default theme specific background. It is overwritten whether we have a\n",
       "  specific estimator or a Pipeline/ColumnTransformer */\n",
       "  background-color: var(--sklearn-color-background);\n",
       "}\n",
       "\n",
       "/* Toggleable label */\n",
       "#sk-container-id-5 label.sk-toggleable__label {\n",
       "  cursor: pointer;\n",
       "  display: block;\n",
       "  width: 100%;\n",
       "  margin-bottom: 0;\n",
       "  padding: 0.5em;\n",
       "  box-sizing: border-box;\n",
       "  text-align: center;\n",
       "}\n",
       "\n",
       "#sk-container-id-5 label.sk-toggleable__label-arrow:before {\n",
       "  /* Arrow on the left of the label */\n",
       "  content: \"▸\";\n",
       "  float: left;\n",
       "  margin-right: 0.25em;\n",
       "  color: var(--sklearn-color-icon);\n",
       "}\n",
       "\n",
       "#sk-container-id-5 label.sk-toggleable__label-arrow:hover:before {\n",
       "  color: var(--sklearn-color-text);\n",
       "}\n",
       "\n",
       "/* Toggleable content - dropdown */\n",
       "\n",
       "#sk-container-id-5 div.sk-toggleable__content {\n",
       "  max-height: 0;\n",
       "  max-width: 0;\n",
       "  overflow: hidden;\n",
       "  text-align: left;\n",
       "  /* unfitted */\n",
       "  background-color: var(--sklearn-color-unfitted-level-0);\n",
       "}\n",
       "\n",
       "#sk-container-id-5 div.sk-toggleable__content.fitted {\n",
       "  /* fitted */\n",
       "  background-color: var(--sklearn-color-fitted-level-0);\n",
       "}\n",
       "\n",
       "#sk-container-id-5 div.sk-toggleable__content pre {\n",
       "  margin: 0.2em;\n",
       "  border-radius: 0.25em;\n",
       "  color: var(--sklearn-color-text);\n",
       "  /* unfitted */\n",
       "  background-color: var(--sklearn-color-unfitted-level-0);\n",
       "}\n",
       "\n",
       "#sk-container-id-5 div.sk-toggleable__content.fitted pre {\n",
       "  /* unfitted */\n",
       "  background-color: var(--sklearn-color-fitted-level-0);\n",
       "}\n",
       "\n",
       "#sk-container-id-5 input.sk-toggleable__control:checked~div.sk-toggleable__content {\n",
       "  /* Expand drop-down */\n",
       "  max-height: 200px;\n",
       "  max-width: 100%;\n",
       "  overflow: auto;\n",
       "}\n",
       "\n",
       "#sk-container-id-5 input.sk-toggleable__control:checked~label.sk-toggleable__label-arrow:before {\n",
       "  content: \"▾\";\n",
       "}\n",
       "\n",
       "/* Pipeline/ColumnTransformer-specific style */\n",
       "\n",
       "#sk-container-id-5 div.sk-label input.sk-toggleable__control:checked~label.sk-toggleable__label {\n",
       "  color: var(--sklearn-color-text);\n",
       "  background-color: var(--sklearn-color-unfitted-level-2);\n",
       "}\n",
       "\n",
       "#sk-container-id-5 div.sk-label.fitted input.sk-toggleable__control:checked~label.sk-toggleable__label {\n",
       "  background-color: var(--sklearn-color-fitted-level-2);\n",
       "}\n",
       "\n",
       "/* Estimator-specific style */\n",
       "\n",
       "/* Colorize estimator box */\n",
       "#sk-container-id-5 div.sk-estimator input.sk-toggleable__control:checked~label.sk-toggleable__label {\n",
       "  /* unfitted */\n",
       "  background-color: var(--sklearn-color-unfitted-level-2);\n",
       "}\n",
       "\n",
       "#sk-container-id-5 div.sk-estimator.fitted input.sk-toggleable__control:checked~label.sk-toggleable__label {\n",
       "  /* fitted */\n",
       "  background-color: var(--sklearn-color-fitted-level-2);\n",
       "}\n",
       "\n",
       "#sk-container-id-5 div.sk-label label.sk-toggleable__label,\n",
       "#sk-container-id-5 div.sk-label label {\n",
       "  /* The background is the default theme color */\n",
       "  color: var(--sklearn-color-text-on-default-background);\n",
       "}\n",
       "\n",
       "/* On hover, darken the color of the background */\n",
       "#sk-container-id-5 div.sk-label:hover label.sk-toggleable__label {\n",
       "  color: var(--sklearn-color-text);\n",
       "  background-color: var(--sklearn-color-unfitted-level-2);\n",
       "}\n",
       "\n",
       "/* Label box, darken color on hover, fitted */\n",
       "#sk-container-id-5 div.sk-label.fitted:hover label.sk-toggleable__label.fitted {\n",
       "  color: var(--sklearn-color-text);\n",
       "  background-color: var(--sklearn-color-fitted-level-2);\n",
       "}\n",
       "\n",
       "/* Estimator label */\n",
       "\n",
       "#sk-container-id-5 div.sk-label label {\n",
       "  font-family: monospace;\n",
       "  font-weight: bold;\n",
       "  display: inline-block;\n",
       "  line-height: 1.2em;\n",
       "}\n",
       "\n",
       "#sk-container-id-5 div.sk-label-container {\n",
       "  text-align: center;\n",
       "}\n",
       "\n",
       "/* Estimator-specific */\n",
       "#sk-container-id-5 div.sk-estimator {\n",
       "  font-family: monospace;\n",
       "  border: 1px dotted var(--sklearn-color-border-box);\n",
       "  border-radius: 0.25em;\n",
       "  box-sizing: border-box;\n",
       "  margin-bottom: 0.5em;\n",
       "  /* unfitted */\n",
       "  background-color: var(--sklearn-color-unfitted-level-0);\n",
       "}\n",
       "\n",
       "#sk-container-id-5 div.sk-estimator.fitted {\n",
       "  /* fitted */\n",
       "  background-color: var(--sklearn-color-fitted-level-0);\n",
       "}\n",
       "\n",
       "/* on hover */\n",
       "#sk-container-id-5 div.sk-estimator:hover {\n",
       "  /* unfitted */\n",
       "  background-color: var(--sklearn-color-unfitted-level-2);\n",
       "}\n",
       "\n",
       "#sk-container-id-5 div.sk-estimator.fitted:hover {\n",
       "  /* fitted */\n",
       "  background-color: var(--sklearn-color-fitted-level-2);\n",
       "}\n",
       "\n",
       "/* Specification for estimator info (e.g. \"i\" and \"?\") */\n",
       "\n",
       "/* Common style for \"i\" and \"?\" */\n",
       "\n",
       ".sk-estimator-doc-link,\n",
       "a:link.sk-estimator-doc-link,\n",
       "a:visited.sk-estimator-doc-link {\n",
       "  float: right;\n",
       "  font-size: smaller;\n",
       "  line-height: 1em;\n",
       "  font-family: monospace;\n",
       "  background-color: var(--sklearn-color-background);\n",
       "  border-radius: 1em;\n",
       "  height: 1em;\n",
       "  width: 1em;\n",
       "  text-decoration: none !important;\n",
       "  margin-left: 1ex;\n",
       "  /* unfitted */\n",
       "  border: var(--sklearn-color-unfitted-level-1) 1pt solid;\n",
       "  color: var(--sklearn-color-unfitted-level-1);\n",
       "}\n",
       "\n",
       ".sk-estimator-doc-link.fitted,\n",
       "a:link.sk-estimator-doc-link.fitted,\n",
       "a:visited.sk-estimator-doc-link.fitted {\n",
       "  /* fitted */\n",
       "  border: var(--sklearn-color-fitted-level-1) 1pt solid;\n",
       "  color: var(--sklearn-color-fitted-level-1);\n",
       "}\n",
       "\n",
       "/* On hover */\n",
       "div.sk-estimator:hover .sk-estimator-doc-link:hover,\n",
       ".sk-estimator-doc-link:hover,\n",
       "div.sk-label-container:hover .sk-estimator-doc-link:hover,\n",
       ".sk-estimator-doc-link:hover {\n",
       "  /* unfitted */\n",
       "  background-color: var(--sklearn-color-unfitted-level-3);\n",
       "  color: var(--sklearn-color-background);\n",
       "  text-decoration: none;\n",
       "}\n",
       "\n",
       "div.sk-estimator.fitted:hover .sk-estimator-doc-link.fitted:hover,\n",
       ".sk-estimator-doc-link.fitted:hover,\n",
       "div.sk-label-container:hover .sk-estimator-doc-link.fitted:hover,\n",
       ".sk-estimator-doc-link.fitted:hover {\n",
       "  /* fitted */\n",
       "  background-color: var(--sklearn-color-fitted-level-3);\n",
       "  color: var(--sklearn-color-background);\n",
       "  text-decoration: none;\n",
       "}\n",
       "\n",
       "/* Span, style for the box shown on hovering the info icon */\n",
       ".sk-estimator-doc-link span {\n",
       "  display: none;\n",
       "  z-index: 9999;\n",
       "  position: relative;\n",
       "  font-weight: normal;\n",
       "  right: .2ex;\n",
       "  padding: .5ex;\n",
       "  margin: .5ex;\n",
       "  width: min-content;\n",
       "  min-width: 20ex;\n",
       "  max-width: 50ex;\n",
       "  color: var(--sklearn-color-text);\n",
       "  box-shadow: 2pt 2pt 4pt #999;\n",
       "  /* unfitted */\n",
       "  background: var(--sklearn-color-unfitted-level-0);\n",
       "  border: .5pt solid var(--sklearn-color-unfitted-level-3);\n",
       "}\n",
       "\n",
       ".sk-estimator-doc-link.fitted span {\n",
       "  /* fitted */\n",
       "  background: var(--sklearn-color-fitted-level-0);\n",
       "  border: var(--sklearn-color-fitted-level-3);\n",
       "}\n",
       "\n",
       ".sk-estimator-doc-link:hover span {\n",
       "  display: block;\n",
       "}\n",
       "\n",
       "/* \"?\"-specific style due to the `<a>` HTML tag */\n",
       "\n",
       "#sk-container-id-5 a.estimator_doc_link {\n",
       "  float: right;\n",
       "  font-size: 1rem;\n",
       "  line-height: 1em;\n",
       "  font-family: monospace;\n",
       "  background-color: var(--sklearn-color-background);\n",
       "  border-radius: 1rem;\n",
       "  height: 1rem;\n",
       "  width: 1rem;\n",
       "  text-decoration: none;\n",
       "  /* unfitted */\n",
       "  color: var(--sklearn-color-unfitted-level-1);\n",
       "  border: var(--sklearn-color-unfitted-level-1) 1pt solid;\n",
       "}\n",
       "\n",
       "#sk-container-id-5 a.estimator_doc_link.fitted {\n",
       "  /* fitted */\n",
       "  border: var(--sklearn-color-fitted-level-1) 1pt solid;\n",
       "  color: var(--sklearn-color-fitted-level-1);\n",
       "}\n",
       "\n",
       "/* On hover */\n",
       "#sk-container-id-5 a.estimator_doc_link:hover {\n",
       "  /* unfitted */\n",
       "  background-color: var(--sklearn-color-unfitted-level-3);\n",
       "  color: var(--sklearn-color-background);\n",
       "  text-decoration: none;\n",
       "}\n",
       "\n",
       "#sk-container-id-5 a.estimator_doc_link.fitted:hover {\n",
       "  /* fitted */\n",
       "  background-color: var(--sklearn-color-fitted-level-3);\n",
       "}\n",
       "</style><div id=\"sk-container-id-5\" class=\"sk-top-container\"><div class=\"sk-text-repr-fallback\"><pre>RandomForestClassifier(oob_score=True, random_state=42)</pre><b>In a Jupyter environment, please rerun this cell to show the HTML representation or trust the notebook. <br />On GitHub, the HTML representation is unable to render, please try loading this page with nbviewer.org.</b></div><div class=\"sk-container\" hidden><div class=\"sk-item\"><div class=\"sk-estimator fitted sk-toggleable\"><input class=\"sk-toggleable__control sk-hidden--visually\" id=\"sk-estimator-id-5\" type=\"checkbox\" checked><label for=\"sk-estimator-id-5\" class=\"sk-toggleable__label fitted sk-toggleable__label-arrow fitted\">&nbsp;&nbsp;RandomForestClassifier<a class=\"sk-estimator-doc-link fitted\" rel=\"noreferrer\" target=\"_blank\" href=\"https://scikit-learn.org/1.4/modules/generated/sklearn.ensemble.RandomForestClassifier.html\">?<span>Documentation for RandomForestClassifier</span></a><span class=\"sk-estimator-doc-link fitted\">i<span>Fitted</span></span></label><div class=\"sk-toggleable__content fitted\"><pre>RandomForestClassifier(oob_score=True, random_state=42)</pre></div> </div></div></div></div>"
      ],
      "text/plain": [
       "RandomForestClassifier(oob_score=True, random_state=42)"
      ]
     },
     "execution_count": 96,
     "metadata": {},
     "output_type": "execute_result"
    }
   ],
   "source": [
    "new_train = reduced_df.sample(frac=0.7, random_state=0)\n",
    "new_test = reduced_df.drop(train.index)\n",
    "new_X_train = new_train.drop('death_yn', axis = 1)\n",
    "new_Y_train = new_train['death_yn']\n",
    "new_logModel = LogisticRegression()\n",
    "new_logModel.fit(new_X_train, new_Y_train)\n",
    "new_rfModel = RandomForestClassifier(n_estimators=100, oob_score=True, random_state=42)  # 100 trees in the forest\n",
    "new_rfModel.fit(new_X_train, new_Y_train)"
   ]
  },
  {
   "cell_type": "markdown",
   "metadata": {},
   "source": [
    "Now to test them using test split"
   ]
  },
  {
   "cell_type": "code",
   "execution_count": 97,
   "metadata": {},
   "outputs": [
    {
     "name": "stdout",
     "output_type": "stream",
     "text": [
      "Accuracy: 0.9858957219251336\n",
      "Confusion Matrix:\n",
      "[[11874   100]\n",
      " [  111  2875]]\n",
      "Precision: 0.9663865546218487\n",
      "Recall: 0.9628265237776289\n",
      "F1 Score: 0.9646032544875021\n"
     ]
    }
   ],
   "source": [
    "new_X_test = new_test.drop('death_yn', axis = 1)\n",
    "new_Y_test = new_test['death_yn']\n",
    "\n",
    "# Predict on the training set\n",
    "y_train_pred = new_logModel.predict(new_X_test)\n",
    "\n",
    "# Compute metrics\n",
    "accuracy = accuracy_score(new_Y_test, y_train_pred)\n",
    "conf_matrix = confusion_matrix(new_Y_test, y_train_pred)\n",
    "precision = precision_score(new_Y_test, y_train_pred)\n",
    "recall = recall_score(new_Y_test, y_train_pred)\n",
    "f1 = f1_score(new_Y_test, y_train_pred)\n",
    "\n",
    "# Print evaluation results\n",
    "print(f\"Accuracy: {accuracy}\")\n",
    "print(f\"Confusion Matrix:\\n{conf_matrix}\")\n",
    "print(f\"Precision: {precision}\")\n",
    "print(f\"Recall: {recall}\")\n",
    "print(f\"F1 Score: {f1}\")"
   ]
  },
  {
   "cell_type": "markdown",
   "metadata": {},
   "source": [
    "The logistic regression model performs about the same. It has a slightly lower accuracy and recall though so I ca't say that this version of the logistic regression model is improved."
   ]
  },
  {
   "cell_type": "code",
   "execution_count": 99,
   "metadata": {},
   "outputs": [
    {
     "name": "stdout",
     "output_type": "stream",
     "text": [
      "Accuracy: 0.9846256684491979\n",
      "Confusion Matrix:\n",
      "[[11861   113]\n",
      " [  117  2869]]\n",
      "Precision: 0.9621059691482227\n",
      "Recall: 0.9608171466845278\n",
      "F1 Score: 0.9614611260053619\n"
     ]
    }
   ],
   "source": [
    "y_train_pred = new_rfModel.predict(new_X_test)\n",
    "\n",
    "# Compute metrics\n",
    "accuracy = accuracy_score(new_Y_test, y_train_pred)\n",
    "conf_matrix = confusion_matrix(new_Y_test, y_train_pred)\n",
    "precision = precision_score(new_Y_test, y_train_pred)\n",
    "recall = recall_score(new_Y_test, y_train_pred)\n",
    "f1 = f1_score(new_Y_test, y_train_pred)\n",
    "\n",
    "# Print evaluation results\n",
    "print(f\"Accuracy: {accuracy}\")\n",
    "print(f\"Confusion Matrix:\\n{conf_matrix}\")\n",
    "print(f\"Precision: {precision}\")\n",
    "print(f\"Recall: {recall}\")\n",
    "print(f\"F1 Score: {f1}\")"
   ]
  },
  {
   "cell_type": "markdown",
   "metadata": {},
   "source": [
    "Once again this model performs almost exactly the same as the previous radom forest model but a very tiny bit worse. Oce again this is not improved."
   ]
  },
  {
   "cell_type": "markdown",
   "metadata": {},
   "source": [
    "#### Possible improvement 2"
   ]
  },
  {
   "cell_type": "markdown",
   "metadata": {},
   "source": [
    "My second idea is to create an ensemble model from the logistic regression and random forest models sinnce they were the highest performing."
   ]
  },
  {
   "cell_type": "markdown",
   "metadata": {},
   "source": [
    "I will use a stacking classifier to hopefully combine the stregths of both models."
   ]
  },
  {
   "cell_type": "code",
   "execution_count": 93,
   "metadata": {},
   "outputs": [
    {
     "name": "stderr",
     "output_type": "stream",
     "text": [
      "/Users/adamsouthwick/miniconda3/envs/data_an/lib/python3.11/site-packages/sklearn/linear_model/_logistic.py:469: ConvergenceWarning: lbfgs failed to converge (status=1):\n",
      "STOP: TOTAL NO. of ITERATIONS REACHED LIMIT.\n",
      "\n",
      "Increase the number of iterations (max_iter) or scale the data as shown in:\n",
      "    https://scikit-learn.org/stable/modules/preprocessing.html\n",
      "Please also refer to the documentation for alternative solver options:\n",
      "    https://scikit-learn.org/stable/modules/linear_model.html#logistic-regression\n",
      "  n_iter_i = _check_optimize_result(\n",
      "/Users/adamsouthwick/miniconda3/envs/data_an/lib/python3.11/site-packages/sklearn/linear_model/_logistic.py:469: ConvergenceWarning: lbfgs failed to converge (status=1):\n",
      "STOP: TOTAL NO. of ITERATIONS REACHED LIMIT.\n",
      "\n",
      "Increase the number of iterations (max_iter) or scale the data as shown in:\n",
      "    https://scikit-learn.org/stable/modules/preprocessing.html\n",
      "Please also refer to the documentation for alternative solver options:\n",
      "    https://scikit-learn.org/stable/modules/linear_model.html#logistic-regression\n",
      "  n_iter_i = _check_optimize_result(\n",
      "/Users/adamsouthwick/miniconda3/envs/data_an/lib/python3.11/site-packages/sklearn/linear_model/_logistic.py:469: ConvergenceWarning: lbfgs failed to converge (status=1):\n",
      "STOP: TOTAL NO. of ITERATIONS REACHED LIMIT.\n",
      "\n",
      "Increase the number of iterations (max_iter) or scale the data as shown in:\n",
      "    https://scikit-learn.org/stable/modules/preprocessing.html\n",
      "Please also refer to the documentation for alternative solver options:\n",
      "    https://scikit-learn.org/stable/modules/linear_model.html#logistic-regression\n",
      "  n_iter_i = _check_optimize_result(\n",
      "/Users/adamsouthwick/miniconda3/envs/data_an/lib/python3.11/site-packages/sklearn/linear_model/_logistic.py:469: ConvergenceWarning: lbfgs failed to converge (status=1):\n",
      "STOP: TOTAL NO. of ITERATIONS REACHED LIMIT.\n",
      "\n",
      "Increase the number of iterations (max_iter) or scale the data as shown in:\n",
      "    https://scikit-learn.org/stable/modules/preprocessing.html\n",
      "Please also refer to the documentation for alternative solver options:\n",
      "    https://scikit-learn.org/stable/modules/linear_model.html#logistic-regression\n",
      "  n_iter_i = _check_optimize_result(\n",
      "/Users/adamsouthwick/miniconda3/envs/data_an/lib/python3.11/site-packages/sklearn/linear_model/_logistic.py:469: ConvergenceWarning: lbfgs failed to converge (status=1):\n",
      "STOP: TOTAL NO. of ITERATIONS REACHED LIMIT.\n",
      "\n",
      "Increase the number of iterations (max_iter) or scale the data as shown in:\n",
      "    https://scikit-learn.org/stable/modules/preprocessing.html\n",
      "Please also refer to the documentation for alternative solver options:\n",
      "    https://scikit-learn.org/stable/modules/linear_model.html#logistic-regression\n",
      "  n_iter_i = _check_optimize_result(\n",
      "/Users/adamsouthwick/miniconda3/envs/data_an/lib/python3.11/site-packages/sklearn/linear_model/_logistic.py:469: ConvergenceWarning: lbfgs failed to converge (status=1):\n",
      "STOP: TOTAL NO. of ITERATIONS REACHED LIMIT.\n",
      "\n",
      "Increase the number of iterations (max_iter) or scale the data as shown in:\n",
      "    https://scikit-learn.org/stable/modules/preprocessing.html\n",
      "Please also refer to the documentation for alternative solver options:\n",
      "    https://scikit-learn.org/stable/modules/linear_model.html#logistic-regression\n",
      "  n_iter_i = _check_optimize_result(\n"
     ]
    }
   ],
   "source": [
    "from sklearn.ensemble import StackingClassifier\n",
    "\n",
    "# Define the base learners\n",
    "estimators = [\n",
    "    ('logModel', logModel),\n",
    "    ('rfModel', rfModel)\n",
    "]\n",
    "\n",
    "# Create the stacking model\n",
    "stackModel = StackingClassifier(\n",
    "    estimators=estimators,\n",
    "    final_estimator=LogisticRegression()\n",
    ")\n",
    "\n",
    "# Train the stacking model\n",
    "stackModel.fit(X_train, Y_train.values.ravel())\n",
    "\n",
    "# Predict using the stacking model\n",
    "final_predictions = stackModel.predict(X_test)"
   ]
  },
  {
   "cell_type": "code",
   "execution_count": 94,
   "metadata": {},
   "outputs": [
    {
     "name": "stdout",
     "output_type": "stream",
     "text": [
      "Accuracy: 0.9912913945227455\n",
      "Confusion Matrix:\n",
      "[[27786   124]\n",
      " [  180  6818]]\n",
      "Precision: 0.9821377124747911\n",
      "Recall: 0.9742783652472135\n",
      "F1 Score: 0.9781922525107604\n"
     ]
    }
   ],
   "source": [
    "# Predict on the training set\n",
    "y_train_pred = stackModel.predict(X_train)\n",
    "\n",
    "# Compute metrics\n",
    "accuracy = accuracy_score(Y_train, y_train_pred)\n",
    "conf_matrix = confusion_matrix(Y_train, y_train_pred)\n",
    "precision = precision_score(Y_train, y_train_pred)\n",
    "recall = recall_score(Y_train, y_train_pred)\n",
    "f1 = f1_score(Y_train, y_train_pred)\n",
    "\n",
    "# Print evaluation results\n",
    "print(f\"Accuracy: {accuracy}\")\n",
    "print(f\"Confusion Matrix:\\n{conf_matrix}\")\n",
    "print(f\"Precision: {precision}\")\n",
    "print(f\"Recall: {recall}\")\n",
    "print(f\"F1 Score: {f1}\")"
   ]
  },
  {
   "cell_type": "markdown",
   "metadata": {},
   "source": [
    "It performs even better than the 2  estimators did seperately on the training split. Let’s check on the test split."
   ]
  },
  {
   "cell_type": "code",
   "execution_count": 100,
   "metadata": {},
   "outputs": [
    {
     "name": "stdout",
     "output_type": "stream",
     "text": [
      "Accuracy: 0.9865641711229947\n",
      "Confusion Matrix:\n",
      "[[11879    95]\n",
      " [  106  2880]]\n",
      "Precision: 0.9680672268907563\n",
      "Recall: 0.9645010046885466\n",
      "F1 Score: 0.9662808253648717\n"
     ]
    }
   ],
   "source": [
    "y_train_pred = stackModel.predict(X_test)\n",
    "\n",
    "# Compute metrics\n",
    "accuracy = accuracy_score(Y_test, y_train_pred)\n",
    "conf_matrix = confusion_matrix(Y_test, y_train_pred)\n",
    "precision = precision_score(Y_test, y_train_pred)\n",
    "recall = recall_score(Y_test, y_train_pred)\n",
    "f1 = f1_score(Y_test, y_train_pred)\n",
    "\n",
    "# Print evaluation results\n",
    "print(f\"Accuracy: {accuracy}\")\n",
    "print(f\"Confusion Matrix:\\n{conf_matrix}\")\n",
    "print(f\"Precision: {precision}\")\n",
    "print(f\"Recall: {recall}\")\n",
    "print(f\"F1 Score: {f1}\")"
   ]
  },
  {
   "cell_type": "markdown",
   "metadata": {},
   "source": [
    "While the performace improvement isn't quite as high as when testing on the training split, it is still a little bit higher tha the estimators were individually. This does show that this new model memorizes the data a bit, but it's performance on the unseen test data still shows that it can predict new data very slightly better than the 2 estimators could seperately.\n",
    "\n",
    "It is a very slight improvement, but since we started with over 98% accuracy and 96% in other metrics i'm satisfied with even this small bump in performance."
   ]
  }
 ],
 "metadata": {
  "kernelspec": {
   "display_name": "Python 3 (ipykernel)",
   "language": "python",
   "name": "python3"
  },
  "language_info": {
   "codemirror_mode": {
    "name": "ipython",
    "version": 3
   },
   "file_extension": ".py",
   "mimetype": "text/x-python",
   "name": "python",
   "nbconvert_exporter": "python",
   "pygments_lexer": "ipython3",
   "version": "3.11.7"
  }
 },
 "nbformat": 4,
 "nbformat_minor": 4
}
